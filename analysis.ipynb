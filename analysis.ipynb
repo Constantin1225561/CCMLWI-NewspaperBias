{
 "cells": [
  {
   "cell_type": "code",
   "execution_count": 87,
   "metadata": {
    "collapsed": false,
    "deletable": true,
    "editable": true
   },
   "outputs": [],
   "source": [
    "import pandas as pd\n",
    "df = pd.read_csv('reddit.csv')"
   ]
  },
  {
   "cell_type": "code",
   "execution_count": 88,
   "metadata": {
    "collapsed": true
   },
   "outputs": [],
   "source": [
    "import numpy as np\n",
    "#import datetime\n",
    "from vaderSentiment.vaderSentiment import SentimentIntensityAnalyzer\n",
    "analyzer = SentimentIntensityAnalyzer()\n",
    "\n",
    "import csv"
   ]
  },
  {
   "cell_type": "code",
   "execution_count": 91,
   "metadata": {
    "collapsed": false,
    "deletable": true,
    "editable": true
   },
   "outputs": [
    {
     "name": "stdout",
     "output_type": "stream",
     "text": [
      "['02varvara.wordpress.com' '0mac.com' '1.bp.blogspot.com' ..., 'zwire.com'\n",
      " 'zyalt.livejournal.com' 'zythophile.wordpress.com']\n",
      "Domain: 02varvara.wordpress.com\n",
      "Domain: 0mac.com\n",
      "Domain: 1.bp.blogspot.com\n",
      "Domain: 1.usa.gov\n",
      "Domain: 1000memories.com\n",
      "Domain: 100abdominalexercises.com\n",
      "Domain: 100r.org\n",
      "Domain: 101greatgoals.com\n",
      "Domain: 10news.com\n",
      "Domain: 10news.dk\n",
      "Domain: 10tv.com\n",
      "Domain: 11alive.com\n",
      "Domain: 11logic.wordpress.com\n",
      "Domain: 12entry.com\n",
      "Domain: 12newsnow.com\n",
      "Domain: 1360sports.com\n",
      "Domain: 13abc.com\n",
      "Domain: 13above.com\n",
      "Domain: 13wham.com\n",
      "Domain: 143cars.com\n",
      "Domain: 14juillet.paris.fr\n",
      "Domain: 14news.com\n",
      "Domain: 15min.lt\n",
      "Domain: 1888pressrelease.com\n",
      "Domain: 1strank.in\n",
      "Domain: 1sun4all.com\n",
      "Domain: 1ta.blogfa.com\n",
      "Domain: 1tvnews.af\n",
      "Domain: 1up.com\n",
      "Domain: 1viral.co\n",
      "Domain: 2008beijingolimpics.com\n",
      "Domain: 2009hopes.com\n",
      "Domain: 2012indyinfo.com\n",
      "Domain: 205.186.133.84\n",
      "Domain: 209.85.135.104\n",
      "Domain: 209.85.229.132\n",
      "Domain: 20min.ch\n",
      "Domain: 20minutos.tv\n",
      "Domain: 212.77.1.245\n",
      "Domain: 213.251.145.96\n",
      "Domain: 21cb.net\n",
      "Domain: 21stcenturywire.com\n",
      "Domain: 234next.com\n",
      "Domain: 236.com\n",
      "Domain: 24.media.tumblr.com\n",
      "Domain: 247giving.com\n",
      "Domain: 247wallst.com\n",
      "Domain: 24oranges.nl\n",
      "Domain: 24today.net\n",
      "Domain: 24tv.ua\n",
      "Domain: 24x7daysnews.com\n",
      "Domain: 2leep.com\n",
      "Domain: 2ndcouncilhouse.co.uk\n",
      "Domain: 2oceansvibe.com\n",
      "Domain: 2parse.com\n",
      "Domain: 2point6billion.com\n",
      "Domain: 3.bp.blogspot.com\n",
      "Domain: 30.media.tumblr.com\n",
      "Domain: 30mag.com\n",
      "Domain: 30yearminimum.com\n",
      "Domain: 345.tw\n",
      "Domain: 360cities.net\n",
      "Domain: 360hdmi.com\n",
      "Domain: 360vibezblog.com\n",
      "Domain: 365gay.com\n",
      "Domain: 365worldnews.com\n",
      "Domain: 38degrees.org.uk\n",
      "Domain: 38north.org\n",
      "Domain: 39online.com\n",
      "Domain: 3aw.com.au\n",
      "Domain: 3blmedia.com\n",
      "Domain: 3dprint.com\n",
      "Domain: 3dprintingindustry.com\n",
      "Domain: 3news.co.nz\n",
      "Domain: 3quarksdaily.com\n",
      "Domain: 4.bp.blogspot.com\n",
      "Domain: 4029tv.com\n",
      "Domain: 419thenigerianscam.com\n",
      "Domain: 420butts.com\n",
      "Domain: 420deku.blogspot.com\n",
      "Domain: 46.59.1.2\n",
      "Domain: 4closurefraud.org\n",
      "Domain: 4unews.com\n",
      "Domain: 4wheeledlefty.com\n",
      "Domain: 4yous.info\n",
      "Domain: 50skyshades.com\n",
      "Domain: 52.thelastoutpost.com\n",
      "Domain: 5280.com\n",
      "Domain: 570news.com\n",
      "Domain: 5cc.blogspot.com\n",
      "Domain: 5minutesformom.com\n",
      "Domain: 5pillarz.com\n",
      "Domain: 6.media.tumblr.com\n",
      "Domain: 60abc.com\n",
      "Domain: 60yearsofnakba.org\n",
      "Domain: 610cktb.com\n",
      "Domain: 64.233.179.104\n",
      "Domain: 66.102.9.104\n",
      "Domain: 66.111.34.180\n",
      "Domain: 680news.com\n",
      "Domain: 702.co.za\n",
      "Domain: 707creditscore.com\n",
      "Domain: 72.14.203.132\n",
      "Domain: 74.125.153.132\n",
      "Domain: 74.125.39.132\n",
      "Domain: 74.125.77.132\n",
      "Domain: 7billionactions.org\n",
      "Domain: 7days.ae\n",
      "Domain: 7daysinabudhabi.com\n",
      "Domain: 7daysindubai.com\n",
      "Domain: 7pmproject.com.au\n",
      "Domain: 7rl.in\n",
      "Domain: 850koa.com\n",
      "Domain: 853blog.wordpress.com\n",
      "Domain: 88.80.13.160\n",
      "Domain: 88.80.16.63\n",
      "Domain: 88.80.21.12\n",
      "Domain: 880therevolution.com\n",
      "Domain: 8ak.in\n",
      "Domain: 9-11domorethenneverforget-stopislam.blogspot.com\n",
      "Domain: 90cut.com\n",
      "Domain: 911blogger.com\n",
      "Domain: 911forum.org.uk\n",
      "Domain: 911summary.com\n",
      "Domain: 911towersmemorial.com\n",
      "Domain: 911truth.org\n",
      "Domain: 911truthnews.com\n",
      "Domain: 911video.de\n",
      "Domain: 911weknow.com\n",
      "Domain: 931jackfm.cbslocal.com\n",
      "Domain: 97.74.205.113\n",
      "Domain: 970wfla.com\n",
      "Domain: 972mag.com\n",
      "Domain: 9hues.com\n",
      "Domain: 9issues.com\n",
      "Domain: 9janews2.blogspot.com.es\n",
      "Domain: 9janews2.blogspot.nl\n",
      "Domain: 9janinja.com.ng\n",
      "Domain: 9news.com\n",
      "Domain: 9news.com.au\n",
      "Domain: 9to5google.com\n",
      "Domain: 9to5mac.com\n",
      "Domain: [http\n"
     ]
    },
    {
     "ename": "error",
     "evalue": "unterminated character set at position 0",
     "output_type": "error",
     "traceback": [
      "\u001b[0;31m---------------------------------------------------------------------------\u001b[0m",
      "\u001b[0;31merror\u001b[0m                                     Traceback (most recent call last)",
      "\u001b[0;32m<ipython-input-91-4b1caec084ce>\u001b[0m in \u001b[0;36m<module>\u001b[0;34m()\u001b[0m\n\u001b[1;32m      8\u001b[0m     \u001b[0;32mfor\u001b[0m \u001b[0mdomain\u001b[0m \u001b[0;32min\u001b[0m \u001b[0munique\u001b[0m\u001b[0;34m:\u001b[0m\u001b[0;34m\u001b[0m\u001b[0m\n\u001b[1;32m      9\u001b[0m         \u001b[0mprint\u001b[0m\u001b[0;34m(\u001b[0m\u001b[0;34m\"Domain:\"\u001b[0m\u001b[0;34m,\u001b[0m \u001b[0mdomain\u001b[0m\u001b[0;34m)\u001b[0m\u001b[0;34m\u001b[0m\u001b[0m\n\u001b[0;32m---> 10\u001b[0;31m         \u001b[0mselection\u001b[0m \u001b[0;34m=\u001b[0m \u001b[0mdf\u001b[0m\u001b[0;34m[\u001b[0m\u001b[0mdf\u001b[0m\u001b[0;34m[\u001b[0m\u001b[0;34m\"Domain\"\u001b[0m\u001b[0;34m]\u001b[0m\u001b[0;34m.\u001b[0m\u001b[0mstr\u001b[0m\u001b[0;34m.\u001b[0m\u001b[0mcontains\u001b[0m\u001b[0;34m(\u001b[0m\u001b[0mdomain\u001b[0m\u001b[0;34m)\u001b[0m\u001b[0;34m]\u001b[0m\u001b[0;34m\u001b[0m\u001b[0m\n\u001b[0m\u001b[1;32m     11\u001b[0m         \u001b[0mindices\u001b[0m \u001b[0;34m=\u001b[0m \u001b[0;34m[\u001b[0m\u001b[0;34m]\u001b[0m\u001b[0;34m\u001b[0m\u001b[0m\n\u001b[1;32m     12\u001b[0m         \u001b[0mvalues\u001b[0m \u001b[0;34m=\u001b[0m \u001b[0;34m[\u001b[0m\u001b[0;34m]\u001b[0m\u001b[0;34m\u001b[0m\u001b[0m\n",
      "\u001b[0;32m/usr/local/lib/python3.5/dist-packages/pandas/core/strings.py\u001b[0m in \u001b[0;36mcontains\u001b[0;34m(self, pat, case, flags, na, regex)\u001b[0m\n\u001b[1;32m   1492\u001b[0m     \u001b[0;32mdef\u001b[0m \u001b[0mcontains\u001b[0m\u001b[0;34m(\u001b[0m\u001b[0mself\u001b[0m\u001b[0;34m,\u001b[0m \u001b[0mpat\u001b[0m\u001b[0;34m,\u001b[0m \u001b[0mcase\u001b[0m\u001b[0;34m=\u001b[0m\u001b[0;32mTrue\u001b[0m\u001b[0;34m,\u001b[0m \u001b[0mflags\u001b[0m\u001b[0;34m=\u001b[0m\u001b[0;36m0\u001b[0m\u001b[0;34m,\u001b[0m \u001b[0mna\u001b[0m\u001b[0;34m=\u001b[0m\u001b[0mnp\u001b[0m\u001b[0;34m.\u001b[0m\u001b[0mnan\u001b[0m\u001b[0;34m,\u001b[0m \u001b[0mregex\u001b[0m\u001b[0;34m=\u001b[0m\u001b[0;32mTrue\u001b[0m\u001b[0;34m)\u001b[0m\u001b[0;34m:\u001b[0m\u001b[0;34m\u001b[0m\u001b[0m\n\u001b[1;32m   1493\u001b[0m         result = str_contains(self._data, pat, case=case, flags=flags, na=na,\n\u001b[0;32m-> 1494\u001b[0;31m                               regex=regex)\n\u001b[0m\u001b[1;32m   1495\u001b[0m         \u001b[0;32mreturn\u001b[0m \u001b[0mself\u001b[0m\u001b[0;34m.\u001b[0m\u001b[0m_wrap_result\u001b[0m\u001b[0;34m(\u001b[0m\u001b[0mresult\u001b[0m\u001b[0;34m)\u001b[0m\u001b[0;34m\u001b[0m\u001b[0m\n\u001b[1;32m   1496\u001b[0m \u001b[0;34m\u001b[0m\u001b[0m\n",
      "\u001b[0;32m/usr/local/lib/python3.5/dist-packages/pandas/core/strings.py\u001b[0m in \u001b[0;36mstr_contains\u001b[0;34m(arr, pat, case, flags, na, regex)\u001b[0m\n\u001b[1;32m    235\u001b[0m             \u001b[0mflags\u001b[0m \u001b[0;34m|=\u001b[0m \u001b[0mre\u001b[0m\u001b[0;34m.\u001b[0m\u001b[0mIGNORECASE\u001b[0m\u001b[0;34m\u001b[0m\u001b[0m\n\u001b[1;32m    236\u001b[0m \u001b[0;34m\u001b[0m\u001b[0m\n\u001b[0;32m--> 237\u001b[0;31m         \u001b[0mregex\u001b[0m \u001b[0;34m=\u001b[0m \u001b[0mre\u001b[0m\u001b[0;34m.\u001b[0m\u001b[0mcompile\u001b[0m\u001b[0;34m(\u001b[0m\u001b[0mpat\u001b[0m\u001b[0;34m,\u001b[0m \u001b[0mflags\u001b[0m\u001b[0;34m=\u001b[0m\u001b[0mflags\u001b[0m\u001b[0;34m)\u001b[0m\u001b[0;34m\u001b[0m\u001b[0m\n\u001b[0m\u001b[1;32m    238\u001b[0m \u001b[0;34m\u001b[0m\u001b[0m\n\u001b[1;32m    239\u001b[0m         \u001b[0;32mif\u001b[0m \u001b[0mregex\u001b[0m\u001b[0;34m.\u001b[0m\u001b[0mgroups\u001b[0m \u001b[0;34m>\u001b[0m \u001b[0;36m0\u001b[0m\u001b[0;34m:\u001b[0m\u001b[0;34m\u001b[0m\u001b[0m\n",
      "\u001b[0;32m/usr/lib/python3.5/re.py\u001b[0m in \u001b[0;36mcompile\u001b[0;34m(pattern, flags)\u001b[0m\n\u001b[1;32m    222\u001b[0m \u001b[0;32mdef\u001b[0m \u001b[0mcompile\u001b[0m\u001b[0;34m(\u001b[0m\u001b[0mpattern\u001b[0m\u001b[0;34m,\u001b[0m \u001b[0mflags\u001b[0m\u001b[0;34m=\u001b[0m\u001b[0;36m0\u001b[0m\u001b[0;34m)\u001b[0m\u001b[0;34m:\u001b[0m\u001b[0;34m\u001b[0m\u001b[0m\n\u001b[1;32m    223\u001b[0m     \u001b[0;34m\"Compile a regular expression pattern, returning a pattern object.\"\u001b[0m\u001b[0;34m\u001b[0m\u001b[0m\n\u001b[0;32m--> 224\u001b[0;31m     \u001b[0;32mreturn\u001b[0m \u001b[0m_compile\u001b[0m\u001b[0;34m(\u001b[0m\u001b[0mpattern\u001b[0m\u001b[0;34m,\u001b[0m \u001b[0mflags\u001b[0m\u001b[0;34m)\u001b[0m\u001b[0;34m\u001b[0m\u001b[0m\n\u001b[0m\u001b[1;32m    225\u001b[0m \u001b[0;34m\u001b[0m\u001b[0m\n\u001b[1;32m    226\u001b[0m \u001b[0;32mdef\u001b[0m \u001b[0mpurge\u001b[0m\u001b[0;34m(\u001b[0m\u001b[0;34m)\u001b[0m\u001b[0;34m:\u001b[0m\u001b[0;34m\u001b[0m\u001b[0m\n",
      "\u001b[0;32m/usr/lib/python3.5/re.py\u001b[0m in \u001b[0;36m_compile\u001b[0;34m(pattern, flags)\u001b[0m\n\u001b[1;32m    291\u001b[0m     \u001b[0;32mif\u001b[0m \u001b[0;32mnot\u001b[0m \u001b[0msre_compile\u001b[0m\u001b[0;34m.\u001b[0m\u001b[0misstring\u001b[0m\u001b[0;34m(\u001b[0m\u001b[0mpattern\u001b[0m\u001b[0;34m)\u001b[0m\u001b[0;34m:\u001b[0m\u001b[0;34m\u001b[0m\u001b[0m\n\u001b[1;32m    292\u001b[0m         \u001b[0;32mraise\u001b[0m \u001b[0mTypeError\u001b[0m\u001b[0;34m(\u001b[0m\u001b[0;34m\"first argument must be string or compiled pattern\"\u001b[0m\u001b[0;34m)\u001b[0m\u001b[0;34m\u001b[0m\u001b[0m\n\u001b[0;32m--> 293\u001b[0;31m     \u001b[0mp\u001b[0m \u001b[0;34m=\u001b[0m \u001b[0msre_compile\u001b[0m\u001b[0;34m.\u001b[0m\u001b[0mcompile\u001b[0m\u001b[0;34m(\u001b[0m\u001b[0mpattern\u001b[0m\u001b[0;34m,\u001b[0m \u001b[0mflags\u001b[0m\u001b[0;34m)\u001b[0m\u001b[0;34m\u001b[0m\u001b[0m\n\u001b[0m\u001b[1;32m    294\u001b[0m     \u001b[0;32mif\u001b[0m \u001b[0;32mnot\u001b[0m \u001b[0;34m(\u001b[0m\u001b[0mflags\u001b[0m \u001b[0;34m&\u001b[0m \u001b[0mDEBUG\u001b[0m\u001b[0;34m)\u001b[0m\u001b[0;34m:\u001b[0m\u001b[0;34m\u001b[0m\u001b[0m\n\u001b[1;32m    295\u001b[0m         \u001b[0;32mif\u001b[0m \u001b[0mlen\u001b[0m\u001b[0;34m(\u001b[0m\u001b[0m_cache\u001b[0m\u001b[0;34m)\u001b[0m \u001b[0;34m>=\u001b[0m \u001b[0m_MAXCACHE\u001b[0m\u001b[0;34m:\u001b[0m\u001b[0;34m\u001b[0m\u001b[0m\n",
      "\u001b[0;32m/usr/lib/python3.5/sre_compile.py\u001b[0m in \u001b[0;36mcompile\u001b[0;34m(p, flags)\u001b[0m\n\u001b[1;32m    534\u001b[0m     \u001b[0;32mif\u001b[0m \u001b[0misstring\u001b[0m\u001b[0;34m(\u001b[0m\u001b[0mp\u001b[0m\u001b[0;34m)\u001b[0m\u001b[0;34m:\u001b[0m\u001b[0;34m\u001b[0m\u001b[0m\n\u001b[1;32m    535\u001b[0m         \u001b[0mpattern\u001b[0m \u001b[0;34m=\u001b[0m \u001b[0mp\u001b[0m\u001b[0;34m\u001b[0m\u001b[0m\n\u001b[0;32m--> 536\u001b[0;31m         \u001b[0mp\u001b[0m \u001b[0;34m=\u001b[0m \u001b[0msre_parse\u001b[0m\u001b[0;34m.\u001b[0m\u001b[0mparse\u001b[0m\u001b[0;34m(\u001b[0m\u001b[0mp\u001b[0m\u001b[0;34m,\u001b[0m \u001b[0mflags\u001b[0m\u001b[0;34m)\u001b[0m\u001b[0;34m\u001b[0m\u001b[0m\n\u001b[0m\u001b[1;32m    537\u001b[0m     \u001b[0;32melse\u001b[0m\u001b[0;34m:\u001b[0m\u001b[0;34m\u001b[0m\u001b[0m\n\u001b[1;32m    538\u001b[0m         \u001b[0mpattern\u001b[0m \u001b[0;34m=\u001b[0m \u001b[0;32mNone\u001b[0m\u001b[0;34m\u001b[0m\u001b[0m\n",
      "\u001b[0;32m/usr/lib/python3.5/sre_parse.py\u001b[0m in \u001b[0;36mparse\u001b[0;34m(str, flags, pattern)\u001b[0m\n\u001b[1;32m    827\u001b[0m     \u001b[0mpattern\u001b[0m\u001b[0;34m.\u001b[0m\u001b[0mstr\u001b[0m \u001b[0;34m=\u001b[0m \u001b[0mstr\u001b[0m\u001b[0;34m\u001b[0m\u001b[0m\n\u001b[1;32m    828\u001b[0m \u001b[0;34m\u001b[0m\u001b[0m\n\u001b[0;32m--> 829\u001b[0;31m     \u001b[0mp\u001b[0m \u001b[0;34m=\u001b[0m \u001b[0m_parse_sub\u001b[0m\u001b[0;34m(\u001b[0m\u001b[0msource\u001b[0m\u001b[0;34m,\u001b[0m \u001b[0mpattern\u001b[0m\u001b[0;34m,\u001b[0m \u001b[0;36m0\u001b[0m\u001b[0;34m)\u001b[0m\u001b[0;34m\u001b[0m\u001b[0m\n\u001b[0m\u001b[1;32m    830\u001b[0m     \u001b[0mp\u001b[0m\u001b[0;34m.\u001b[0m\u001b[0mpattern\u001b[0m\u001b[0;34m.\u001b[0m\u001b[0mflags\u001b[0m \u001b[0;34m=\u001b[0m \u001b[0mfix_flags\u001b[0m\u001b[0;34m(\u001b[0m\u001b[0mstr\u001b[0m\u001b[0;34m,\u001b[0m \u001b[0mp\u001b[0m\u001b[0;34m.\u001b[0m\u001b[0mpattern\u001b[0m\u001b[0;34m.\u001b[0m\u001b[0mflags\u001b[0m\u001b[0;34m)\u001b[0m\u001b[0;34m\u001b[0m\u001b[0m\n\u001b[1;32m    831\u001b[0m \u001b[0;34m\u001b[0m\u001b[0m\n",
      "\u001b[0;32m/usr/lib/python3.5/sre_parse.py\u001b[0m in \u001b[0;36m_parse_sub\u001b[0;34m(source, state, nested)\u001b[0m\n\u001b[1;32m    435\u001b[0m     \u001b[0mstart\u001b[0m \u001b[0;34m=\u001b[0m \u001b[0msource\u001b[0m\u001b[0;34m.\u001b[0m\u001b[0mtell\u001b[0m\u001b[0;34m(\u001b[0m\u001b[0;34m)\u001b[0m\u001b[0;34m\u001b[0m\u001b[0m\n\u001b[1;32m    436\u001b[0m     \u001b[0;32mwhile\u001b[0m \u001b[0;32mTrue\u001b[0m\u001b[0;34m:\u001b[0m\u001b[0;34m\u001b[0m\u001b[0m\n\u001b[0;32m--> 437\u001b[0;31m         \u001b[0mitemsappend\u001b[0m\u001b[0;34m(\u001b[0m\u001b[0m_parse\u001b[0m\u001b[0;34m(\u001b[0m\u001b[0msource\u001b[0m\u001b[0;34m,\u001b[0m \u001b[0mstate\u001b[0m\u001b[0;34m)\u001b[0m\u001b[0;34m)\u001b[0m\u001b[0;34m\u001b[0m\u001b[0m\n\u001b[0m\u001b[1;32m    438\u001b[0m         \u001b[0;32mif\u001b[0m \u001b[0;32mnot\u001b[0m \u001b[0msourcematch\u001b[0m\u001b[0;34m(\u001b[0m\u001b[0;34m\"|\"\u001b[0m\u001b[0;34m)\u001b[0m\u001b[0;34m:\u001b[0m\u001b[0;34m\u001b[0m\u001b[0m\n\u001b[1;32m    439\u001b[0m             \u001b[0;32mbreak\u001b[0m\u001b[0;34m\u001b[0m\u001b[0m\n",
      "\u001b[0;32m/usr/lib/python3.5/sre_parse.py\u001b[0m in \u001b[0;36m_parse\u001b[0;34m(source, state)\u001b[0m\n\u001b[1;32m    543\u001b[0m                 \u001b[0;32mif\u001b[0m \u001b[0mthis\u001b[0m \u001b[0;32mis\u001b[0m \u001b[0;32mNone\u001b[0m\u001b[0;34m:\u001b[0m\u001b[0;34m\u001b[0m\u001b[0m\n\u001b[1;32m    544\u001b[0m                     raise source.error(\"unterminated character set\",\n\u001b[0;32m--> 545\u001b[0;31m                                        source.tell() - here)\n\u001b[0m\u001b[1;32m    546\u001b[0m                 \u001b[0;32mif\u001b[0m \u001b[0mthis\u001b[0m \u001b[0;34m==\u001b[0m \u001b[0;34m\"]\"\u001b[0m \u001b[0;32mand\u001b[0m \u001b[0mset\u001b[0m \u001b[0;34m!=\u001b[0m \u001b[0mstart\u001b[0m\u001b[0;34m:\u001b[0m\u001b[0;34m\u001b[0m\u001b[0m\n\u001b[1;32m    547\u001b[0m                     \u001b[0;32mbreak\u001b[0m\u001b[0;34m\u001b[0m\u001b[0m\n",
      "\u001b[0;31merror\u001b[0m: unterminated character set at position 0"
     ]
    }
   ],
   "source": [
    "#Detect average sentiment per domain\n",
    "unique = np.unique(df[\"Domain\"])\n",
    "print(unique)\n",
    "\n",
    "with open('domains.csv', 'w', newline='') as csvfile:\n",
    "    writer = csv.writer(csvfile, quoting=csv.QUOTE_MINIMAL)\n",
    "    writer.writerow( ('Domain', 'Size', 'AverageSentiment') )\n",
    "    for domain in unique:\n",
    "        print(\"Domain:\", domain)\n",
    "        selection = df[df[\"Domain\"].str.contains(domain)]\n",
    "        indices = []\n",
    "        values = []\n",
    "        if len(selection) > 200:\n",
    "            for index, row in selection.iterrows():\n",
    "                value = analyzer.polarity_scores(row[\"Title\"])[\"compound\"]\n",
    "                values.append(value)\n",
    "                indices.append(index)\n",
    "            writer.writerow( (domain, len(values), np.mean(values)) )\n",
    "            print (domain, len(values), np.mean(values))"
   ]
  },
  {
   "cell_type": "code",
   "execution_count": 85,
   "metadata": {
    "collapsed": false
   },
   "outputs": [
    {
     "name": "stdout",
     "output_type": "stream",
     "text": [
      "bbc.com 13 0.306446295194\n",
      "bloomberg.com 13 -0.122186390533\n",
      "businessinsider.com 14 0.036290648379\n",
      "cnn.com 21 0.193568043603\n",
      "independent.co.uk 117 0.0802901618476\n",
      "reut.rs 64 0.234534858452\n",
      "reuters.com 64 0.234165061733\n",
      "theguardian.com 52 -0.0239945726934\n"
     ]
    }
   ],
   "source": [
    "#Select topic and compare average sentiment with general average sentiment for each domain\n",
    "topic = \"Trump\"\n",
    "domains = pd.read_csv('domains.csv')\n",
    "for domain in domains[\"Domain\"]:\n",
    "    selection = df[df[\"Domain\"].str.contains(domain)]\n",
    "    selection = selection[selection[\"Title\"].str.contains(topic)]\n",
    "\n",
    "    indices = []\n",
    "    values = []\n",
    "    if len(selection) > 10:\n",
    "        for index, row in selection.iterrows():\n",
    "            value = analyzer.polarity_scores(row[\"Title\"])[\"compound\"]\n",
    "            values.append(value)\n",
    "            indices.append(index)\n",
    "        value = domains[domains[\"Domain\"]==domain][\"AverageSentiment\"]\n",
    "        #print (value)\n",
    "        print( domain, len(values), np.mean(values) - float(value) )"
   ]
  },
  {
   "cell_type": "code",
   "execution_count": 86,
   "metadata": {
    "collapsed": false,
    "deletable": true,
    "editable": true
   },
   "outputs": [
    {
     "name": "stderr",
     "output_type": "stream",
     "text": [
      "/home/constantin/.local/lib/python3.5/site-packages/numpy/core/fromnumeric.py:2889: RuntimeWarning: Mean of empty slice.\n",
      "  out=out, **kwargs)\n",
      "/home/constantin/.local/lib/python3.5/site-packages/numpy/core/_methods.py:80: RuntimeWarning: invalid value encountered in double_scalars\n",
      "  ret = ret.dtype.type(ret / rcount)\n"
     ]
    },
    {
     "data": {
      "image/png": "[encoded data removed]",
      "text/plain": [
       "<matplotlib.figure.Figure at 0x7f5f796eeac8>"
      ]
     },
     "metadata": {},
     "output_type": "display_data"
    },
    {
     "data": {
      "image/png": "[encoded data removed]",
      "text/plain": [
       "<matplotlib.figure.Figure at 0x7f5f8815eba8>"
      ]
     },
     "metadata": {},
     "output_type": "display_data"
    }
   ],
   "source": [
    "import statsmodels.api as sm\n",
    "import matplotlib.pyplot as plt\n",
    "lowess = sm.nonparametric.lowess(values, indices, frac=0.1)\n",
    "plt.plot(lowess[:, 0], lowess[:, 1])\n",
    "plt.ylabel('sentiment')\n",
    "plt.show()\n",
    "\n",
    "plt.plot(indices, values)\n",
    "plt.ylabel('sentiment')\n",
    "plt.show()"
   ]
  }
 ],
 "metadata": {
  "kernelspec": {
   "display_name": "Python 3",
   "language": "python",
   "name": "python3"
  },
  "language_info": {
   "codemirror_mode": {
    "name": "ipython",
    "version": 3
   },
   "file_extension": ".py",
   "mimetype": "text/x-python",
   "name": "python",
   "nbconvert_exporter": "python",
   "pygments_lexer": "ipython3",
   "version": "3.5.2"
  }
 },
 "nbformat": 4,
 "nbformat_minor": 2
}
