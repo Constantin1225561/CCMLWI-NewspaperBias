{
 "cells": [
  {
   "cell_type": "code",
   "execution_count": 1,
   "metadata": {
    "collapsed": false
   },
   "outputs": [],
   "source": [
    "import pandas as pd\n",
    "#import spacy\n",
    "import re\n",
    "\n",
    "import numpy as np\n",
    "import lda\n",
    "import lda.datasets\n",
    "from sklearn.feature_extraction.text import CountVectorizer"
   ]
  },
  {
   "cell_type": "code",
   "execution_count": 2,
   "metadata": {
    "collapsed": true
   },
   "outputs": [],
   "source": [
    "from nltk.corpus import stopwords"
   ]
  },
  {
   "cell_type": "code",
   "execution_count": 3,
   "metadata": {
    "collapsed": true
   },
   "outputs": [],
   "source": [
    "#nlp = spacy.load('en')"
   ]
  },
  {
   "cell_type": "code",
   "execution_count": 3,
   "metadata": {
    "collapsed": true
   },
   "outputs": [],
   "source": [
    "data = pd.read_csv('data/reddit2017.csv')"
   ]
  },
  {
   "cell_type": "code",
   "execution_count": 4,
   "metadata": {
    "collapsed": false
   },
   "outputs": [],
   "source": [
    "data['Created'] = pd.to_numeric(data['Created'],downcast='integer')"
   ]
  },
  {
   "cell_type": "code",
   "execution_count": 5,
   "metadata": {
    "collapsed": false
   },
   "outputs": [],
   "source": [
    "titles = data['Title'].as_matrix()"
   ]
  },
  {
   "cell_type": "code",
   "execution_count": 6,
   "metadata": {
    "collapsed": false
   },
   "outputs": [
    {
     "data": {
      "text/plain": [
       "array(['Trump hires private attorney for Russia probe',\n",
       "       'Study finds mushrooms are the safest recreational drug - People taking mushrooms in 2016 needed medical treatment less than for MDMA, LSD and cocaine, while one of the riskiest drugs was synthetic cannabis',\n",
       "       \"Isis Flag Raised In Philippines As Militants 'Take Over Hospital And Set Fire To Jail And School'\",\n",
       "       ...,\n",
       "       'U.S., Iraqi sources say Islamic State leader Baghdadi alive despite death reports',\n",
       "       \"Week in Review: U.S. Ambushes Israel in UN, Xi's Power Grab, Iran Presses Advantage, and Much More\",\n",
       "       'Pakistan to hand over dossier on India to new UN chief'], dtype=object)"
      ]
     },
     "execution_count": 6,
     "metadata": {},
     "output_type": "execute_result"
    }
   ],
   "source": [
    "titles"
   ]
  },
  {
   "cell_type": "code",
   "execution_count": 7,
   "metadata": {
    "collapsed": true
   },
   "outputs": [],
   "source": [
    "tokenized = [re.sub(\"[^a-zA-Z0-9 ]\",\" \",title).lower() for title in titles]"
   ]
  },
  {
   "cell_type": "code",
   "execution_count": 8,
   "metadata": {
    "collapsed": false
   },
   "outputs": [],
   "source": [
    "tokenized = [title.split() for title in tokenized]"
   ]
  },
  {
   "cell_type": "code",
   "execution_count": 9,
   "metadata": {
    "collapsed": false
   },
   "outputs": [],
   "source": [
    "stopwords = stopwords.words(\"english\")\n",
    "# Note: \"not\" is removed here, not sure if we want that\n",
    "tokenized = [[word for word in title if not word in stopwords] for title in tokenized]"
   ]
  },
  {
   "cell_type": "code",
   "execution_count": 10,
   "metadata": {
    "collapsed": false
   },
   "outputs": [],
   "source": [
    "tokenized = np.asarray([\" \".join(words) for words in tokenized])"
   ]
  },
  {
   "cell_type": "code",
   "execution_count": 13,
   "metadata": {
    "collapsed": true
   },
   "outputs": [],
   "source": [
    "vectorizer = CountVectorizer(analyzer = \"word\",   \\\n",
    "                             tokenizer = None,    \\\n",
    "                             preprocessor = None, \\\n",
    "                             stop_words = None,   \\\n",
    "                             max_features = 5000)\n",
    "bow = vectorizer.fit_transform(tokenized)"
   ]
  },
  {
   "cell_type": "code",
   "execution_count": 12,
   "metadata": {
    "collapsed": false
   },
   "outputs": [],
   "source": [
    "np.savetxt('headlines2017.txt',tokenized,fmt=\"%s\")\n",
    "np.savetxt('headlines2017_info.txt',data[[\"Domain\",\"Created\"]].values,fmt=\"%s\")"
   ]
  },
  {
   "cell_type": "code",
   "execution_count": 14,
   "metadata": {
    "collapsed": false
   },
   "outputs": [],
   "source": [
    "X = bow.todense()\n",
    "vocab = vectorizer.get_feature_names()"
   ]
  },
  {
   "cell_type": "code",
   "execution_count": 14,
   "metadata": {
    "collapsed": false
   },
   "outputs": [
    {
     "name": "stdout",
     "output_type": "stream",
     "text": [
      "[\"Mossack Fonseca's Reponse to ICIJ\"\n",
      " 'Italians Compare the Arrival of Starbucks to the Apocalypse'\n",
      " 'The Planets are About to Align' 'Monty Python to reunite'\n",
      " 'No Morsel Too Minuscule for All-Consuming N.S.A.'\n",
      " '\"Czechs: we\\'re not Chechens\"' \"Felix Baumgartner's skydive is postponed\"\n",
      " 'Cadbury can now trademark their hue of purple. '\n",
      " 'Shenzhou-9 docks with Tiangong-1' 'Rags to riches..'\n",
      " 'Jupiter and Venus conjunction dazzles amateur astrologists'\n",
      " 'Confessions of a Stratfor subscriber'\n",
      " '\\u200bI\\u200br\\u200ba\\u200bn\\u200b \\u200bs\\u200bt\\u200bo\\u200bp\\u200bs\\u200b \\u200bo\\u200bi\\u200bl\\u200b \\u200be\\u200bx\\u200bp\\u200bo\\u200br\\u200bt\\u200bs\\u200b \\u200bt\\u200bo\\u200b \\u200bs\\u200bi\\u200bx\\u200b \\u200bE\\u200bU\\u200b \\u200bc\\u200bo\\u200bu\\u200bn\\u200bt\\u200br\\u200bi\\u200be\\u200bs\\u200b.'\n",
      " \"H\\u200ba\\u200bg\\u200bu\\u200be\\u200b \\u200bf\\u200be\\u200ba\\u200br\\u200bs\\u200b \\u200bI\\u200br\\u200ba\\u200bn\\u200b \\u200bc\\u200bo\\u200bu\\u200bl\\u200bd\\u200b \\u200bs\\u200bt\\u200ba\\u200br\\u200bt\\u200b \\u200b'\\u200bn\\u200be\\u200bw\\u200b \\u200bC\\u200bo\\u200bl\\u200bd\\u200b \\u200bW\\u200ba\\u200br\\u200b'.\"\n",
      " 'RIP Dan Wheldon.' 'Kinshasa Strings - Practising the Cello'\n",
      " 'It was the sprouts after all.' 'mutant e. coli? yep. '\n",
      " 'ಠ_ಠ... no. HA HA HA HA HA !!!'\n",
      " \"Furore over 'censored' edition of Huckleberry Finn\" 'Alhamdulillah'\n",
      " 'Dyson uninvents the vacuum cleaner' 'How Ironic. ' 'Cablegate Roulette'\n",
      " '冬遊.印象.奧地利：茵河橋畔，冬季慶典的天堂生活-1 - yam天空部落'\n",
      " '冬遊.印象.奧地利：維也納咖啡風華-3 - yam天空部落 - funP 推推王' \"Bethlehem's exodus\"\n",
      " 'Tecnologia Sustentável – Maquina que transforma xixi em energia'\n",
      " 'Hey there Khalilah ' 'Leonardo Di Caprio cerca villa nel veronese'\n",
      " 'Buffon cerca casa... a Manchester' \"Curing 'Homosexualism' in Belgrade\"\n",
      " 'Teetering on the apocalypse ' 'A Perspective' 'Shalom, Saeb Erekat here'\n",
      " 'Damn Perverts' 'Feedreports' 'More Hitchens - Enjoy him while you can. '\n",
      " 'Neuer Impfstoff schützt auch vor Schweinegrippe'\n",
      " 'Outsourcing Motherhood. ' 'How intellectuals enable Islamism'\n",
      " 'Camping for communists, ' \"Mozambique's `recolonisation'\" 'Buckle up.'\n",
      " \"I've had a vasectomy\" 'Bugger!!! What now?' 'Of Scuds and Assassinations'\n",
      " 'Hybrid bicycle' 'How to pronounce \"Eyjafjallajökull\".'\n",
      " \"Heaven: A fool's paradise\" 'Nonproliferation? How Quaint! '\n",
      " 'Eyjafjallajökull, Gígjökull, Jökulhlaup, Gosmökkur'\n",
      " \"it's not just kyrgystan\" 'Aroused rabbits reproduced'\n",
      " 'Malcolm McLaren R.I.P.' 'The Niqab(Burka) Obsession '\n",
      " \"Who's your daddy now?\" 'The arrogance of Saint Bob'\n",
      " 'The Protons have collided!' 'Ferienwohnung in Wasserburg am Bodensee'\n",
      " \"Devon 'most unfaithful county' \" 'Journalistic Integrity?'\n",
      " 'Devastation on Madeira  ' 'Fascists dealt with in Edinburgh'\n",
      " 'Pashtunwali' 'We are all anarchists now'\n",
      " 'The definition of bullshit ... ' 'Messi Crowned'\n",
      " 'Who is Elin Nordegren Woods, anyway?' 'Cockermouth is flooded'\n",
      " 'Mechanical Broom' 'Vegan banquet at Windsor Castle'\n",
      " \"Okay, now I'm freaked out.\" 'Aktuality Zprávy Události Komentáře Blogy '\n",
      " 'Only Biscuits for Zelaya' 'blackpool guesthouses' 'vtech toys'\n",
      " 'More IVF entitlement' 'Oligarchy '\n",
      " \"'The godfather of instruction manuals'\" 'Yoga Types'\n",
      " 'ulkoporealtaat | poreammeet'\n",
      " 'Selbstcoaching Tipps gegen Prokrastination / \"Aufschieberitis\"'\n",
      " 'Warren Wong' 'alekos antiques' '¡Ken Saro-Wiwa Presente!' 'Webinars'\n",
      " 'Backup Appliance' 'Rotterdam, Eurabia' 'outdoor dining furniture'\n",
      " 'Katy Perry - Waking Up In Vegas' 'Motorbike Ambulances'\n",
      " 'von bingen-beagle' 'Milliyet - Bilirki�i / G�/ Can D�/ Ada'\n",
      " 'Wolverine, lupul fara coada si surprize' 'Transparent Desktop Trick'\n",
      " \"It's the PAX!\" 'A Virologist’s Perspective on Influenza A(H1N1)'\n",
      " 'Cavalry Portfolio ' 'Overheard in the Newsroom'\n",
      " 'Despre independenta statelor, hegelianism si societatea deschisa'\n",
      " 'MYCHANNEL' 'sae+Glopur' 'Shocker: BMW AG PURCHASES HARLEY-DAVIDSON'\n",
      " 'The Kinights Templar and the Shroud of Turin'\n",
      " 'Monaco hunts for dictators’ stashes ' 'Umfrage be2' 'The magical fruit'\n",
      " '30mag - the innovation and creativity webmagazine' 'Goodbye, Seattle P-I'\n",
      " 'Crikey!' '2500 spoken languages are vanishing'\n",
      " 'An avalanche of pink underpants' ' We are colonized!'\n",
      " 'Arbeitsplatzverlust' 'Hyundai Genesis Coupe Busting Out at $22k'\n",
      " 'Imagine this hypothetical' 'Pallywood' 'PCDJ VJ 5.2' 'Just Testting'\n",
      " 'Motorola,Proxim,redline' \"Hebron 'secured' after evictions \"\n",
      " 'Arts Portal' 'What a MILF!'\n",
      " \"Siena, Premio Paolo Frajese in diretta su www.intoscana.it l'8 dicembre \"\n",
      " 'Who are the \"Deccan Mujahideen\"?' 'Spotting a sociopath'\n",
      " 'Chopper Couture' 'Avast Ye Privateers' 'Curly Cukes to be Decriminalised'\n",
      " 'Baghdadophobia'\n",
      " 'GalleryMadonna: Britney Reunites with Madonna Onstage « Bobbiblogger’s Weblog'\n",
      " 'The irony about ARVs' 'Hizbullah chooses successor for Mugniyah'\n",
      " \"The Millionaire 'Coastguards'\"\n",
      " 'The masters of Hebron are at it again and on the Sabbath to boot it.'\n",
      " 'Bilberry Extract' \"Ringo 'too busy' for autographs\"\n",
      " 'Guillaume Depardieu est mort' 'Vitamin E Supplements' 'Into AFRICOM'\n",
      " 'Antioxidant Fruit Pills' 'Brownites, Blairites and Ruth Kelly'\n",
      " 'REPOSSESSED? Millionaire spooked from mansion'\n",
      " 'Auto-hipnose na cura das doenças' \"At each other's throats 3\"\n",
      " 'Einkommenssteuer Deutschland' \"At each other's throats 2\"\n",
      " 'Sofia Loren madrina della festa di Piedigrotta'\n",
      " 'Is this squirrel impersonating Atlas, or is he just nuts about nuts?'\n",
      " 'The Postmodern Pentathalon' '.01' 'Why Qualcomm Folded to Nokia'\n",
      " \"At each other's throats\" 'Hostel hangover '\n",
      " 'Jasmina Tešanović: My neighbor Radovan Karadzic (essay)'\n",
      " 'Dolls disabilities  ' 'A Caledonian caliphate?'\n",
      " 'How to Trek the Inca Trail'\n",
      " 'Futuristic motorcycle Icare from the studio Enzyme Design '\n",
      " 'Waterboarded: You Are Being Watered and Drowned'\n",
      " ' Slinging Limes From a Purple Bra' '● ● ● ▬ ▬ ▬ ● ● ●'\n",
      " 'Ron Ianeiri Interviewed on CNBC'\n",
      " 'The Reconquista is slowly being reversed.'\n",
      " 'WHAT THE HECK IS THIS STUFF? ' 'The Miracles of Imperialism' 'title'\n",
      " 'The Matrix Poem'\n",
      " 'No Programa Hoje em Dia Edu Guedes Fica Sem Gás e Passa Por Saia Justa ao Vivo'\n",
      " \"Bushspeak: 'You Starve For Our Prosperity'\"\n",
      " 'Confessions of a Sweatshop Inspector'\n",
      " \"The 'Bellonzo-Schriever-Miethe Disc'\" 'Isabeli Fontana as Amy winnehouse'\n",
      " 'The Insanity of Biofuels'\n",
      " 'Sein Freund aus Deutschland erzählt über Thailandurlaub'\n",
      " 'Nevada Quakes Puzzle Geologists'\n",
      " 'What *IS* it with Austrians and cellars?!'\n",
      " 'Как просматривать закрытые страницы вконтакте' 'Lifting the Prohibitions'\n",
      " 'Seditious Advertising' 'Hugh Hefner at 82' '\"Persepolis\" Unbanned'\n",
      " \"Whats All the Racket About Leander Paes' Magic Raquet? \"\n",
      " 'Бадминтон: россияне завоевали золото в Румынии'\n",
      " 'Oakley Replicas. Sunglasses'\n",
      " 'Najnowsze wydarzenia, fakty i informacje - HotInfos.org'\n",
      " 'هل كان في يوم.. العرب أخوة؟' 'Surging in All Directions'\n",
      " 'The Fortress of Liechtenstein Is Wobbling' 'CHCNK OUT'\n",
      " \" E. Timor's Ramos-Horta Out of Coma\" \"'They all had to be eliminated'\"]\n",
      "['mossack fonseca reponse icij'\n",
      " 'italians compare arrival starbucks apocalypse' 'planets align'\n",
      " 'monty python reunite' 'morsel minuscule consuming n' 'czechs chechens'\n",
      " 'felix baumgartner skydive postponed' 'cadbury trademark hue purple'\n",
      " 'shenzhou 9 docks tiangong 1' 'rags riches'\n",
      " 'jupiter venus conjunction dazzles amateur astrologists'\n",
      " 'confessions stratfor subscriber' 'r n p l e x p r x e u c u n r e'\n",
      " 'h g u e f e r r n c u l r n e w c l w r' 'rip dan wheldon'\n",
      " 'kinshasa strings practising cello' 'sprouts' 'mutant e coli yep'\n",
      " 'ha ha ha ha ha' 'furore censored edition huckleberry finn'\n",
      " 'alhamdulillah' 'dyson uninvents vacuum cleaner' 'ironic'\n",
      " 'cablegate roulette' '1 yam' '3 yam funp' 'bethlehem exodus'\n",
      " 'tecnologia sustent vel maquina que transforma xixi em energia'\n",
      " 'hey khalilah' 'leonardo di caprio cerca villa nel veronese'\n",
      " 'buffon cerca casa manchester' 'curing homosexualism belgrade'\n",
      " 'teetering apocalypse' 'perspective' 'shalom saeb erekat' 'damn perverts'\n",
      " 'feedreports' 'hitchens enjoy'\n",
      " 'neuer impfstoff sch tzt auch vor schweinegrippe' 'outsourcing motherhood'\n",
      " 'intellectuals enable islamism' 'camping communists'\n",
      " 'mozambique recolonisation' 'buckle' 'vasectomy' 'bugger'\n",
      " 'scuds assassinations' 'hybrid bicycle' 'pronounce eyjafjallaj kull'\n",
      " 'heaven fool paradise' 'nonproliferation quaint'\n",
      " 'eyjafjallaj kull g gj kull j kulhlaup gosm kkur' 'kyrgystan'\n",
      " 'aroused rabbits reproduced' 'malcolm mclaren r p' 'niqab burka obsession'\n",
      " 'daddy' 'arrogance saint bob' 'protons collided'\n",
      " 'ferienwohnung wasserburg bodensee' 'devon unfaithful county'\n",
      " 'journalistic integrity' 'devastation madeira' 'fascists dealt edinburgh'\n",
      " 'pashtunwali' 'anarchists' 'definition bullshit' 'messi crowned'\n",
      " 'elin nordegren woods anyway' 'cockermouth flooded' 'mechanical broom'\n",
      " 'vegan banquet windsor castle' 'okay freaked'\n",
      " 'aktuality zpr vy ud losti koment e blogy' 'biscuits zelaya'\n",
      " 'blackpool guesthouses' 'vtech toys' 'ivf entitlement' 'oligarchy'\n",
      " 'godfather instruction manuals' 'yoga types' 'ulkoporealtaat poreammeet'\n",
      " 'selbstcoaching tipps gegen prokrastination aufschieberitis' 'warren wong'\n",
      " 'alekos antiques' 'ken saro wiwa presente' 'webinars' 'backup appliance'\n",
      " 'rotterdam eurabia' 'outdoor dining furniture' 'katy perry waking vegas'\n",
      " 'motorbike ambulances' 'von bingen beagle' 'milliyet bilirki g ada'\n",
      " 'wolverine lupul fara coada si surprize' 'transparent desktop trick' 'pax'\n",
      " 'virologist perspective influenza h1n1' 'cavalry portfolio'\n",
      " 'overheard newsroom'\n",
      " 'despre independenta statelor hegelianism si societatea deschisa'\n",
      " 'mychannel' 'sae glopur' 'shocker bmw ag purchases harley davidson'\n",
      " 'kinights templar shroud turin' 'monaco hunts dictators stashes'\n",
      " 'umfrage be2' 'magical fruit' '30mag innovation creativity webmagazine'\n",
      " 'goodbye seattle p' 'crikey' '2500 spoken languages vanishing'\n",
      " 'avalanche pink underpants' 'colonized' 'arbeitsplatzverlust'\n",
      " 'hyundai genesis coupe busting 22k' 'imagine hypothetical' 'pallywood'\n",
      " 'pcdj vj 5 2' 'testting' 'motorola proxim redline'\n",
      " 'hebron secured evictions' 'arts portal' 'milf'\n",
      " 'siena premio paolo frajese diretta su www intoscana l 8 dicembre'\n",
      " 'deccan mujahideen' 'spotting sociopath' 'chopper couture'\n",
      " 'avast ye privateers' 'curly cukes decriminalised' 'baghdadophobia'\n",
      " 'gallerymadonna britney reunites madonna onstage bobbiblogger weblog'\n",
      " 'irony arvs' 'hizbullah chooses successor mugniyah'\n",
      " 'millionaire coastguards' 'masters hebron sabbath boot' 'bilberry extract'\n",
      " 'ringo busy autographs' 'guillaume depardieu est mort'\n",
      " 'vitamin e supplements' 'africom' 'antioxidant fruit pills'\n",
      " 'brownites blairites ruth kelly' 'repossessed millionaire spooked mansion'\n",
      " 'auto hipnose na cura das doen' 'throats 3' 'einkommenssteuer deutschland'\n",
      " 'throats 2' 'sofia loren madrina della festa di piedigrotta'\n",
      " 'squirrel impersonating atlas nuts nuts' 'postmodern pentathalon' '01'\n",
      " 'qualcomm folded nokia' 'throats' 'hostel hangover'\n",
      " 'jasmina te anovi neighbor radovan karadzic essay' 'dolls disabilities'\n",
      " 'caledonian caliphate' 'trek inca trail'\n",
      " 'futuristic motorcycle icare studio enzyme design'\n",
      " 'waterboarded watered drowned' 'slinging limes purple bra' ''\n",
      " 'ron ianeiri interviewed cnbc' 'reconquista slowly reversed' 'heck stuff'\n",
      " 'miracles imperialism' 'title' 'matrix poem'\n",
      " 'programa hoje em dia edu guedes fica sem g e passa por saia justa ao vivo'\n",
      " 'bushspeak starve prosperity' 'confessions sweatshop inspector'\n",
      " 'bellonzo schriever miethe disc' 'isabeli fontana amy winnehouse'\n",
      " 'insanity biofuels'\n",
      " 'sein freund aus deutschland erz hlt ber thailandurlaub'\n",
      " 'nevada quakes puzzle geologists' 'austrians cellars' ''\n",
      " 'lifting prohibitions' 'seditious advertising' 'hugh hefner 82'\n",
      " 'persepolis unbanned' 'whats racket leander paes magic raquet' ''\n",
      " 'oakley replicas sunglasses'\n",
      " 'najnowsze wydarzenia fakty informacje hotinfos org' ''\n",
      " 'surging directions' 'fortress liechtenstein wobbling' 'chcnk'\n",
      " 'e timor ramos horta coma' 'eliminated']\n"
     ]
    }
   ],
   "source": [
    "_, idx = np.where(np.sum(bow,axis=1).squeeze()==0)\n",
    "print(titles[idx])\n",
    "print(tokenized_sent[idx])"
   ]
  },
  {
   "cell_type": "code",
   "execution_count": 15,
   "metadata": {
    "collapsed": false
   },
   "outputs": [],
   "source": [
    "# Remove zero rows from bag of words\n",
    "_, idx = np.where(np.sum(bow,axis=1).squeeze()>0)\n",
    "X = X[idx]"
   ]
  },
  {
   "cell_type": "code",
   "execution_count": 16,
   "metadata": {
    "collapsed": true
   },
   "outputs": [],
   "source": [
    "X = np.asarray(X)"
   ]
  },
  {
   "cell_type": "code",
   "execution_count": 19,
   "metadata": {
    "collapsed": true
   },
   "outputs": [],
   "source": [
    "X_r = lda.datasets.load_reuters()\n",
    "vocab_r = lda.datasets.load_reuters_vocab()\n",
    "titles_r = lda.datasets.load_reuters_titles()"
   ]
  },
  {
   "cell_type": "code",
   "execution_count": 45,
   "metadata": {
    "collapsed": false
   },
   "outputs": [
    {
     "name": "stderr",
     "output_type": "stream",
     "text": [
      "INFO:lda:n_documents: 99993\n",
      "INFO:lda:vocab_size: 5000\n",
      "INFO:lda:n_words: 969467\n",
      "INFO:lda:n_topics: 40\n",
      "INFO:lda:n_iter: 3000\n",
      "INFO:lda:<0> log likelihood: -12857463\n",
      "INFO:lda:<10> log likelihood: -9217884\n",
      "INFO:lda:<20> log likelihood: -8584346\n",
      "INFO:lda:<30> log likelihood: -8319647\n",
      "INFO:lda:<40> log likelihood: -8180635\n",
      "INFO:lda:<50> log likelihood: -8094527\n",
      "INFO:lda:<60> log likelihood: -8038819\n",
      "INFO:lda:<70> log likelihood: -8005029\n",
      "INFO:lda:<80> log likelihood: -7971781\n",
      "INFO:lda:<90> log likelihood: -7953448\n",
      "INFO:lda:<100> log likelihood: -7935398\n",
      "INFO:lda:<110> log likelihood: -7923506\n",
      "INFO:lda:<120> log likelihood: -7913334\n",
      "INFO:lda:<130> log likelihood: -7906243\n",
      "INFO:lda:<140> log likelihood: -7899696\n",
      "INFO:lda:<150> log likelihood: -7896234\n",
      "INFO:lda:<160> log likelihood: -7889713\n",
      "INFO:lda:<170> log likelihood: -7884926\n",
      "INFO:lda:<180> log likelihood: -7882210\n",
      "INFO:lda:<190> log likelihood: -7879779\n",
      "INFO:lda:<200> log likelihood: -7875402\n",
      "INFO:lda:<210> log likelihood: -7877567\n",
      "INFO:lda:<220> log likelihood: -7873369\n",
      "INFO:lda:<230> log likelihood: -7870906\n",
      "INFO:lda:<240> log likelihood: -7868417\n",
      "INFO:lda:<250> log likelihood: -7867964\n",
      "INFO:lda:<260> log likelihood: -7865926\n",
      "INFO:lda:<270> log likelihood: -7865421\n",
      "INFO:lda:<280> log likelihood: -7863712\n",
      "INFO:lda:<290> log likelihood: -7863064\n",
      "INFO:lda:<300> log likelihood: -7861453\n",
      "INFO:lda:<310> log likelihood: -7860786\n",
      "INFO:lda:<320> log likelihood: -7860746\n",
      "INFO:lda:<330> log likelihood: -7859560\n",
      "INFO:lda:<340> log likelihood: -7859867\n",
      "INFO:lda:<350> log likelihood: -7859408\n",
      "INFO:lda:<360> log likelihood: -7857526\n",
      "INFO:lda:<370> log likelihood: -7857755\n",
      "INFO:lda:<380> log likelihood: -7855746\n",
      "INFO:lda:<390> log likelihood: -7854063\n",
      "INFO:lda:<400> log likelihood: -7854997\n",
      "INFO:lda:<410> log likelihood: -7855926\n",
      "INFO:lda:<420> log likelihood: -7855043\n",
      "INFO:lda:<430> log likelihood: -7855476\n",
      "INFO:lda:<440> log likelihood: -7855344\n",
      "INFO:lda:<450> log likelihood: -7851766\n",
      "INFO:lda:<460> log likelihood: -7850729\n",
      "INFO:lda:<470> log likelihood: -7851532\n",
      "INFO:lda:<480> log likelihood: -7849327\n",
      "INFO:lda:<490> log likelihood: -7849602\n",
      "INFO:lda:<500> log likelihood: -7849549\n",
      "INFO:lda:<510> log likelihood: -7849970\n",
      "INFO:lda:<520> log likelihood: -7850395\n",
      "INFO:lda:<530> log likelihood: -7849498\n",
      "INFO:lda:<540> log likelihood: -7846221\n",
      "INFO:lda:<550> log likelihood: -7847934\n",
      "INFO:lda:<560> log likelihood: -7847725\n",
      "INFO:lda:<570> log likelihood: -7847022\n",
      "INFO:lda:<580> log likelihood: -7847627\n",
      "INFO:lda:<590> log likelihood: -7844775\n",
      "INFO:lda:<600> log likelihood: -7844704\n",
      "INFO:lda:<610> log likelihood: -7844573\n",
      "INFO:lda:<620> log likelihood: -7845464\n",
      "INFO:lda:<630> log likelihood: -7842351\n",
      "INFO:lda:<640> log likelihood: -7842061\n",
      "INFO:lda:<650> log likelihood: -7842906\n",
      "INFO:lda:<660> log likelihood: -7842115\n",
      "INFO:lda:<670> log likelihood: -7841868\n",
      "INFO:lda:<680> log likelihood: -7842685\n",
      "INFO:lda:<690> log likelihood: -7841236\n",
      "INFO:lda:<700> log likelihood: -7842580\n",
      "INFO:lda:<710> log likelihood: -7844189\n",
      "INFO:lda:<720> log likelihood: -7841940\n",
      "INFO:lda:<730> log likelihood: -7842217\n",
      "INFO:lda:<740> log likelihood: -7842204\n",
      "INFO:lda:<750> log likelihood: -7838974\n",
      "INFO:lda:<760> log likelihood: -7840456\n",
      "INFO:lda:<770> log likelihood: -7840603\n",
      "INFO:lda:<780> log likelihood: -7840690\n",
      "INFO:lda:<790> log likelihood: -7840003\n",
      "INFO:lda:<800> log likelihood: -7838921\n",
      "INFO:lda:<810> log likelihood: -7839897\n",
      "INFO:lda:<820> log likelihood: -7840931\n",
      "INFO:lda:<830> log likelihood: -7840665\n",
      "INFO:lda:<840> log likelihood: -7838126\n",
      "INFO:lda:<850> log likelihood: -7836044\n",
      "INFO:lda:<860> log likelihood: -7837744\n",
      "INFO:lda:<870> log likelihood: -7836965\n",
      "INFO:lda:<880> log likelihood: -7837389\n",
      "INFO:lda:<890> log likelihood: -7837214\n",
      "INFO:lda:<900> log likelihood: -7834430\n",
      "INFO:lda:<910> log likelihood: -7837034\n",
      "INFO:lda:<920> log likelihood: -7834546\n",
      "INFO:lda:<930> log likelihood: -7835684\n",
      "INFO:lda:<940> log likelihood: -7838053\n",
      "INFO:lda:<950> log likelihood: -7835916\n",
      "INFO:lda:<960> log likelihood: -7834589\n",
      "INFO:lda:<970> log likelihood: -7834862\n",
      "INFO:lda:<980> log likelihood: -7833038\n",
      "INFO:lda:<990> log likelihood: -7834081\n",
      "INFO:lda:<1000> log likelihood: -7832600\n",
      "INFO:lda:<1010> log likelihood: -7832253\n",
      "INFO:lda:<1020> log likelihood: -7835730\n",
      "INFO:lda:<1030> log likelihood: -7834619\n",
      "INFO:lda:<1040> log likelihood: -7834739\n",
      "INFO:lda:<1050> log likelihood: -7832505\n",
      "INFO:lda:<1060> log likelihood: -7832571\n",
      "INFO:lda:<1070> log likelihood: -7834618\n",
      "INFO:lda:<1080> log likelihood: -7833382\n",
      "INFO:lda:<1090> log likelihood: -7832742\n",
      "INFO:lda:<1100> log likelihood: -7832424\n",
      "INFO:lda:<1110> log likelihood: -7832880\n",
      "INFO:lda:<1120> log likelihood: -7831826\n",
      "INFO:lda:<1130> log likelihood: -7831197\n",
      "INFO:lda:<1140> log likelihood: -7830357\n",
      "INFO:lda:<1150> log likelihood: -7831314\n",
      "INFO:lda:<1160> log likelihood: -7832997\n",
      "INFO:lda:<1170> log likelihood: -7832020\n",
      "INFO:lda:<1180> log likelihood: -7831843\n",
      "INFO:lda:<1190> log likelihood: -7831094\n",
      "INFO:lda:<1200> log likelihood: -7832172\n",
      "INFO:lda:<1210> log likelihood: -7833433\n",
      "INFO:lda:<1220> log likelihood: -7830380\n",
      "INFO:lda:<1230> log likelihood: -7832043\n",
      "INFO:lda:<1240> log likelihood: -7832311\n",
      "INFO:lda:<1250> log likelihood: -7832782\n",
      "INFO:lda:<1260> log likelihood: -7831257\n",
      "INFO:lda:<1270> log likelihood: -7834090\n",
      "INFO:lda:<1280> log likelihood: -7832349\n",
      "INFO:lda:<1290> log likelihood: -7830298\n",
      "INFO:lda:<1300> log likelihood: -7830472\n",
      "INFO:lda:<1310> log likelihood: -7833641\n",
      "INFO:lda:<1320> log likelihood: -7831927\n",
      "INFO:lda:<1330> log likelihood: -7835305\n",
      "INFO:lda:<1340> log likelihood: -7831784\n",
      "INFO:lda:<1350> log likelihood: -7833250\n",
      "INFO:lda:<1360> log likelihood: -7833487\n",
      "INFO:lda:<1370> log likelihood: -7834287\n",
      "INFO:lda:<1380> log likelihood: -7833560\n",
      "INFO:lda:<1390> log likelihood: -7831901\n",
      "INFO:lda:<1400> log likelihood: -7832689\n",
      "INFO:lda:<1410> log likelihood: -7830025\n",
      "INFO:lda:<1420> log likelihood: -7831305\n",
      "INFO:lda:<1430> log likelihood: -7830744\n",
      "INFO:lda:<1440> log likelihood: -7831798\n",
      "INFO:lda:<1450> log likelihood: -7831497\n",
      "INFO:lda:<1460> log likelihood: -7830048\n",
      "INFO:lda:<1470> log likelihood: -7830611\n",
      "INFO:lda:<1480> log likelihood: -7832011\n",
      "INFO:lda:<1490> log likelihood: -7832382\n",
      "INFO:lda:<1500> log likelihood: -7832949\n",
      "INFO:lda:<1510> log likelihood: -7830368\n",
      "INFO:lda:<1520> log likelihood: -7830861\n",
      "INFO:lda:<1530> log likelihood: -7830430\n",
      "INFO:lda:<1540> log likelihood: -7830744\n",
      "INFO:lda:<1550> log likelihood: -7831090\n",
      "INFO:lda:<1560> log likelihood: -7831056\n",
      "INFO:lda:<1570> log likelihood: -7833072\n",
      "INFO:lda:<1580> log likelihood: -7831040\n",
      "INFO:lda:<1590> log likelihood: -7831711\n",
      "INFO:lda:<1600> log likelihood: -7831129\n",
      "INFO:lda:<1610> log likelihood: -7832329\n",
      "INFO:lda:<1620> log likelihood: -7833528\n",
      "INFO:lda:<1630> log likelihood: -7832889\n",
      "INFO:lda:<1640> log likelihood: -7832410\n",
      "INFO:lda:<1650> log likelihood: -7832508\n",
      "INFO:lda:<1660> log likelihood: -7832611\n",
      "INFO:lda:<1670> log likelihood: -7832536\n",
      "INFO:lda:<1680> log likelihood: -7831188\n",
      "INFO:lda:<1690> log likelihood: -7832796\n",
      "INFO:lda:<1700> log likelihood: -7830787\n",
      "INFO:lda:<1710> log likelihood: -7832481\n",
      "INFO:lda:<1720> log likelihood: -7833310\n",
      "INFO:lda:<1730> log likelihood: -7833975\n",
      "INFO:lda:<1740> log likelihood: -7832692\n",
      "INFO:lda:<1750> log likelihood: -7831484\n",
      "INFO:lda:<1760> log likelihood: -7831005\n",
      "INFO:lda:<1770> log likelihood: -7831567\n",
      "INFO:lda:<1780> log likelihood: -7832952\n",
      "INFO:lda:<1790> log likelihood: -7830252\n",
      "INFO:lda:<1800> log likelihood: -7832847\n",
      "INFO:lda:<1810> log likelihood: -7830776\n",
      "INFO:lda:<1820> log likelihood: -7830796\n",
      "INFO:lda:<1830> log likelihood: -7831972\n",
      "INFO:lda:<1840> log likelihood: -7832612\n",
      "INFO:lda:<1850> log likelihood: -7830635\n",
      "INFO:lda:<1860> log likelihood: -7829474\n",
      "INFO:lda:<1870> log likelihood: -7833245\n",
      "INFO:lda:<1880> log likelihood: -7831601\n",
      "INFO:lda:<1890> log likelihood: -7831359\n",
      "INFO:lda:<1900> log likelihood: -7831272\n",
      "INFO:lda:<1910> log likelihood: -7831461\n",
      "INFO:lda:<1920> log likelihood: -7828743\n",
      "INFO:lda:<1930> log likelihood: -7831326\n",
      "INFO:lda:<1940> log likelihood: -7832359\n",
      "INFO:lda:<1950> log likelihood: -7830987\n",
      "INFO:lda:<1960> log likelihood: -7831904\n",
      "INFO:lda:<1970> log likelihood: -7830558\n",
      "INFO:lda:<1980> log likelihood: -7834208\n",
      "INFO:lda:<1990> log likelihood: -7831064\n",
      "INFO:lda:<2000> log likelihood: -7830501\n",
      "INFO:lda:<2010> log likelihood: -7830509\n",
      "INFO:lda:<2020> log likelihood: -7829890\n",
      "INFO:lda:<2030> log likelihood: -7830925\n",
      "INFO:lda:<2040> log likelihood: -7829506\n",
      "INFO:lda:<2050> log likelihood: -7832485\n",
      "INFO:lda:<2060> log likelihood: -7830316\n",
      "INFO:lda:<2070> log likelihood: -7832284\n",
      "INFO:lda:<2080> log likelihood: -7831104\n",
      "INFO:lda:<2090> log likelihood: -7830923\n",
      "INFO:lda:<2100> log likelihood: -7831807\n",
      "INFO:lda:<2110> log likelihood: -7830637\n",
      "INFO:lda:<2120> log likelihood: -7831301\n",
      "INFO:lda:<2130> log likelihood: -7830851\n",
      "INFO:lda:<2140> log likelihood: -7829167\n",
      "INFO:lda:<2150> log likelihood: -7830400\n",
      "INFO:lda:<2160> log likelihood: -7832541\n",
      "INFO:lda:<2170> log likelihood: -7831230\n",
      "INFO:lda:<2180> log likelihood: -7831079\n",
      "INFO:lda:<2190> log likelihood: -7832863\n",
      "INFO:lda:<2200> log likelihood: -7829908\n",
      "INFO:lda:<2210> log likelihood: -7830877\n",
      "INFO:lda:<2220> log likelihood: -7830990\n",
      "INFO:lda:<2230> log likelihood: -7831226\n",
      "INFO:lda:<2240> log likelihood: -7831568\n",
      "INFO:lda:<2250> log likelihood: -7831677\n",
      "INFO:lda:<2260> log likelihood: -7831242\n",
      "INFO:lda:<2270> log likelihood: -7832826\n",
      "INFO:lda:<2280> log likelihood: -7833516\n",
      "INFO:lda:<2290> log likelihood: -7831438\n",
      "INFO:lda:<2300> log likelihood: -7830671\n",
      "INFO:lda:<2310> log likelihood: -7832482\n",
      "INFO:lda:<2320> log likelihood: -7834046\n",
      "INFO:lda:<2330> log likelihood: -7832184\n",
      "INFO:lda:<2340> log likelihood: -7829885\n",
      "INFO:lda:<2350> log likelihood: -7831971\n",
      "INFO:lda:<2360> log likelihood: -7829213\n",
      "INFO:lda:<2370> log likelihood: -7828645\n",
      "INFO:lda:<2380> log likelihood: -7832691\n",
      "INFO:lda:<2390> log likelihood: -7831531\n",
      "INFO:lda:<2400> log likelihood: -7829534\n",
      "INFO:lda:<2410> log likelihood: -7831479\n",
      "INFO:lda:<2420> log likelihood: -7833929\n",
      "INFO:lda:<2430> log likelihood: -7832051\n",
      "INFO:lda:<2440> log likelihood: -7833721\n",
      "INFO:lda:<2450> log likelihood: -7831602\n",
      "INFO:lda:<2460> log likelihood: -7831773\n",
      "INFO:lda:<2470> log likelihood: -7830590\n",
      "INFO:lda:<2480> log likelihood: -7830286\n",
      "INFO:lda:<2490> log likelihood: -7831880\n",
      "INFO:lda:<2500> log likelihood: -7831405\n",
      "INFO:lda:<2510> log likelihood: -7831456\n",
      "INFO:lda:<2520> log likelihood: -7830531\n",
      "INFO:lda:<2530> log likelihood: -7831962\n",
      "INFO:lda:<2540> log likelihood: -7830810\n",
      "INFO:lda:<2550> log likelihood: -7831572\n",
      "INFO:lda:<2560> log likelihood: -7831049\n",
      "INFO:lda:<2570> log likelihood: -7831448\n",
      "INFO:lda:<2580> log likelihood: -7829468\n",
      "INFO:lda:<2590> log likelihood: -7831264\n",
      "INFO:lda:<2600> log likelihood: -7830086\n",
      "INFO:lda:<2610> log likelihood: -7828698\n",
      "INFO:lda:<2620> log likelihood: -7830807\n",
      "INFO:lda:<2630> log likelihood: -7828785\n",
      "INFO:lda:<2640> log likelihood: -7829754\n",
      "INFO:lda:<2650> log likelihood: -7829088\n",
      "INFO:lda:<2660> log likelihood: -7828821\n",
      "INFO:lda:<2670> log likelihood: -7831299\n",
      "INFO:lda:<2680> log likelihood: -7832948\n",
      "INFO:lda:<2690> log likelihood: -7832005\n",
      "INFO:lda:<2700> log likelihood: -7828611\n",
      "INFO:lda:<2710> log likelihood: -7829905\n",
      "INFO:lda:<2720> log likelihood: -7827123\n",
      "INFO:lda:<2730> log likelihood: -7830239\n",
      "INFO:lda:<2740> log likelihood: -7829116\n",
      "INFO:lda:<2750> log likelihood: -7830308\n",
      "INFO:lda:<2760> log likelihood: -7829649\n",
      "INFO:lda:<2770> log likelihood: -7828938\n",
      "INFO:lda:<2780> log likelihood: -7830185\n",
      "INFO:lda:<2790> log likelihood: -7828991\n",
      "INFO:lda:<2800> log likelihood: -7830063\n",
      "INFO:lda:<2810> log likelihood: -7830489\n",
      "INFO:lda:<2820> log likelihood: -7830671\n",
      "INFO:lda:<2830> log likelihood: -7830732\n",
      "INFO:lda:<2840> log likelihood: -7829365\n",
      "INFO:lda:<2850> log likelihood: -7827895\n",
      "INFO:lda:<2860> log likelihood: -7828042\n",
      "INFO:lda:<2870> log likelihood: -7829051\n",
      "INFO:lda:<2880> log likelihood: -7831417\n",
      "INFO:lda:<2890> log likelihood: -7830966\n",
      "INFO:lda:<2900> log likelihood: -7830541\n",
      "INFO:lda:<2910> log likelihood: -7829267\n",
      "INFO:lda:<2920> log likelihood: -7831883\n",
      "INFO:lda:<2930> log likelihood: -7831453\n",
      "INFO:lda:<2940> log likelihood: -7829888\n",
      "INFO:lda:<2950> log likelihood: -7830312\n",
      "INFO:lda:<2960> log likelihood: -7827662\n",
      "INFO:lda:<2970> log likelihood: -7828720\n",
      "INFO:lda:<2980> log likelihood: -7828686\n",
      "INFO:lda:<2990> log likelihood: -7829544\n",
      "INFO:lda:<2999> log likelihood: -7831868\n"
     ]
    },
    {
     "data": {
      "text/plain": [
       "<lda.lda.LDA at 0x1a1c0d90e10>"
      ]
     },
     "execution_count": 45,
     "metadata": {},
     "output_type": "execute_result"
    }
   ],
   "source": [
    "model = lda.LDA(n_topics=40, n_iter=3000, random_state=1, alpha=0.05)\n",
    "model.fit(X)"
   ]
  },
  {
   "cell_type": "code",
   "execution_count": 46,
   "metadata": {
    "collapsed": false
   },
   "outputs": [
    {
     "name": "stdout",
     "output_type": "stream",
     "text": [
      "Topic 0: power china energy nuclear world india solar fukushima\n",
      "Topic 1: refugees germany migrants europe german refugee merkel eu\n",
      "Topic 2: syria syrian us al assad weapons rebels chemical\n",
      "Topic 3: uk eu brexit says may european britain british\n",
      "Topic 4: minister turkey president prime turkish erdogan says former\n",
      "Topic 5: rights court human war crimes international report un\n",
      "Topic 6: climate change global world study could scientists report\n",
      "Topic 7: food marijuana canada use ban cannabis drug city\n",
      "Topic 8: new law bill government laws anti parliament australian\n",
      "Topic 9: russian plane flight crash jet air missing malaysia\n",
      "Topic 10: china us sea chinese japan south russia military\n",
      "Topic 11: sex women pope child abuse children gay francis\n",
      "Topic 12: africa south african japan china new world ivory\n",
      "Topic 13: news bbc media tv internet facebook social twitter\n",
      "Topic 14: year world 000 since years million record percent\n",
      "Topic 15: police protest thousands protesters protests hong anti kong\n",
      "Topic 16: bank billion tax million pay china money banks\n",
      "Topic 17: attack attacks police terror paris arrested haram boko\n",
      "Topic 18: people says one said world like get would\n",
      "Topic 19: korea north south korean nuclear un missile us\n",
      "Topic 20: israel israeli gaza palestinian hamas west bank palestinians\n",
      "Topic 21: trump us obama president china trade deal donald\n",
      "Topic 22: snowden nsa us data surveillance spy intelligence documents\n",
      "Topic 23: 000 people million death earthquake toll 100 10\n",
      "Topic 24: muslim egypt muslims al islam islamic pakistan group\n",
      "Topic 25: first space time new nasa earth scientists ever\n",
      "Topic 26: ebola health new virus first doctors cancer cases\n",
      "Topic 27: found old year 000 years discovered ancient world\n",
      "Topic 28: school women ban schools students chinese muslim university\n",
      "Topic 29: party right election french france far elections presidential\n",
      "Topic 30: russia putin russian ukraine says sanctions moscow vladimir\n",
      "Topic 31: oil world great canada gas amazon reef mining\n",
      "Topic 32: isis state islamic iraq syria iraqi forces syrian\n",
      "Topic 33: said united states nations government two country monday\n",
      "Topic 34: police mexico drug president arrested duterte dead mexican\n",
      "Topic 35: killed least people attack dead suicide kills pakistan\n",
      "Topic 36: ukraine russia russian military troops ukrainian nato eastern\n",
      "Topic 37: year old years man death woman prison girl\n",
      "Topic 38: saudi iran arabia nuclear deal us says arms\n",
      "Topic 39: israel israeli un peace netanyahu state says palestinian\n"
     ]
    }
   ],
   "source": [
    "topic_word = model.topic_word_  # model.components_ also works\n",
    "n_top_words = 8\n",
    "for i, topic_dist in enumerate(topic_word):\n",
    "    topic_words = np.array(vocab)[np.argsort(topic_dist)][:-(n_top_words+1):-1]\n",
    "    print('Topic {}: {}'.format(i, ' '.join(topic_words)))"
   ]
  },
  {
   "cell_type": "code",
   "execution_count": 60,
   "metadata": {
    "collapsed": false
   },
   "outputs": [
    {
     "name": "stdout",
     "output_type": "stream",
     "text": [
      "Topic: 21\n",
      "[-0.1871394  -0.18713018 -0.18713935 -0.18712991 -0.18712667 -0.18713265\n",
      " -0.1871426  -0.18712519 -0.18713593 -0.18712105 -0.18712973 -0.18712889\n",
      " -0.18712468 -0.18713034 -0.18714602 -0.18713384 -0.18714022 -0.18713331\n",
      " -0.18713356  0.12435151 -0.18712474  6.21651134 -0.18714681 -0.18713305\n",
      " -0.18712562 -0.18712886 -0.18713172 -0.18713441 -0.18712725 -0.18712511\n",
      "  0.21332113 -0.18712949 -0.18713975 -0.18714452 -0.1871314  -0.18714099\n",
      " -0.18713454 -0.18714135 -0.1871221   0.18260122]\n"
     ]
    }
   ],
   "source": [
    "idx = np.where(np.array(vocab)==\"trump\")[0][0]\n",
    "print(\"Topic: {}\".format(np.argmax(topic_word[:,idx])))\n",
    "probs = topic_word[:,idx]\n",
    "print((probs-np.mean(probs))/np.std(probs))"
   ]
  },
  {
   "cell_type": "code",
   "execution_count": 50,
   "metadata": {
    "collapsed": false,
    "scrolled": true
   },
   "outputs": [
    {
     "name": "stdout",
     "output_type": "stream",
     "text": [
      "Hospitals across England hit by large-scale cyber-attack (top topic: 35)\n",
      "North Korea launches a new unidentified missile as tensions with US fester (top topic: 19)\n",
      "FBI acting boss Andrew McCabe stands by Russia probe - BBC News (top topic: 4)\n",
      "Facebook Shuts Down World’s Biggest Page For Atheists (top topic: 13)\n",
      "U.S. in final stages of $100 billion arms deal for Saudi Arabia: White House official (top topic: 38)\n",
      "Macron inaugurated at Elysee Palace (top topic: 29)\n",
      "Trump revealed highly classified information to Russian foreign minister and ambassador (top topic: 22)\n",
      "Pakistan: People who smoke, eat openly during Ramazan face 3-month imprisonment (top topic: 37)\n",
      "French Dislike Donald Trump Even More Than Putin, Xi and Merkel, Poll Finds (top topic: 21)\n",
      "Trump's disclosure endangered spy placed inside ISIS by Israel, officials say (top topic: 33)\n"
     ]
    }
   ],
   "source": [
    "doc_topic = model.doc_topic_\n",
    "for i in range(10):\n",
    "    print(\"{} (top topic: {})\".format(titles[i], doc_topic[i].argmax()))"
   ]
  },
  {
   "cell_type": "code",
   "execution_count": 36,
   "metadata": {
    "collapsed": false
   },
   "outputs": [
    {
     "data": {
      "text/plain": [
       "-7861723.590164094"
      ]
     },
     "execution_count": 36,
     "metadata": {},
     "output_type": "execute_result"
    }
   ],
   "source": [
    "model.loglikelihood()"
   ]
  },
  {
   "cell_type": "code",
   "execution_count": 61,
   "metadata": {
    "collapsed": false
   },
   "outputs": [
    {
     "name": "stdout",
     "output_type": "stream",
     "text": [
      "Title: Worried world urges Trump not to pull out of Paris climate agreement\n",
      "Title: White House advisors called Ottawa to urge Trudeau to help talk Trump down from scrapping NAFTA\n",
      "Title: Suspend visa-free EU travel for U.S. citizens, lawmakers say\n",
      "Title: Suspend Visa-free EU Travel for US Citizens, Lawmakers Say\n",
      "Title: Netanyahu denies he had expressed support for US President Donald Trump’s push for a border wall with Mexico\n",
      "Title: Russia is 'tearing down' world order, US ambassador to UN says in final speech\n",
      "Title: Canada Hopeful TPP Can Survive Without U.S., Trade Minister Says - Canada will consider pursuing a new multilateral Pacific Rim trade deal now that President Donald Trump has signaled the U.S. is abandoning the Trans-Pacific Partnership.\n",
      "Title: Trump Trade Strategy's Start Worries China: US to Withdraw From TPP, Renegotiate NAFTA Deal\n",
      "Title: Xi to be first Chinese leader to attend Davos World Economic Forum\n",
      "Title: Obama says China would not take change in U.S. policy on Taiwan lightly\n",
      "Title: US President-elect Donald Trump has spoken directly with the president of Taiwan - breaking with US policy set in 1979 when formal relations were cut. Washington cut formal diplomatic ties with Taiwan in 1979, expressing its support for Beijing's \"One China\" policy.\n",
      "Title: Obama offered no apology for Hiroshima, Abe won't do it for Pearl Harbour either, says spokesman\n",
      "Title: Trump Threatens to Reverse Obama's Cuba Policy Unless Cuba Makes a 'Better Deal'\n",
      "Title: Mexican Lawmakers Demand President Cancel Donald Trump’s Surprise Visit - \"Trump is not welcome in Mexico.\"\n",
      "Title: North Korea allows helicopter tours of Pyongyang for the first time\n",
      "Title: Here’s where the U.S. sent $35 billion in aid last year\n",
      "Title: Tony Blair: Islamic extremists' ideology enjoys support of many Muslims\n",
      "Title: Pope Calls Armenian Slaughter '1st Genocide of 20th Century'\n",
      "Title: Life under ISIS Rule a 'Living Hell': Mosul (Iraq) Citizens Suffering from Lack of Clean Water, Medicine\n",
      "Title: How common is female domestic violence against men? Melanie Sykes arrested after assault\n",
      "Title: Football Increasingly Becoming a Platform for Right-Wing Extremist Violence Across Germany\n"
     ]
    }
   ],
   "source": [
    "idxs = np.where(doc_topic[:,21]>0.8)[0]\n",
    "for i in range(len(idxs)):\n",
    "    print(\"Title: {}\".format(titles[idxs[i]]))"
   ]
  },
  {
   "cell_type": "code",
   "execution_count": null,
   "metadata": {
    "collapsed": true
   },
   "outputs": [],
   "source": []
  }
 ],
 "metadata": {
  "kernelspec": {
   "display_name": "Python 3",
   "language": "python",
   "name": "python3"
  },
  "language_info": {
   "codemirror_mode": {
    "name": "ipython",
    "version": 3
   },
   "file_extension": ".py",
   "mimetype": "text/x-python",
   "name": "python",
   "nbconvert_exporter": "python",
   "pygments_lexer": "ipython3",
   "version": "3.6.0"
  }
 },
 "nbformat": 4,
 "nbformat_minor": 2
}
