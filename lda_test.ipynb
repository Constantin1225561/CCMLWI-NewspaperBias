{
 "cells": [
  {
   "cell_type": "code",
   "execution_count": 1,
   "metadata": {
    "collapsed": false
   },
   "outputs": [],
   "source": [
    "import pandas as pd\n",
    "#import spacy\n",
    "import re\n",
    "\n",
    "import numpy as np\n",
    "import lda\n",
    "import lda.datasets\n",
    "from sklearn.feature_extraction.text import CountVectorizer"
   ]
  },
  {
   "cell_type": "code",
   "execution_count": 2,
   "metadata": {
    "collapsed": true
   },
   "outputs": [],
   "source": [
    "from nltk.corpus import stopwords"
   ]
  },
  {
   "cell_type": "code",
   "execution_count": 3,
   "metadata": {
    "collapsed": true
   },
   "outputs": [],
   "source": [
    "#nlp = spacy.load('en')"
   ]
  },
  {
   "cell_type": "code",
   "execution_count": 4,
   "metadata": {
    "collapsed": true
   },
   "outputs": [],
   "source": [
    "data = pd.read_csv('reddit.csv')"
   ]
  },
  {
   "cell_type": "code",
   "execution_count": 5,
   "metadata": {
    "collapsed": false
   },
   "outputs": [],
   "source": [
    "data['Created'] = pd.to_numeric(data['Created'],downcast='integer')"
   ]
  },
  {
   "cell_type": "code",
   "execution_count": 6,
   "metadata": {
    "collapsed": false
   },
   "outputs": [],
   "source": [
    "titles = data['Title'].as_matrix()"
   ]
  },
  {
   "cell_type": "code",
   "execution_count": 7,
   "metadata": {
    "collapsed": false
   },
   "outputs": [
    {
     "data": {
      "text/plain": [
       "array(['Macron wins French presidency by decisive margin over Le Pen',\n",
       "       'Theresa May announces snap election for June 8th',\n",
       "       \"Macron-Le Pen 'in French run-off'\", ...,\n",
       "       'Merkel to meet leaders of Turkey, United Arab Emirates ',\n",
       "       'Jump-start economy: Give health care to all ',\n",
       "       'The U.N. Mismanagement Program'], dtype=object)"
      ]
     },
     "execution_count": 7,
     "metadata": {},
     "output_type": "execute_result"
    }
   ],
   "source": [
    "titles"
   ]
  },
  {
   "cell_type": "code",
   "execution_count": 8,
   "metadata": {
    "collapsed": true
   },
   "outputs": [],
   "source": [
    "alphanumeric = [re.sub(\"[^a-zA-Z0-9 ]\",\" \",title).lower() for title in titles]"
   ]
  },
  {
   "cell_type": "code",
   "execution_count": 9,
   "metadata": {
    "collapsed": false
   },
   "outputs": [],
   "source": [
    "split = [title.split() for title in alphanumeric]"
   ]
  },
  {
   "cell_type": "code",
   "execution_count": 10,
   "metadata": {
    "collapsed": false
   },
   "outputs": [],
   "source": [
    "stopwords = stopwords.words(\"english\")\n",
    "tokenized = [[word for word in title if not word in stopwords] for title in split]"
   ]
  },
  {
   "cell_type": "code",
   "execution_count": 11,
   "metadata": {
    "collapsed": false
   },
   "outputs": [],
   "source": [
    "tokenized_sent = np.asarray([\" \".join(words) for words in tokenized])"
   ]
  },
  {
   "cell_type": "code",
   "execution_count": 12,
   "metadata": {
    "collapsed": true
   },
   "outputs": [],
   "source": [
    "vectorizer = CountVectorizer(analyzer = \"word\",   \\\n",
    "                             tokenizer = None,    \\\n",
    "                             preprocessor = None, \\\n",
    "                             stop_words = None,   \\\n",
    "                             max_features = 5000)\n",
    "bow = vectorizer.fit_transform(tokenized_sent)"
   ]
  },
  {
   "cell_type": "code",
   "execution_count": 13,
   "metadata": {
    "collapsed": false
   },
   "outputs": [
    {
     "name": "stdout",
     "output_type": "stream",
     "text": [
      "(51456, 5000)\n",
      "(1, 5000)\n"
     ]
    }
   ],
   "source": [
    "print(bow.shape)\n",
    "X = bow.todense()\n",
    "vocab = vectorizer.get_feature_names()"
   ]
  },
  {
   "cell_type": "code",
   "execution_count": 59,
   "metadata": {
    "collapsed": false
   },
   "outputs": [
    {
     "name": "stdout",
     "output_type": "stream",
     "text": [
      "['\"Czechs: we\\'re not Chechens\"'\n",
      " 'WHO classifies diesel fumes as a carcinogen' 'How Ironic. '\n",
      " 'Devastation on Madeira  ' 'Cockermouth is flooded' 'Rotterdam, Eurabia'\n",
      " \"It's the PAX!\" \"Don't mess with these chicks or you'll be sari\"\n",
      " 'Dig pinpoints Stonehenge origins' '● ● ● ▬ ▬ ▬ ● ● ●' 'The Matrix Poem'\n",
      " 'Londoners oust Livingstone' 'The Fortress of Liechtenstein Is Wobbling']\n",
      "['czechs chechens' 'classifies diesel fumes carcinogen' 'ironic'\n",
      " 'devastation madeira' 'cockermouth flooded' 'rotterdam eurabia' 'pax'\n",
      " 'mess chicks sari' 'dig pinpoints stonehenge origins' '' 'matrix poem'\n",
      " 'londoners oust livingstone' 'fortress liechtenstein wobbling']\n"
     ]
    }
   ],
   "source": [
    "_, idx = np.where(np.sum(bow,axis=1).squeeze()==0)\n",
    "print(titles[idx])\n",
    "print(tokenized_sent[idx])"
   ]
  },
  {
   "cell_type": "code",
   "execution_count": 60,
   "metadata": {
    "collapsed": false
   },
   "outputs": [
    {
     "ename": "IndexError",
     "evalue": "index 51443 is out of bounds for axis 0 with size 51443",
     "output_type": "error",
     "traceback": [
      "\u001b[0;31m---------------------------------------------------------------------------\u001b[0m",
      "\u001b[0;31mIndexError\u001b[0m                                Traceback (most recent call last)",
      "\u001b[0;32m<ipython-input-60-c2cf92147b9a>\u001b[0m in \u001b[0;36m<module>\u001b[0;34m()\u001b[0m\n\u001b[1;32m      1\u001b[0m \u001b[1;31m# Remove zero rows from bag of words\u001b[0m\u001b[1;33m\u001b[0m\u001b[1;33m\u001b[0m\u001b[0m\n\u001b[1;32m      2\u001b[0m \u001b[0m_\u001b[0m\u001b[1;33m,\u001b[0m \u001b[0midx\u001b[0m \u001b[1;33m=\u001b[0m \u001b[0mnp\u001b[0m\u001b[1;33m.\u001b[0m\u001b[0mwhere\u001b[0m\u001b[1;33m(\u001b[0m\u001b[0mnp\u001b[0m\u001b[1;33m.\u001b[0m\u001b[0msum\u001b[0m\u001b[1;33m(\u001b[0m\u001b[0mbow\u001b[0m\u001b[1;33m,\u001b[0m\u001b[0maxis\u001b[0m\u001b[1;33m=\u001b[0m\u001b[1;36m1\u001b[0m\u001b[1;33m)\u001b[0m\u001b[1;33m.\u001b[0m\u001b[0msqueeze\u001b[0m\u001b[1;33m(\u001b[0m\u001b[1;33m)\u001b[0m\u001b[1;33m>\u001b[0m\u001b[1;36m0\u001b[0m\u001b[1;33m)\u001b[0m\u001b[1;33m\u001b[0m\u001b[0m\n\u001b[0;32m----> 3\u001b[0;31m \u001b[0mX\u001b[0m \u001b[1;33m=\u001b[0m \u001b[0mX\u001b[0m\u001b[1;33m[\u001b[0m\u001b[0midx\u001b[0m\u001b[1;33m]\u001b[0m\u001b[1;33m\u001b[0m\u001b[0m\n\u001b[0m",
      "\u001b[0;32mC:\\Users\\Timo\\Anaconda3\\lib\\site-packages\\numpy\\matrixlib\\defmatrix.py\u001b[0m in \u001b[0;36m__getitem__\u001b[0;34m(self, index)\u001b[0m\n\u001b[1;32m    316\u001b[0m \u001b[1;33m\u001b[0m\u001b[0m\n\u001b[1;32m    317\u001b[0m         \u001b[1;32mtry\u001b[0m\u001b[1;33m:\u001b[0m\u001b[1;33m\u001b[0m\u001b[0m\n\u001b[0;32m--> 318\u001b[0;31m             \u001b[0mout\u001b[0m \u001b[1;33m=\u001b[0m \u001b[0mN\u001b[0m\u001b[1;33m.\u001b[0m\u001b[0mndarray\u001b[0m\u001b[1;33m.\u001b[0m\u001b[0m__getitem__\u001b[0m\u001b[1;33m(\u001b[0m\u001b[0mself\u001b[0m\u001b[1;33m,\u001b[0m \u001b[0mindex\u001b[0m\u001b[1;33m)\u001b[0m\u001b[1;33m\u001b[0m\u001b[0m\n\u001b[0m\u001b[1;32m    319\u001b[0m         \u001b[1;32mfinally\u001b[0m\u001b[1;33m:\u001b[0m\u001b[1;33m\u001b[0m\u001b[0m\n\u001b[1;32m    320\u001b[0m             \u001b[0mself\u001b[0m\u001b[1;33m.\u001b[0m\u001b[0m_getitem\u001b[0m \u001b[1;33m=\u001b[0m \u001b[1;32mFalse\u001b[0m\u001b[1;33m\u001b[0m\u001b[0m\n",
      "\u001b[0;31mIndexError\u001b[0m: index 51443 is out of bounds for axis 0 with size 51443"
     ]
    }
   ],
   "source": [
    "# Remove zero rows from bag of words\n",
    "_, idx = np.where(np.sum(bow,axis=1).squeeze()>0)\n",
    "X = X[idx]"
   ]
  },
  {
   "cell_type": "code",
   "execution_count": 85,
   "metadata": {
    "collapsed": true
   },
   "outputs": [],
   "source": [
    "X = np.asarray(X)"
   ]
  },
  {
   "cell_type": "code",
   "execution_count": 19,
   "metadata": {
    "collapsed": true
   },
   "outputs": [],
   "source": [
    "X_r = lda.datasets.load_reuters()\n",
    "vocab_r = lda.datasets.load_reuters_vocab()\n",
    "titles_r = lda.datasets.load_reuters_titles()"
   ]
  },
  {
   "cell_type": "code",
   "execution_count": 86,
   "metadata": {
    "collapsed": false
   },
   "outputs": [
    {
     "name": "stdout",
     "output_type": "stream",
     "text": [
      "(51443, 5000)\n",
      "51456\n",
      "[0 0 0 ..., 0 0 0]\n",
      "5000\n",
      "reuters\n",
      "(395, 4258)\n",
      "[[1 0 1 ..., 0 0 0]\n",
      " [7 0 2 ..., 0 0 0]\n",
      " [0 0 0 ..., 0 0 0]]\n",
      "395\n",
      "[1 0 1 ..., 0 0 0]\n",
      "4258\n"
     ]
    }
   ],
   "source": [
    "print(X.reshape(51443,5000).shape)\n",
    "print(len(titles))\n",
    "print(X[0])\n",
    "print(len(vocab))\n",
    "print('reuters')\n",
    "print(X_r.shape)\n",
    "print(X_r[0:3])\n",
    "print(len(titles_r))\n",
    "print(X_r[0])\n",
    "print(len(vocab_r))"
   ]
  },
  {
   "cell_type": "code",
   "execution_count": 112,
   "metadata": {
    "collapsed": false
   },
   "outputs": [
    {
     "name": "stderr",
     "output_type": "stream",
     "text": [
      "INFO:lda:n_documents: 51443\n",
      "INFO:lda:vocab_size: 5000\n",
      "INFO:lda:n_words: 512575\n",
      "INFO:lda:n_topics: 30\n",
      "INFO:lda:n_iter: 1500\n",
      "INFO:lda:<0> log likelihood: -6651135\n",
      "INFO:lda:<10> log likelihood: -4839542\n",
      "INFO:lda:<20> log likelihood: -4563456\n",
      "INFO:lda:<30> log likelihood: -4453960\n",
      "INFO:lda:<40> log likelihood: -4401469\n",
      "INFO:lda:<50> log likelihood: -4371028\n",
      "INFO:lda:<60> log likelihood: -4346722\n",
      "INFO:lda:<70> log likelihood: -4327880\n",
      "INFO:lda:<80> log likelihood: -4312978\n",
      "INFO:lda:<90> log likelihood: -4301306\n",
      "INFO:lda:<100> log likelihood: -4292240\n",
      "INFO:lda:<110> log likelihood: -4285505\n",
      "INFO:lda:<120> log likelihood: -4277939\n",
      "INFO:lda:<130> log likelihood: -4271829\n",
      "INFO:lda:<140> log likelihood: -4265097\n",
      "INFO:lda:<150> log likelihood: -4260939\n",
      "INFO:lda:<160> log likelihood: -4254980\n",
      "INFO:lda:<170> log likelihood: -4253736\n",
      "INFO:lda:<180> log likelihood: -4251166\n",
      "INFO:lda:<190> log likelihood: -4247902\n",
      "INFO:lda:<200> log likelihood: -4246344\n",
      "INFO:lda:<210> log likelihood: -4244174\n",
      "INFO:lda:<220> log likelihood: -4241816\n",
      "INFO:lda:<230> log likelihood: -4240868\n",
      "INFO:lda:<240> log likelihood: -4239489\n",
      "INFO:lda:<250> log likelihood: -4237851\n",
      "INFO:lda:<260> log likelihood: -4235833\n",
      "INFO:lda:<270> log likelihood: -4235314\n",
      "INFO:lda:<280> log likelihood: -4233437\n",
      "INFO:lda:<290> log likelihood: -4231186\n",
      "INFO:lda:<300> log likelihood: -4230446\n",
      "INFO:lda:<310> log likelihood: -4228726\n",
      "INFO:lda:<320> log likelihood: -4227729\n",
      "INFO:lda:<330> log likelihood: -4228036\n",
      "INFO:lda:<340> log likelihood: -4228236\n",
      "INFO:lda:<350> log likelihood: -4225517\n",
      "INFO:lda:<360> log likelihood: -4227837\n",
      "INFO:lda:<370> log likelihood: -4227331\n",
      "INFO:lda:<380> log likelihood: -4227125\n",
      "INFO:lda:<390> log likelihood: -4226140\n",
      "INFO:lda:<400> log likelihood: -4225825\n",
      "INFO:lda:<410> log likelihood: -4223572\n",
      "INFO:lda:<420> log likelihood: -4224054\n",
      "INFO:lda:<430> log likelihood: -4225637\n",
      "INFO:lda:<440> log likelihood: -4223503\n",
      "INFO:lda:<450> log likelihood: -4223717\n",
      "INFO:lda:<460> log likelihood: -4223267\n",
      "INFO:lda:<470> log likelihood: -4221815\n",
      "INFO:lda:<480> log likelihood: -4223254\n",
      "INFO:lda:<490> log likelihood: -4222810\n",
      "INFO:lda:<500> log likelihood: -4221963\n",
      "INFO:lda:<510> log likelihood: -4221667\n",
      "INFO:lda:<520> log likelihood: -4221433\n",
      "INFO:lda:<530> log likelihood: -4221947\n",
      "INFO:lda:<540> log likelihood: -4221163\n",
      "INFO:lda:<550> log likelihood: -4222353\n",
      "INFO:lda:<560> log likelihood: -4222269\n",
      "INFO:lda:<570> log likelihood: -4221101\n",
      "INFO:lda:<580> log likelihood: -4221884\n",
      "INFO:lda:<590> log likelihood: -4221307\n",
      "INFO:lda:<600> log likelihood: -4221841\n",
      "INFO:lda:<610> log likelihood: -4221606\n",
      "INFO:lda:<620> log likelihood: -4221216\n",
      "INFO:lda:<630> log likelihood: -4222340\n",
      "INFO:lda:<640> log likelihood: -4222662\n",
      "INFO:lda:<650> log likelihood: -4222785\n",
      "INFO:lda:<660> log likelihood: -4221466\n",
      "INFO:lda:<670> log likelihood: -4220544\n",
      "INFO:lda:<680> log likelihood: -4220772\n",
      "INFO:lda:<690> log likelihood: -4219983\n",
      "INFO:lda:<700> log likelihood: -4220316\n",
      "INFO:lda:<710> log likelihood: -4221342\n",
      "INFO:lda:<720> log likelihood: -4220416\n",
      "INFO:lda:<730> log likelihood: -4221648\n",
      "INFO:lda:<740> log likelihood: -4222396\n",
      "INFO:lda:<750> log likelihood: -4221003\n",
      "INFO:lda:<760> log likelihood: -4221655\n",
      "INFO:lda:<770> log likelihood: -4220467\n",
      "INFO:lda:<780> log likelihood: -4221365\n",
      "INFO:lda:<790> log likelihood: -4220514\n",
      "INFO:lda:<800> log likelihood: -4219550\n",
      "INFO:lda:<810> log likelihood: -4219250\n",
      "INFO:lda:<820> log likelihood: -4219789\n",
      "INFO:lda:<830> log likelihood: -4219249\n",
      "INFO:lda:<840> log likelihood: -4219862\n",
      "INFO:lda:<850> log likelihood: -4219246\n",
      "INFO:lda:<860> log likelihood: -4219707\n",
      "INFO:lda:<870> log likelihood: -4220063\n",
      "INFO:lda:<880> log likelihood: -4219117\n",
      "INFO:lda:<890> log likelihood: -4220240\n",
      "INFO:lda:<900> log likelihood: -4219837\n",
      "INFO:lda:<910> log likelihood: -4217859\n",
      "INFO:lda:<920> log likelihood: -4218752\n",
      "INFO:lda:<930> log likelihood: -4217817\n",
      "INFO:lda:<940> log likelihood: -4219421\n",
      "INFO:lda:<950> log likelihood: -4219515\n",
      "INFO:lda:<960> log likelihood: -4219167\n",
      "INFO:lda:<970> log likelihood: -4217962\n",
      "INFO:lda:<980> log likelihood: -4217972\n",
      "INFO:lda:<990> log likelihood: -4219198\n",
      "INFO:lda:<1000> log likelihood: -4217849\n",
      "INFO:lda:<1010> log likelihood: -4220325\n",
      "INFO:lda:<1020> log likelihood: -4218002\n",
      "INFO:lda:<1030> log likelihood: -4218751\n",
      "INFO:lda:<1040> log likelihood: -4219000\n",
      "INFO:lda:<1050> log likelihood: -4218031\n",
      "INFO:lda:<1060> log likelihood: -4217882\n",
      "INFO:lda:<1070> log likelihood: -4217957\n",
      "INFO:lda:<1080> log likelihood: -4217890\n",
      "INFO:lda:<1090> log likelihood: -4217400\n",
      "INFO:lda:<1100> log likelihood: -4218754\n",
      "INFO:lda:<1110> log likelihood: -4218861\n",
      "INFO:lda:<1120> log likelihood: -4217123\n",
      "INFO:lda:<1130> log likelihood: -4218699\n",
      "INFO:lda:<1140> log likelihood: -4216738\n",
      "INFO:lda:<1150> log likelihood: -4218526\n",
      "INFO:lda:<1160> log likelihood: -4219557\n",
      "INFO:lda:<1170> log likelihood: -4220055\n",
      "INFO:lda:<1180> log likelihood: -4218262\n",
      "INFO:lda:<1190> log likelihood: -4219144\n",
      "INFO:lda:<1200> log likelihood: -4220764\n",
      "INFO:lda:<1210> log likelihood: -4219017\n",
      "INFO:lda:<1220> log likelihood: -4220154\n",
      "INFO:lda:<1230> log likelihood: -4218930\n",
      "INFO:lda:<1240> log likelihood: -4218947\n",
      "INFO:lda:<1250> log likelihood: -4219409\n",
      "INFO:lda:<1260> log likelihood: -4218499\n",
      "INFO:lda:<1270> log likelihood: -4219509\n",
      "INFO:lda:<1280> log likelihood: -4219373\n",
      "INFO:lda:<1290> log likelihood: -4218932\n",
      "INFO:lda:<1300> log likelihood: -4219405\n",
      "INFO:lda:<1310> log likelihood: -4219057\n",
      "INFO:lda:<1320> log likelihood: -4219501\n",
      "INFO:lda:<1330> log likelihood: -4217753\n",
      "INFO:lda:<1340> log likelihood: -4219010\n",
      "INFO:lda:<1350> log likelihood: -4217346\n",
      "INFO:lda:<1360> log likelihood: -4217722\n",
      "INFO:lda:<1370> log likelihood: -4216752\n",
      "INFO:lda:<1380> log likelihood: -4218440\n",
      "INFO:lda:<1390> log likelihood: -4217361\n",
      "INFO:lda:<1400> log likelihood: -4216541\n",
      "INFO:lda:<1410> log likelihood: -4217967\n",
      "INFO:lda:<1420> log likelihood: -4216858\n",
      "INFO:lda:<1430> log likelihood: -4216856\n",
      "INFO:lda:<1440> log likelihood: -4217741\n",
      "INFO:lda:<1450> log likelihood: -4217819\n",
      "INFO:lda:<1460> log likelihood: -4217501\n",
      "INFO:lda:<1470> log likelihood: -4218133\n",
      "INFO:lda:<1480> log likelihood: -4218273\n",
      "INFO:lda:<1490> log likelihood: -4216730\n",
      "INFO:lda:<1499> log likelihood: -4217017\n"
     ]
    },
    {
     "data": {
      "text/plain": [
       "<lda.lda.LDA at 0x254043c9c50>"
      ]
     },
     "execution_count": 112,
     "metadata": {},
     "output_type": "execute_result"
    }
   ],
   "source": [
    "model = lda.LDA(n_topics=30, n_iter=1500, random_state=1)\n",
    "model.fit(X)"
   ]
  },
  {
   "cell_type": "code",
   "execution_count": 113,
   "metadata": {
    "collapsed": false
   },
   "outputs": [
    {
     "name": "stdout",
     "output_type": "stream",
     "text": [
      "Topic 0: war crimes iraq torture court former cia police\n",
      "Topic 1: rights human un turkey says kim jong president\n",
      "Topic 2: muslim attack muslims attacks pakistan suicide islamic people\n",
      "Topic 3: news bbc media china chinese internet facebook google\n",
      "Topic 4: law court new bill government ban internet laws\n",
      "Topic 5: russia russian ukraine putin military says us nato\n",
      "Topic 6: china world oil power energy food water gas\n",
      "Topic 7: isis us al syria syrian iraq afghanistan killed\n",
      "Topic 8: gaza saudi israel israeli arabia hamas aid fire\n",
      "Topic 9: police video man shot dead fire woman officers\n",
      "Topic 10: women sex gay pope children child abuse men\n",
      "Topic 11: pay bank million tax billion money banks 000\n",
      "Topic 12: drug mexico war world drugs marijuana president mexican\n",
      "Topic 13: 000 years year people last million since 10\n",
      "Topic 14: assange wikileaks us house julian bay swedish white\n",
      "Topic 15: israel israeli palestinian west palestinians jewish bank east\n",
      "Topic 16: germany united states eu european europe german would\n",
      "Topic 17: protest thousands protesters protests police government egypt anti\n",
      "Topic 18: iran us obama nuclear president iranian israel says\n",
      "Topic 19: japan new nuclear earthquake first japanese space fukushima\n",
      "Topic 20: party election right vote parliament germany uk german\n",
      "Topic 21: found 000 old year plane dead missing discovered\n",
      "Topic 22: north korea south china korean us japan ship\n",
      "Topic 23: us nsa snowden wikileaks secret data documents government\n",
      "Topic 24: health new children cancer ebola scientists doctors first\n",
      "Topic 25: people one like world get know would going\n",
      "Topic 26: oil africa great world amazon brazil farmers land\n",
      "Topic 27: minister trump prime says president foreign french pm\n",
      "Topic 28: world climate change global new could countries china\n",
      "Topic 29: year old years death man woman prison girl\n"
     ]
    }
   ],
   "source": [
    "topic_word = model.topic_word_  # model.components_ also works\n",
    "n_top_words = 8\n",
    "for i, topic_dist in enumerate(topic_word):\n",
    "    topic_words = np.array(vocab)[np.argsort(topic_dist)][:-(n_top_words+1):-1]\n",
    "    print('Topic {}: {}'.format(i, ' '.join(topic_words)))"
   ]
  },
  {
   "cell_type": "code",
   "execution_count": 118,
   "metadata": {
    "collapsed": false,
    "scrolled": true
   },
   "outputs": [
    {
     "name": "stdout",
     "output_type": "stream",
     "text": [
      "(51443, 30)\n",
      "Macron wins French presidency by decisive margin over Le Pen (top topic: 27)\n",
      "Theresa May announces snap election for June 8th (top topic: 20)\n",
      "Macron-Le Pen 'in French run-off' (top topic: 27)\n",
      "900 suspected pedophiles arrested as darknet child porn kingpin jailed for 30yrs (top topic: 10)\n",
      "Trump defends 'right' to share secrets - BBC News (top topic: 3)\n",
      "Macron campaign emails appear to be leaked online (top topic: 3)\n",
      "Norway's Progress Party calls for ban on circumcision of boys (top topic: 10)\n",
      "CNN exclusive: Grand jury subpoenas issued in FBI's Russia investigation (top topic: 0)\n",
      "Champs Elysées in Paris closed, reports of 2 police officers shot. (top topic: 2)\n",
      "Hospitals across England hit by large-scale cyber-attack (top topic: 22)\n"
     ]
    }
   ],
   "source": [
    "doc_topic = model.doc_topic_\n",
    "for i in range(10):\n",
    "    print(\"{} (top topic: {})\".format(titles[i], doc_topic[i].argmax()))"
   ]
  },
  {
   "cell_type": "code",
   "execution_count": 114,
   "metadata": {
    "collapsed": false
   },
   "outputs": [
    {
     "data": {
      "text/plain": [
       "-4217017.299497036"
      ]
     },
     "execution_count": 114,
     "metadata": {},
     "output_type": "execute_result"
    }
   ],
   "source": [
    "model.loglikelihood()"
   ]
  },
  {
   "cell_type": "code",
   "execution_count": 120,
   "metadata": {
    "collapsed": false
   },
   "outputs": [
    {
     "name": "stdout",
     "output_type": "stream",
     "text": [
      "Title: Bombing reported near church in Egyptian city of Tanta\n",
      "Title: Plot to hit German shopping centre with multiple suicide bombers is foiled after police are tipped off about 'imminent attack'\n",
      "Title: Alexandre Bissonnette identified as suspect in #QuebecShooting. Mohamed Khadir, originally identified as a suspect, has now been named as a witness.\n",
      "Title: Berlin market attack suspect killed in Milan, reports say\n",
      "Title: Istanbul nightclub attack: ISIS claims responsibility\n",
      "Title: 28 dead, 54 injured in bomb attacks in Baghdad\n",
      "Title: At least 22 killed after suicide bomber targets crowded Baghdad market\n",
      "Title: Muslim cleric banned in Pakistan is preaching in UK mosques: It is feared that Syed Muzaffar Shah Qadri, who praised the murder of a politician, will incite hatred between Muslims\n",
      "Title: Muslim mob attacks Mosque in Pakistan\n",
      "Title: American university in Kabul under attack, reports of gunfire, explosion\n",
      "Title: A suicide car bomb killed at least 21 people and wounded more than 32 at the entrance to a town northeast of Baghdad on Monday morning\n",
      "Title: \"Obvious link between the gunman and Norway's mass killer Anders Behring Breivik - German Police\n",
      "Title: Suicide attack in Baghdad kills at least 10 people\n",
      "Title: Danish Muslims refuse to bury Normandy church terrorist. After standing in solidarity with Christians mourning the victims of the attack, local Muslim leaders in France have refused to grant Kermiche an Islamic burial.\n",
      "Title: At least 83 killed, 176 wounded in separate bombings across Baghdad\n",
      "Title: Gunfire heard in Bangladeshi capital Dhaka | Hostage situation likely.\n",
      "Title: Nice attack: Mohamed Lahouaiej Bouhlel identified as French-Tunisian man behind lorry massacre\n",
      "Title: Shootout with mass casualties reported in central Ankara, over 150 injured in Istanbul\n",
      "Title: 2 more arrested in Nice, France, truck attack\n",
      "Title: Killing of non-Muslims and minority groups forbidden in Islam.Bangladeshi clerics have issued a fatwa against the killings of minorities and secular campaigners in the mainly Muslim country, where police have arrested over 10,000 people in a crackdown on militancy.\n",
      "Title: A university professor has been hacked to death in Bangladesh, in an attack police say is similar to a number of killings of secular bloggers and atheist activists in the past months\n",
      "Title: A Copenhagen art exhibit planning to portray two of the Brussels suicide bombers and one of the Paris Bataclan attackers as “martyrs” has been reported to police for encouraging terrorism.\n",
      "Title: At least 20 reported wounded in Jerusalem bus blast\n",
      "Title: Paris attacks suspect Mohamed Abrini arrested\n",
      "Title: Charlie Hebdo criticised for calling Brussels attacks tip of Islam 'iceberg'\n",
      "Title: ISIS threatens UK with 'harder and more bitter' attack than Brussels after claiming responsibility for bombings which killed 34 people\n",
      "Title: Rescuers: Female suicide bombers kill 22 at Nigerian mosque\n",
      "Title: Kurdish militant group claims responsibility for suicide bombing in Ankara that killed 28\n",
      "Title: Another Islamic State jailer who held Western hostages identified as Londoner\n",
      "Title: Hindu priest killed in Bangladesh, Isis claims responsibility\n",
      "Title: Explosions heard in Indonesian capital - in Jakarta, with reports of casualties.\n",
      "Title: Burkina Faso attack: 'At least 20 dead' in Ouagadougou hotel\n",
      "Title: Terror attack foiled in French region of Orleans\n",
      "Title: Deadly bomb rips through Pakistan market killing at least 20 people and wounding 40 others\n",
      "Title: Egypt: 12 Killed, 5 Hurt in Firebomb Attack at Nightclub\n",
      "Title: 'Shootings' reported in central Paris: Reports of shooting and casualties in central Paris\n",
      "Title: Paris attacks ringleader dead - French officials\n",
      "Title: Day of mourning in Lebanon after deadly Beirut bombings | A national day of mourning was held Friday after two suicide bombers on motorcycles killed at least 43 people and wounded more than 200 others in a predominantly Shia area of southern Beirut.\n",
      "Title: Senior London Shia scholar declares jihad against extremism, against the forces misusing the name of Islam; against ISIS\n",
      "Title: Terror attack in West Bank: Four Israelis wounded in shooting. This is 6th terror attack in 10 days of Ramadan\n",
      "Title: Islamic State (IS) fighters have been targeted by other radical Islamist groups in Libya who have now declared a jihad against the extremist group.\n",
      "Title: 40 shia muslims gunned down by gunmen in a bus in Pakistan.\n",
      "Title: Four arrested in Germany for terror plot against Muslims: Three men and a woman held for possession of explosives and for planning attacks on mosques and leading Muslim figures\n",
      "Title: France police foil 'church attack plot'\n",
      "Title: Norway arrests radical Islamic preacher who praised Charlie Hebdo killers\n",
      "Title: 137 Killed, 345 Injured in Suicide Attacks on Yemen Mosques\n",
      "Title: 77 dead in Mosque bombings in Yemen\n",
      "Title: Norway arrests radical preacher who praised Charlie Hebdo killers\n",
      "Title: Taliban Arrests ISIS Leader for 'Anti-Islamic Activities'\n",
      "Title: Ahmed Merabet, Cop Killed In Paris Attacks, Was Muslim\n",
      "Title: Arson attack at German newspaper that printed Charlie Hebdo cartoons\n",
      "Title: Danish newspaper to print Charlie Hebdo cartoons on Islam\n",
      "Title: Bomb threat at Belgian paper that reprinted Charlie Hebdo cartoons\n",
      "Title: Hundreds in southern Afghanistan rallied to praise the killing of 12 people at the French newspaper Charlie Hebdo, calling the two gunmen \"heroes\" who meted out punishment for cartoons disrespectful to Islam's prophet, officials said Saturday.\n",
      "Title: PEGIDA Cancels Anti-Islam Rally in Germany Over Death Threat From IS\n",
      "Title: Three confirmed dead, including gunman, in Sydney siege\n",
      "Title: Kenya bus attack: 28 non-Muslims killed after being unable to recite Koran in suspected al-Shabab attack\n",
      "Title: Four polio vaccinators shot dead in Pakistan\n",
      "Title: Thirteen Arrested as 500 Police Storm Mosques and Homes in Austria Counter-Terror Raids | VICE News\n",
      "Title: Suicide attacks by two female bombers at a crowded market in northern Nigeria's Maiduguri city have killed 78 people, medical officials say.\n",
      "Title: Muslim majority Indonesia’s capital gets Christian leader\n",
      "Title: 14 wounded as Kurds and 'radical Muslims' clash in Germany\n",
      "Title: Terror attack in Jerusalem. 1 killed, 5 injured, terrorist shot dead.\n",
      "Title: Explosion rips through mall in Nigerian capital, killing at least 21: police\n",
      "Title: Moderate Muslim preacher shot dead in Kenya\n",
      "Title: Boko Haram Islamists 'kill dozens' in attack on churches in Nigeria - At least three churches reported burned down and dozens of men, women and children killed near Chibok by Islamist militants\n",
      "Title: Seven car bombs went off almost simultaneously in Baghdad killing at least 21 people\n",
      "Title: BBC News - At least three people have been shot dead near the Jewish Museum in the Belgian capital Brussels, officials say\n",
      "Title: A suicide bomber driving a minibus packed with explosives killed at least 32 people and wounded 147 on Sunday in the southern Iraqi city of Hilla\n",
      "Title: Buddhist Mob Group Kills Dozens of Muslims in Myanmar.\n",
      "Title: Egypt declares Muslim Brotherhood 'terrorist' group\n",
      "Title: Egyptian government Declares the Muslim Brotherhood 'a terrorist organization'\n",
      "Title: 'All Muslims leave... we only want to kill non-Muslims': Gunmen massacre at least 22 in Kenyan shopping mall after releasing anyone who could prove they were Islamic by reciting a prayer\n",
      "Title: Gunmen attack Kenyan shopping centre leaving at least 15 people dead\n",
      "Title: Muslim Brotherhood leader is hiding in London\n",
      "Title: Buddhist Mobs Burn Mosque and Muslim School in Myanmar\n",
      "Title: French Parliament legalises Gay Marriage\n",
      "Title: Price of Gold Collapses....investors panic.\n",
      "Title: A new exhibition aims to celebrate the role Muslims played in saving Jewish lives during the Holocaust.\n",
      "Title: \n",
      "China has almost 10,000 kilometers of high speed rail now and will have 5 times more by 2020 - Forcing China's Airlines to Shift Focus to International Travel\n",
      "Title: Four killed in Bangladesh clashes over \"atheist bloggers\" -- At least four people were killed and over 200 injured in Bangladesh on Friday as hundreds of Islamists clashed with police here and other major cities demanding execution of \"atheist bloggers\" they accused of blasphemy\n",
      "Title: Oldest Pharaoh Carvings Discovered in Egypt. The scenes place the age of the carvings between 3200 B.C. and 3100 B.C., researchers report in the December issue of the journal Antiquity. During that time, Egypt was transitioning into the dynastic rule of the pharaohs.\n",
      "Title: The men who would save Mali's manuscripts - Islamist militants in Timbuktu destroyed graves & shrines associated with Sufism this year. Some fear the ancient manuscripts  are next.\n",
      "Title: Israeli soldiers open fire in Gaza buffer zone - 1 killed, 10 injured\n",
      "Title: China’s Communist Party Congratulates Obama on Victory \n",
      "Title: Narconomics | The Economist\n",
      "Title: Judge declares Dotcom search warrants illegal\n",
      "Title: UK Serious Fraud Office (SFO) launches Libor investigation\n",
      "Title: Timbuktu’s Destruction: Why Islamists Are Wrecking Mali’s Cultural Heritage\n",
      "\n",
      "\n",
      "Title: EU blocks France ban on Monsanto corn: \"Based on the documentation submitted by France, there is no specific scientific evidence, in terms of risk to human and animal health or the environment\"\n",
      "Title: BBC News - Gay marriage 'nothing to fear', say senior \n",
      "Anglicans\n",
      "Title: European Pirates Ahoy? Pirates Aim to Echo German Success Across Continent - SPIEGEL ONLINE\n",
      "Title: North Korea missile launch expected in next 24 to 48 hours\n",
      "Title: Falkvinge: We are Winning -- How Pirate Parties are Changing the World\n",
      "Title: Chile: Protesters Demanding Education Rights Met With Tear Gas, Water Cannons: Protesters reject 2-tiered education system, demand free, quality education for all\n",
      "Title: Standard and Poor are being sued in Australia for the AAA rating they assigned to toxic structured-finance products\n",
      "Title: The 'Human Costs' of an iPad -- \"Oddly, it is Apple's own internal reports that reveal most of these problems to Western observers, but attempts to correct the issues and improve the fortunes of laborers have a tendency to clash with the company's own insistence on low costs and high volume.\"\n",
      "Title: End of anonymity in Chinese microblogging - Weibo users will be forced to register with real names\n",
      "Title: Mosque Set on Fire in Northern Israel\n",
      "Title: 'Multiple blasts and gunfire' in Tripoli\n",
      "Title: North Korea turns to online game hacking to raise cash - \n",
      "Crushed by antinuclear weapons sanctions the regime is hacking computer games to make money\n",
      "Title: Dow Jones CEO Les Hinton resigns amid News Corp \n",
      "phone hack scandal\n",
      "Title: Pakistani troops open fire on ISAF helicopters at Afghan border\n",
      "Title: Fukushima Reactor 1 melted down, 2 and 3 may \n",
      "have too\n",
      "Title: Japan to raise Fukushima crisis level from 5 to 7, the worst on the international scale.\n",
      "Title: Canada's lead weapons treaty negotiator has been removed from his post after American negotiators complained he was \"too tough and aggressive\" on behalf of Canada in disarmament talks.\n",
      "\n",
      "Title: Gunmen have kidnapped a 28-year-old woman who was the last police officer in the town of Guadalupe, Mexico. About 10 unidentified gunmen set fire to the home of Erika Gandara and torched both cars parked outside for good measure before abducting her...\n",
      "Title: A historic vote in Sudan [pics]\n",
      "Title: World on brink of social unrest over food prices - Violence in Algeria could be the start of protests over rising costs of essential commodities such as grain and meat.\n",
      "Title: Mexican paper asks drug cartels to guide its news coverage.  Biggest newspaper in Ciudad Juárez decides to restrict its drug war coverage after killing of second employee in two years\r\n",
      "\n",
      "Title: Amnesty International Calls For Public Inquiry Into G20 Policing \n",
      "Title: What about compensation for Bhopal? It took 17 years for the Indian government to obtain $470m compensation on behalf of the victims of the Union Carbide disaster in Bhopal – a paltry sum compared to the $20B fund set up by BP\n",
      "Title: Hamas calls for \"intifada\": \"Martyrs by the millions, onwards to Jerusalem\"\n",
      "Title: Life is elsewhere - In Germany, the United Kingdom and the Netherlands, more and more people are choosing to emigrate to other continents in a quest for better living conditions.\n",
      "\n",
      "Title: Birth defects 'have risen since US Falluja operation'\n",
      "Title: Five British yachtsmen have been detained by the Iranian navy\n",
      "Title: Oops, Italian police have crashed their most valuable patrol car, a 165,000-euro (£150,000) Lamborghini.\n",
      "Title: Man blows himself up while fishing with dynamite\n",
      "Title: Mexican President: US authorities 'complicit' in drug trafficking \n",
      "Title: Russian man dies of Viagra overdose after two women challenge him to 24 hour sex orgy.\n",
      "Title: While claiming to be non-partisan and not for profit MEMRI uses US tax payer money to mistranslate Arab news media to further a pro-Israel agenda\n",
      "Title: U.S. may use Georgian air bases to strike at Iran\n",
      "Title: Iran to introduce death penalty for blogging\n",
      "Title: Monday: 87 Iraqis Killed, 288 Wounded \n",
      "Title: US troop deaths hit 7-month high in Iraq\n",
      "Title: China Wants To Block Protesters During Oplympic Torch Relay in Australia?\n"
     ]
    }
   ],
   "source": [
    "idxs = np.where(doc_topic[:,2]>0.6)[0]\n",
    "for i in range(len(idxs)):\n",
    "    print(\"Title: {}\".format(titles[idxs[i]]))"
   ]
  },
  {
   "cell_type": "code",
   "execution_count": null,
   "metadata": {
    "collapsed": true
   },
   "outputs": [],
   "source": []
  }
 ],
 "metadata": {
  "kernelspec": {
   "display_name": "Python 3",
   "language": "python",
   "name": "python3"
  },
  "language_info": {
   "codemirror_mode": {
    "name": "ipython",
    "version": 3
   },
   "file_extension": ".py",
   "mimetype": "text/x-python",
   "name": "python",
   "nbconvert_exporter": "python",
   "pygments_lexer": "ipython3",
   "version": "3.6.0"
  }
 },
 "nbformat": 4,
 "nbformat_minor": 2
}
