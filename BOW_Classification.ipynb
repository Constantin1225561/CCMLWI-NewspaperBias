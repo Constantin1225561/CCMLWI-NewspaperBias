{
 "cells": [
  {
   "cell_type": "code",
   "execution_count": 1,
   "metadata": {
    "collapsed": false,
    "deletable": true,
    "editable": true
   },
   "outputs": [
    {
     "name": "stdout",
     "output_type": "stream",
     "text": [
      "['BBC' 'CNN' 'Foxnews' 'Independent' 'Reuters' 'The Guardian']\n",
      "[11694  3567  1418  4722 12879  8797]\n"
     ]
    }
   ],
   "source": [
    "import random\n",
    "import pandas as pd\n",
    "import numpy as np\n",
    "\n",
    "#df = pd.read_csv(\"data/reddit2017.csv\", header=0)\n",
    "df = pd.read_csv(\"data/redditSelectedDomains.csv\", header=0)\n",
    "un, counts = np.unique(df[\"Domain\"].as_matrix(), return_counts=True)\n",
    "#print(un)\n",
    "#print(counts)\n",
    "\n",
    "selected_domains = []\n",
    "for i in range(0, len(un)):\n",
    "    if counts[i] > 350:\n",
    "        selected_domains.append(un[i])\n",
    "#['abcnews.go.com' 'aljazeera.com' 'bbc.co.uk' 'bbc.com' 'bloomberg.com'\n",
    "# 'cbc.ca' 'cnn.com' 'dw.com' 'edition.cnn.com' 'foxnews.com'\n",
    "# 'independent.co.uk' 'nytimes.com' 'reuters.com' 'rt.com' 'telegraph.co.uk'\n",
    "# 'theguardian.com' 'uk.reuters.com' 'washingtonpost.com' 'yahoo.com']\n",
    "\n",
    "selected_domains = [#'abcnews.go.com', remove because weak\n",
    "                    #'aljazeera.com', remove because weak\n",
    "                    #'bbc.co.uk', remove because same as bbc.com\n",
    "                    'bbc.com', 'bloomberg.com',\n",
    " 'cbc.ca', 'cnn.com', 'dw.com', #'edition.cnn.com', remove because same as ccn.com\n",
    "                    'foxnews.com',\n",
    " 'independent.co.uk', 'nytimes.com', 'reuters.com', 'rt.com', #'telegraph.co.uk', remove because weak prediction\n",
    " 'theguardian.com', #'uk.reuters.com', remove because same as reuters\n",
    "                    'washingtonpost.com'#, 'yahoo.com' remove because weak prediction\n",
    "                   ]\n",
    "\n",
    "df['Domain'] = df['Domain'].replace('uk.reuters.com', 'reuters.com')\n",
    "df['Domain'] = df['Domain'].replace('edition.cnn.com', 'cnn.com')\n",
    "df['Domain'] = df['Domain'].replace('bbc.co.uk', 'bbc.com')\n",
    "df['Domain'] = df['Domain'].replace('theguardian.co.uk', 'theguardian.com')\n",
    "\n",
    "df['Domain'] = df['Domain'].replace('bbc.com', 'BBC')\n",
    "df['Domain'] = df['Domain'].replace('bloomberg.com', 'Bloomberg')\n",
    "df['Domain'] = df['Domain'].replace('cbc.ca', 'CBC')\n",
    "df['Domain'] = df['Domain'].replace('cnn.com', 'CNN')\n",
    "df['Domain'] = df['Domain'].replace('dw.com', 'Deutsche Welle')\n",
    "df['Domain'] = df['Domain'].replace('foxnews.com', 'Foxnews')\n",
    "df['Domain'] = df['Domain'].replace('independent.co.uk', 'Independent')\n",
    "df['Domain'] = df['Domain'].replace('nytimes.com', 'The New York Times')\n",
    "df['Domain'] = df['Domain'].replace('reuters.com', 'Reuters')\n",
    "df['Domain'] = df['Domain'].replace('rt.com', 'Russia Today')\n",
    "df['Domain'] = df['Domain'].replace('theguardian.com', 'The Guardian')\n",
    "df['Domain'] = df['Domain'].replace('washingtonpost.com', 'The Washington Post')\n",
    "selected_domains = [w.replace(\"bbc.com\", \"BBC\") for w in selected_domains]\n",
    "selected_domains = [w.replace('bloomberg.com', 'Bloomberg') for w in selected_domains]\n",
    "selected_domains = [w.replace('cbc.ca', 'CBC') for w in selected_domains]\n",
    "selected_domains = [w.replace('cnn.com', 'CNN') for w in selected_domains]\n",
    "selected_domains = [w.replace('dw.com', 'Deutsche Welle') for w in selected_domains]\n",
    "selected_domains = [w.replace('foxnews.com', 'Foxnews') for w in selected_domains]\n",
    "selected_domains = [w.replace('independent.co.uk', 'Independent') for w in selected_domains]\n",
    "selected_domains = [w.replace('nytimes.com', 'The New York Times') for w in selected_domains]\n",
    "selected_domains = [w.replace('reuters.com', 'Reuters') for w in selected_domains]\n",
    "selected_domains = [w.replace('rt.com', 'Russia Today') for w in selected_domains]\n",
    "selected_domains = [w.replace('theguardian.com', 'The Guardian') for w in selected_domains]\n",
    "selected_domains = [w.replace('washingtonpost.com', 'The Washington Post') for w in selected_domains]\n",
    "\n",
    "df = df[df[\"Domain\"].isin(selected_domains)]\n",
    "un, counts = np.unique(df[\"Domain\"].as_matrix(), return_counts=True)\n",
    "print(un)\n",
    "print(counts)\n",
    "min_counts = min(counts)\n",
    "#print(min_counts)\n",
    "\n",
    "train = pd.DataFrame()\n",
    "test = pd.DataFrame()\n",
    "\n",
    "for i in range(0, len(selected_domains)):\n",
    "    domain = selected_domains[i]\n",
    "    ddf = df[df[\"Domain\"] == domain]\n",
    "    ddf = ddf.head(min_counts)\n",
    "    msk = np.random.rand(len(ddf)) < 0.8\n",
    "    train = train.append(ddf[msk])\n",
    "    test = test.append(ddf[~msk])\n",
    "\n",
    "train.to_csv( \"data/train.csv\", index=False, quotechar='\"',escapechar='\\\\')\n",
    "test.to_csv( \"data/test.csv\", index=False, quotechar='\"',escapechar='\\\\')"
   ]
  },
  {
   "cell_type": "code",
   "execution_count": 2,
   "metadata": {
    "collapsed": false,
    "deletable": true,
    "editable": true
   },
   "outputs": [],
   "source": [
    "import pandas as pd\n",
    "train = pd.read_csv(\"data/train.csv\", header=0, encoding='latin1')"
   ]
  },
  {
   "cell_type": "code",
   "execution_count": 3,
   "metadata": {
    "collapsed": false,
    "deletable": true,
    "editable": true
   },
   "outputs": [
    {
     "data": {
      "text/plain": [
       "<bound method NDFrame.head of            Created        Domain  \\\n",
       "0     1.495602e+09           BBC   \n",
       "1     1.495583e+09           BBC   \n",
       "2     1.495589e+09           BBC   \n",
       "3     1.495595e+09           BBC   \n",
       "4     1.495571e+09           BBC   \n",
       "5     1.495563e+09           BBC   \n",
       "6     1.495567e+09           BBC   \n",
       "7     1.495569e+09           BBC   \n",
       "8     1.495564e+09           BBC   \n",
       "9     1.495565e+09           BBC   \n",
       "10    1.495566e+09           BBC   \n",
       "11    1.495575e+09           BBC   \n",
       "12    1.495564e+09           BBC   \n",
       "13    1.495546e+09           BBC   \n",
       "14    1.495543e+09           BBC   \n",
       "15    1.495544e+09           BBC   \n",
       "16    1.495554e+09           BBC   \n",
       "17    1.495530e+09           BBC   \n",
       "18    1.495526e+09           BBC   \n",
       "19    1.495525e+09           BBC   \n",
       "20    1.495527e+09           BBC   \n",
       "21    1.495500e+09           BBC   \n",
       "22    1.495504e+09           BBC   \n",
       "23    1.495508e+09           BBC   \n",
       "24    1.495496e+09           BBC   \n",
       "25    1.495503e+09           BBC   \n",
       "26    1.495504e+09           BBC   \n",
       "27    1.495481e+09           BBC   \n",
       "28    1.495475e+09           BBC   \n",
       "29    1.495494e+09           BBC   \n",
       "...            ...           ...   \n",
       "6713  1.488133e+09  The Guardian   \n",
       "6714  1.488151e+09  The Guardian   \n",
       "6715  1.488120e+09  The Guardian   \n",
       "6716  1.488125e+09  The Guardian   \n",
       "6717  1.488122e+09  The Guardian   \n",
       "6718  1.488111e+09  The Guardian   \n",
       "6719  1.488092e+09  The Guardian   \n",
       "6720  1.488094e+09  The Guardian   \n",
       "6721  1.488091e+09  The Guardian   \n",
       "6722  1.488102e+09  The Guardian   \n",
       "6723  1.488102e+09  The Guardian   \n",
       "6724  1.488073e+09  The Guardian   \n",
       "6725  1.488086e+09  The Guardian   \n",
       "6726  1.488068e+09  The Guardian   \n",
       "6727  1.488027e+09  The Guardian   \n",
       "6728  1.488030e+09  The Guardian   \n",
       "6729  1.488011e+09  The Guardian   \n",
       "6730  1.487988e+09  The Guardian   \n",
       "6731  1.487994e+09  The Guardian   \n",
       "6732  1.487991e+09  The Guardian   \n",
       "6733  1.487983e+09  The Guardian   \n",
       "6734  1.487958e+09  The Guardian   \n",
       "6735  1.487947e+09  The Guardian   \n",
       "6736  1.487938e+09  The Guardian   \n",
       "6737  1.487947e+09  The Guardian   \n",
       "6738  1.487927e+09  The Guardian   \n",
       "6739  1.487917e+09  The Guardian   \n",
       "6740  1.487893e+09  The Guardian   \n",
       "6741  1.487900e+09  The Guardian   \n",
       "6742  1.487907e+09  The Guardian   \n",
       "\n",
       "                                                  Title  \n",
       "0     UK terror threat level raised to highest level...  \n",
       "1     Ex-national security adviser 'lied' on securit...  \n",
       "2     'Half a glass of wine every day' increases bre...  \n",
       "3     Tedros Adhanom Ghebreyesus: Ethiopian wins top...  \n",
       "4     The Trump administration has granted a six-mon...  \n",
       "5     Germany cracks Europe-wide burglary gang of 50...  \n",
       "6     Germany cracks Europe-wide burglary gang of 50...  \n",
       "7     Bahrain police 'open fire on sit-in' around Sh...  \n",
       "8     More evidence for WannaCry 'link' to North Kor...  \n",
       "9     Nato hit by Turkish veto on Austria partnershi...  \n",
       "10    Indonesian men caned for gay sex in Aceh - BBC...  \n",
       "11    #MissinginManchester: The fake images circulat...  \n",
       "12    Bahrain police 'open fire on sit-in' around Sh...  \n",
       "13    A record number of people have complained afte...  \n",
       "14    US forces kill seven al-Qaeda militants in Yem...  \n",
       "15    Trump to meet Palestinian leader Abbas in West...  \n",
       "16    Amazon adds live TV channels to Prime Video - ...  \n",
       "17            Indonesian men to face caning for gay sex  \n",
       "18           Greece fails to secure fresh bailout funds  \n",
       "19    Park Geun-hye: S Korea awaits trial of impeach...  \n",
       "20              Portugal back to fiscal health, says EU  \n",
       "21     Intersex patients 'routinely lied to by doctors'  \n",
       "22    Stockpiles of dead tiger and rhino body parts ...  \n",
       "23    Turkey crowd taunts coup suspects at mass tria...  \n",
       "24    General election: Theresa May denies social ca...  \n",
       "25    General election 2017: May defends revised soc...  \n",
       "26    Oxford University student Lavinia Woodward: 'N...  \n",
       "27    New rules in UK have come into force which mea...  \n",
       "28    Head of government praises woman who cut genit...  \n",
       "29    While the US signs a 100 billion dollar arms d...  \n",
       "...                                                 ...  \n",
       "6713  Son of Nazi governor returns art stolen from P...  \n",
       "6714  A Syrian cameraman and rescue worker whose doc...  \n",
       "6715  Swedish military and foreign-affairs officials...  \n",
       "6716  Revealed: how US billionaire helped to back Br...  \n",
       "6717  Pakistan airliner flew with seven extra passen...  \n",
       "6718  Kurds offer land for independence in struggle ...  \n",
       "6719  Biologists say half of all species could be ex...  \n",
       "6720  Plans for the first contact between North Kore...  \n",
       "6721  Tens of thousands of children at more than 800...  \n",
       "6722  French artist living inside a rock surrounded ...  \n",
       "6723  Palestinians in raptures as Yaqoub Shaheen win...  \n",
       "6724  Australian children's author Mem Fox detained ...  \n",
       "6725  World gets thirst for British gin as exports h...  \n",
       "6726  Fearing for the wurst: German ministry under f...  \n",
       "6727  Shinzo Abe and wife under pressure over ties t...  \n",
       "6728  Plans for first post-Trump US contact with Nor...  \n",
       "6729  EU states back call for UK to agree â¬60bn ex...  \n",
       "6730  Mexico tells US it will refuse deportees from ...  \n",
       "6731  Australian taxpayers to pay for oil spill clea...  \n",
       "6732  Huge cannabis farm 'was staffed by trafficked ...  \n",
       "6733  Donors pledge $672m at Oslo summit to avert fa...  \n",
       "6734  China hits back at Trump 'champion of currency...  \n",
       "6735  Catholic leader says not 'remotely enough' sup...  \n",
       "6736  Australia's 'biggest ever' antivenom dose save...  \n",
       "6737  Great Barrier Reef could face another big cora...  \n",
       "6738  Kim Jong-nam killed by chemical weapon, say Ma...  \n",
       "6739  Germany overtakes UK to become fastest-growing...  \n",
       "6740  Germany overtakes UK as fastest-growing G7 eco...  \n",
       "6741  Geert Wilders suspends election campaign over ...  \n",
       "6742  MPs call on Theresa May to release 'kill list'...  \n",
       "\n",
       "[6743 rows x 3 columns]>"
      ]
     },
     "execution_count": 3,
     "metadata": {},
     "output_type": "execute_result"
    }
   ],
   "source": [
    "train.head"
   ]
  },
  {
   "cell_type": "code",
   "execution_count": 4,
   "metadata": {
    "collapsed": false,
    "deletable": true,
    "editable": true
   },
   "outputs": [],
   "source": [
    "import nltk\n",
    "from nltk.corpus import stopwords\n",
    "#print (stopwords.words(\"english\") )\n",
    "from bs4 import BeautifulSoup\n",
    "import re"
   ]
  },
  {
   "cell_type": "code",
   "execution_count": 5,
   "metadata": {
    "collapsed": true,
    "deletable": true,
    "editable": true
   },
   "outputs": [],
   "source": [
    "def title_to_words( raw_title ):\n",
    "    title_text = BeautifulSoup(raw_title).get_text()     \n",
    "    letters_only = re.sub(\"[^a-zA-Z]\", \" \", title_text)\n",
    "    words = letters_only.lower().split()\n",
    "    stops = set(stopwords.words(\"english\"))\n",
    "    meaningful_words = [w for w in words if not w in stops]\n",
    "    return( \" \".join( meaningful_words ))"
   ]
  },
  {
   "cell_type": "code",
   "execution_count": 6,
   "metadata": {
    "collapsed": false,
    "deletable": true,
    "editable": true
   },
   "outputs": [
    {
     "name": "stderr",
     "output_type": "stream",
     "text": [
      "/usr/lib/python3/dist-packages/bs4/__init__.py:166: UserWarning: No parser was explicitly specified, so I'm using the best available HTML parser for this system (\"lxml\"). This usually isn't a problem, but if you run this code on another system, or in a different virtual environment, it may use a different parser and behave differently.\n",
      "\n",
      "To get rid of this warning, change this:\n",
      "\n",
      " BeautifulSoup([your markup])\n",
      "\n",
      "to this:\n",
      "\n",
      " BeautifulSoup([your markup], \"lxml\")\n",
      "\n",
      "  markup_type=markup_type))\n"
     ]
    },
    {
     "name": "stdout",
     "output_type": "stream",
     "text": [
      "Title 1000 of 6743\n",
      "Title 2000 of 6743\n",
      "Title 3000 of 6743\n",
      "Title 4000 of 6743\n",
      "Title 5000 of 6743\n",
      "Title 6000 of 6743\n"
     ]
    }
   ],
   "source": [
    "num_titles = train[\"Title\"].size\n",
    "clean_train_titles = []\n",
    "for i in range( 0, num_titles ):\n",
    "    if( (i+1)%1000 == 0 ):\n",
    "        print (\"Title %d of %d\" % ( i+1, num_titles ))\n",
    "    clean_train_titles.append( title_to_words( train[\"Title\"][i] ) )"
   ]
  },
  {
   "cell_type": "code",
   "execution_count": 16,
   "metadata": {
    "collapsed": false,
    "deletable": true,
    "editable": true
   },
   "outputs": [
    {
     "name": "stdout",
     "output_type": "stream",
     "text": [
      "Creating the bag of words...\n",
      "(6743, 5000)\n"
     ]
    }
   ],
   "source": [
    "print (\"Creating the bag of words...\")\n",
    "from sklearn.feature_extraction.text import CountVectorizer\n",
    "\n",
    "vectorizer = CountVectorizer(analyzer = \"word\",   \\\n",
    "                             tokenizer = None,    \\\n",
    "                             preprocessor = None, \\\n",
    "                             stop_words = None,   \\\n",
    "                             max_features = 5000) \n",
    "\n",
    "train_data_features = vectorizer.fit_transform(clean_train_titles)\n",
    "train_data_features = train_data_features.toarray()\n",
    "print (train_data_features.shape)"
   ]
  },
  {
   "cell_type": "code",
   "execution_count": 8,
   "metadata": {
    "collapsed": false,
    "deletable": true,
    "editable": true
   },
   "outputs": [
    {
     "name": "stdout",
     "output_type": "stream",
     "text": [
      "Training the random forest...\n"
     ]
    }
   ],
   "source": [
    "print (\"Training the random forest...\")\n",
    "from sklearn.ensemble import RandomForestClassifier\n",
    "forest = RandomForestClassifier(n_estimators = 50)\n",
    "forest = forest.fit( train_data_features, train[\"Domain\"] )"
   ]
  },
  {
   "cell_type": "code",
   "execution_count": 9,
   "metadata": {
    "collapsed": false,
    "deletable": true,
    "editable": true
   },
   "outputs": [
    {
     "name": "stdout",
     "output_type": "stream",
     "text": [
      "(1765, 3)\n",
      "Cleaning and parsing the test set titles...\n",
      "\n"
     ]
    },
    {
     "name": "stderr",
     "output_type": "stream",
     "text": [
      "/usr/lib/python3/dist-packages/bs4/__init__.py:166: UserWarning: No parser was explicitly specified, so I'm using the best available HTML parser for this system (\"lxml\"). This usually isn't a problem, but if you run this code on another system, or in a different virtual environment, it may use a different parser and behave differently.\n",
      "\n",
      "To get rid of this warning, change this:\n",
      "\n",
      " BeautifulSoup([your markup])\n",
      "\n",
      "to this:\n",
      "\n",
      " BeautifulSoup([your markup], \"lxml\")\n",
      "\n",
      "  markup_type=markup_type))\n"
     ]
    },
    {
     "name": "stdout",
     "output_type": "stream",
     "text": [
      "Title 1000 of 1765\n"
     ]
    }
   ],
   "source": [
    "test = pd.read_csv(\"data/test.csv\", header=0, encoding='latin1')\n",
    "print (test.shape)\n",
    "num_titles = len(test[\"Title\"])\n",
    "clean_test_titles = [] \n",
    "\n",
    "print( \"Cleaning and parsing the test set titles...\\n\")\n",
    "for i in range(0,num_titles):\n",
    "    if( (i+1) % 1000 == 0 ):\n",
    "        print (\"Title %d of %d\" % (i+1, num_titles))\n",
    "    clean_title = title_to_words( test[\"Title\"][i] )\n",
    "    clean_test_titles.append( clean_title )\n",
    "\n",
    "test_data_features = vectorizer.transform(clean_test_titles)\n",
    "test_data_features = test_data_features.toarray()\n",
    "\n",
    "result = forest.predict(test_data_features)"
   ]
  },
  {
   "cell_type": "code",
   "execution_count": 11,
   "metadata": {
    "collapsed": false
   },
   "outputs": [
    {
     "name": "stdout",
     "output_type": "stream",
     "text": [
      "F1 Score: 0.481586402266\n"
     ]
    },
    {
     "data": {
      "image/png": "[encoded data removed]",
      "text/plain": [
       "<matplotlib.figure.Figure at 0x7eff5cffaba8>"
      ]
     },
     "metadata": {},
     "output_type": "display_data"
    }
   ],
   "source": [
    "output = pd.DataFrame( data={\"Title\":test[\"Title\"], \"Domain\":result} )\n",
    "\n",
    "from sklearn.metrics import confusion_matrix\n",
    "from sklearn.metrics import f1_score\n",
    "y_true = test[\"Domain\"]\n",
    "y_pred = output[\"Domain\"]\n",
    "\n",
    "print(\"F1 Score: \" + str(f1_score(y_true, y_pred, average=\"micro\")))\n",
    "\n",
    "from pandas_ml import ConfusionMatrix\n",
    "import matplotlib.pyplot as plt\n",
    "\n",
    "cm = ConfusionMatrix(y_true, y_pred)\n",
    "\n",
    "cm.plot()\n",
    "plt.show()"
   ]
  },
  {
   "cell_type": "code",
   "execution_count": 46,
   "metadata": {
    "collapsed": false
   },
   "outputs": [
    {
     "name": "stdout",
     "output_type": "stream",
     "text": [
      "girlfriend [[ 0.32871429  0.34152381  0.04        0.06        0.          0.2297619 ]]\n",
      "shut [[ 0.32138095  0.32819048  0.04        0.          0.02        0.29042857]]\n",
      "petersburg [[ 0.448  0.298  0.02   0.02   0.     0.214]]\n",
      "hard [[ 0.33471429  0.33485714  0.04        0.          0.          0.29042857]]\n",
      "lost [[ 0.40471429  0.32585714  0.02        0.          0.          0.24942857]]\n",
      "residents [[ 0.25004762  0.22185714  0.26        0.          0.08        0.18809524]]\n",
      "posts [[ 0.33138095  0.31819048  0.04        0.          0.04        0.27042857]]\n",
      "winner [[ 0.32971429  0.30985714  0.1         0.          0.          0.26042857]]\n",
      "street [[ 0.32471429  0.28985714  0.04        0.          0.          0.34542857]]\n",
      "barcelona [[ 0.30538095  0.28085714  0.04        0.12        0.          0.2537619 ]]\n"
     ]
    }
   ],
   "source": [
    "f_list = sorted(zip(map(lambda x: round(x, 4), forest.feature_importances_), vectorizer.vocabulary_), reverse=True)\n",
    "for i in range(0,10):\n",
    "    #print(f_list[i])\n",
    "    #print(f_list[i][1])\n",
    "    clean_test_titles = [str(f_list[i][1])]\n",
    "    test_data_features = vectorizer.transform(clean_test_titles)\n",
    "    test_data_features = test_data_features.toarray()\n",
    "    result = forest.predict_proba(test_data_features)\n",
    "    print (str(f_list[i][1])+\" \" + str(result))\n",
    "\n",
    "#print(f_list)"
   ]
  },
  {
   "cell_type": "code",
   "execution_count": 82,
   "metadata": {
    "collapsed": false
   },
   "outputs": [
    {
     "name": "stdout",
     "output_type": "stream",
     "text": [
      "[ 0.73671429  0.08285714  0.08        0.04        0.          0.06042857]\n",
      "children ['BBC']\n",
      "[ 0.32138095  0.23485714  0.22        0.          0.          0.2237619 ]\n",
      "kids ['BBC']\n"
     ]
    }
   ],
   "source": [
    "words = [\"children\", \"kids\"]\n",
    "for word in words:\n",
    "    test_data_features = vectorizer.transform([word])\n",
    "    test_data_features = test_data_features.toarray()\n",
    "    print(forest.predict_proba(test_data_features)[0])\n",
    "    result = forest.predict(test_data_features)\n",
    "    print (word + \" \" + str(result))"
   ]
  },
  {
   "cell_type": "code",
   "execution_count": 94,
   "metadata": {
    "collapsed": false,
    "deletable": true,
    "editable": true
   },
   "outputs": [
    {
     "name": "stdout",
     "output_type": "stream",
     "text": [
      "refugees 0.42 ['Independent']\n",
      "trade 0.42 ['Independent']\n",
      "uk 0.46 ['Independent']\n",
      "green 0.42 ['Independent']\n",
      "corbyn 0.44 ['Independent']\n"
     ]
    }
   ],
   "source": [
    "for i in range(0,len(f_list)):\n",
    "    word = str(f_list[i][1])\n",
    "    test_data_features = vectorizer.transform([word])\n",
    "    test_data_features = test_data_features.toarray()\n",
    "    maxProba = max(forest.predict_proba(test_data_features)[0])\n",
    "    if maxProba > 0.6:\n",
    "        result = forest.predict(test_data_features)\n",
    "        #print(forest.predict_proba(test_data_features))\n",
    "        #if \"Independent\" in str(result):\n",
    "            #for j in range(0, int (round(maxProba*20))):\n",
    "                #print (word)\n",
    "        print (word + \" \"+ str(maxProba) +\" \" + str(result))"
   ]
  }
 ],
 "metadata": {
  "kernelspec": {
   "display_name": "Python 3",
   "language": "python",
   "name": "python3"
  },
  "language_info": {
   "codemirror_mode": {
    "name": "ipython",
    "version": 3
   },
   "file_extension": ".py",
   "mimetype": "text/x-python",
   "name": "python",
   "nbconvert_exporter": "python",
   "pygments_lexer": "ipython3",
   "version": "3.5.2"
  }
 },
 "nbformat": 4,
 "nbformat_minor": 2
}
