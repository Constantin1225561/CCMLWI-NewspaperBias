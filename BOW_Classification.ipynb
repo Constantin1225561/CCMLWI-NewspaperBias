{
 "cells": [
  {
   "cell_type": "code",
   "execution_count": 24,
   "metadata": {
    "collapsed": false
   },
   "outputs": [
    {
     "name": "stdout",
     "output_type": "stream",
     "text": [
      "['abcnews.go.com' 'aljazeera.com' 'bbc.com' 'bloomberg.com' 'cbc.ca'\n",
      " 'cnn.com' 'dw.com' 'foxnews.com' 'independent.co.uk' 'nytimes.com'\n",
      " 'reuters.com' 'rt.com' 'uk.reuters.com' 'washingtonpost.com']\n",
      "[ 822  525 2165  436  441  572  604  381 2046  482 3719  572  441  394]\n"
     ]
    }
   ],
   "source": [
    "import random\n",
    "import pandas as pd\n",
    "import numpy as np\n",
    "\n",
    "df = pd.read_csv(\"data/reddit2017.csv\", header=0)\n",
    "un, counts = np.unique(df[\"Domain\"].as_matrix(), return_counts=True)\n",
    "#print(un)\n",
    "#print(counts)\n",
    "\n",
    "selected_domains = []\n",
    "for i in range(0, len(un)):\n",
    "    if counts[i] > 350:\n",
    "        selected_domains.append(un[i])\n",
    "selected_domains = [\"foxnews.com\", \"aljazeera.com\", \"bbc.co.uk\",\n",
    "                    \"bloomberg.com\",\n",
    "                   \"reuters.com\"]\n",
    "\n",
    "selected_domains = ['abcnews.go.com','aljazeera.com','bbc.com','bloomberg.com',\n",
    " 'cbc.ca','cnn.com','dw.com','foxnews.com',\n",
    " 'independent.co.uk','nytimes.com','reuters.com','rt.com','uk.reuters.com','washingtonpost.com']\n",
    "\n",
    "df = df[df[\"Domain\"].isin(selected_domains)]\n",
    "un, counts = np.unique(df[\"Domain\"].as_matrix(), return_counts=True)\n",
    "print(un)\n",
    "print(counts)\n",
    "min_counts = min(counts)\n",
    "#print(min_counts)\n",
    "\n",
    "train = pd.DataFrame()\n",
    "test = pd.DataFrame()\n",
    "\n",
    "for i in range(0, len(selected_domains)):\n",
    "    domain = selected_domains[i]\n",
    "    ddf = df[df[\"Domain\"] == domain]\n",
    "    ddf = ddf.head(min_counts)\n",
    "    msk = np.random.rand(len(ddf)) < 0.8\n",
    "    train = train.append(ddf[msk])\n",
    "    test = test.append(ddf[~msk])\n",
    "\n",
    "train.to_csv( \"data/train.csv\", index=False, quotechar='\"',escapechar='\\\\')\n",
    "test.to_csv( \"data/test.csv\", index=False, quotechar='\"',escapechar='\\\\')"
   ]
  },
  {
   "cell_type": "code",
   "execution_count": 25,
   "metadata": {
    "collapsed": false
   },
   "outputs": [],
   "source": [
    "import pandas as pd\n",
    "train = pd.read_csv(\"data/train.csv\", header=0, encoding='latin1')"
   ]
  },
  {
   "cell_type": "code",
   "execution_count": 26,
   "metadata": {
    "collapsed": false
   },
   "outputs": [
    {
     "data": {
      "text/plain": [
       "<bound method NDFrame.head of            Created              Domain  \\\n",
       "0     1.495587e+09      abcnews.go.com   \n",
       "1     1.495587e+09      abcnews.go.com   \n",
       "2     1.495585e+09      abcnews.go.com   \n",
       "3     1.495587e+09      abcnews.go.com   \n",
       "4     1.495589e+09      abcnews.go.com   \n",
       "5     1.495589e+09      abcnews.go.com   \n",
       "6     1.495564e+09      abcnews.go.com   \n",
       "7     1.495544e+09      abcnews.go.com   \n",
       "8     1.495528e+09      abcnews.go.com   \n",
       "9     1.495526e+09      abcnews.go.com   \n",
       "10    1.495503e+09      abcnews.go.com   \n",
       "11    1.495503e+09      abcnews.go.com   \n",
       "12    1.495503e+09      abcnews.go.com   \n",
       "13    1.495503e+09      abcnews.go.com   \n",
       "14    1.495494e+09      abcnews.go.com   \n",
       "15    1.495489e+09      abcnews.go.com   \n",
       "16    1.495478e+09      abcnews.go.com   \n",
       "17    1.495488e+09      abcnews.go.com   \n",
       "18    1.495490e+09      abcnews.go.com   \n",
       "19    1.495489e+09      abcnews.go.com   \n",
       "20    1.495488e+09      abcnews.go.com   \n",
       "21    1.495467e+09      abcnews.go.com   \n",
       "22    1.495465e+09      abcnews.go.com   \n",
       "23    1.495419e+09      abcnews.go.com   \n",
       "24    1.495422e+09      abcnews.go.com   \n",
       "25    1.495417e+09      abcnews.go.com   \n",
       "26    1.495418e+09      abcnews.go.com   \n",
       "27    1.495407e+09      abcnews.go.com   \n",
       "28    1.495406e+09      abcnews.go.com   \n",
       "29    1.495400e+09      abcnews.go.com   \n",
       "...            ...                 ...   \n",
       "4210  1.486413e+09  washingtonpost.com   \n",
       "4211  1.486415e+09  washingtonpost.com   \n",
       "4212  1.486223e+09  washingtonpost.com   \n",
       "4213  1.486166e+09  washingtonpost.com   \n",
       "4214  1.486169e+09  washingtonpost.com   \n",
       "4215  1.486040e+09  washingtonpost.com   \n",
       "4216  1.485960e+09  washingtonpost.com   \n",
       "4217  1.485931e+09  washingtonpost.com   \n",
       "4218  1.485932e+09  washingtonpost.com   \n",
       "4219  1.485934e+09  washingtonpost.com   \n",
       "4220  1.485931e+09  washingtonpost.com   \n",
       "4221  1.485928e+09  washingtonpost.com   \n",
       "4222  1.485529e+09  washingtonpost.com   \n",
       "4223  1.485483e+09  washingtonpost.com   \n",
       "4224  1.485464e+09  washingtonpost.com   \n",
       "4225  1.485391e+09  washingtonpost.com   \n",
       "4226  1.485376e+09  washingtonpost.com   \n",
       "4227  1.485223e+09  washingtonpost.com   \n",
       "4228  1.485191e+09  washingtonpost.com   \n",
       "4229  1.485018e+09  washingtonpost.com   \n",
       "4230  1.484965e+09  washingtonpost.com   \n",
       "4231  1.484770e+09  washingtonpost.com   \n",
       "4232  1.484743e+09  washingtonpost.com   \n",
       "4233  1.484519e+09  washingtonpost.com   \n",
       "4234  1.484420e+09  washingtonpost.com   \n",
       "4235  1.484313e+09  washingtonpost.com   \n",
       "4236  1.484320e+09  washingtonpost.com   \n",
       "4237  1.484226e+09  washingtonpost.com   \n",
       "4238  1.484168e+09  washingtonpost.com   \n",
       "4239  1.484077e+09  washingtonpost.com   \n",
       "\n",
       "                                                  Title  \n",
       "0     Man acknowledges trying to sell satellite secr...  \n",
       "1     Corruption trial begins for ex-South Korean Pr...  \n",
       "2     2 UN peacekeepers killed in ambush in northern...  \n",
       "3     US military conducts ground raid in Yemen on A...  \n",
       "4     Likely presidential candidate in Egypt ordered...  \n",
       "5     Tedros Adhanom Ghebreyesus, Ethiopia's former ...  \n",
       "6     Activists: Bahrain police raid Shiite cleric's...  \n",
       "7     Human rights watchdog condemns Thailand hospit...  \n",
       "8     Protesters set fire to late President Hugo Cha...  \n",
       "9     China says no mining in its immediate plans fo...  \n",
       "10    4 climbers die near top of Mount Everest in tr...  \n",
       "11    Man set afire during Venezuela protest as deat...  \n",
       "12    1 dead, several injured in protest clashes in ...  \n",
       "13    Bird-riding loses luster in South Africa's ost...  \n",
       "14    Michael Flynn will invoke the Fifth Amendment ...  \n",
       "15    Chinese online retailer developing one-ton del...  \n",
       "16    Swiss vote to withdraw country from use of nuc...  \n",
       "17    Protester who disrupts UK campaign event arrested  \n",
       "18    Clashes in Syrian city of Daraa despite it bei...  \n",
       "19    China confirms detention of 6 Japanese amid re...  \n",
       "20         Spain PM accuses Catalan leader of blackmail  \n",
       "21    Trump to meet with Israeli and Palestinian lea...  \n",
       "22    Asia-Pacific ministers meet seeking to finaliz...  \n",
       "23    Melania and Ivanka Trump promote women's empow...  \n",
       "24    Police: Gunmen kill 6 policemen in attacks in ...  \n",
       "25    Gunbattle kills 4 rebels, 3 Indian soldiers in...  \n",
       "26    Hungary: Protesters rally in defense of univer...  \n",
       "27    Swiss vote to withdraw country from use of nuc...  \n",
       "28    Erdogan to return to Turkey's ruling party as ...  \n",
       "29    Afghan official: 20 forces killed in coordinat...  \n",
       "...                                                 ...  \n",
       "4210  Beijing lodges protest as U.S. sanctions on Ir...  \n",
       "4211  Faced with criticism from Catholic Church, Dut...  \n",
       "4212  Former Ukrainian prime minister says she was r...  \n",
       "4213  Irish angst over St. Patricks Day visit to th...  \n",
       "4214  White House issues sanctions targeting Irans ...  \n",
       "4215  Israeli police begin forced removal of Amona s...  \n",
       "4216  After mosque attack in Canada, critics point t...  \n",
       "4217  Europe Romanias govt decriminalizes official ...  \n",
       "4218  Romania's govt decriminalizes official miscond...  \n",
       "4219  Pakistan, fearing U.S. visa ban, cracks down o...  \n",
       "4220  Romanias govt decriminalizes official misconduct  \n",
       "4221  Pakistan, fearing U.S. visa ban, cracks down o...  \n",
       "4222  Israeli fighting Islamic state in Muslim count...  \n",
       "4223  Scientists create a part-human, part-pig embry...  \n",
       "4224   EU says too early to comment on Syria safe zones  \n",
       "4225  North Korean media covers Trumps inauguration...  \n",
       "4226  Yahya Jammeh leaves The Gambia smiling after s...  \n",
       "4227  Russian Defense Ministry says its warplanes ha...  \n",
       "4228  Worldwide, people rally in support of Womens ...  \n",
       "4229  Gambias president agrees to step down, follow...  \n",
       "4230  Crack in Antarctic's Larsen C ice shelf grows ...  \n",
       "4231  Humans have destroyed 7% of Earths pristine f...  \n",
       "4232  Humans have destroyed 7% of Earths pristine f...  \n",
       "4233     Austria's far-right party wants to 'ban' Islam  \n",
       "4234  After a slow and bloody fight against ISIS, Ir...  \n",
       "4235  Amid Turkeys media crackdown, Erdogan praises...  \n",
       "4236  Obama ending special immigration status for mi...  \n",
       "4237                           Kenyan Doctors on Strike  \n",
       "4238  Iceland ousted one leader named in the Panama ...  \n",
       "4239  Brexit could leave fields of rotting crops in ...  \n",
       "\n",
       "[4240 rows x 3 columns]>"
      ]
     },
     "execution_count": 26,
     "metadata": {},
     "output_type": "execute_result"
    }
   ],
   "source": [
    "train.head"
   ]
  },
  {
   "cell_type": "code",
   "execution_count": 27,
   "metadata": {
    "collapsed": false
   },
   "outputs": [],
   "source": [
    "import nltk\n",
    "from nltk.corpus import stopwords\n",
    "#print (stopwords.words(\"english\") )\n",
    "from bs4 import BeautifulSoup\n",
    "import re"
   ]
  },
  {
   "cell_type": "code",
   "execution_count": 28,
   "metadata": {
    "collapsed": true
   },
   "outputs": [],
   "source": [
    "def title_to_words( raw_title ):\n",
    "    title_text = BeautifulSoup(raw_title).get_text()     \n",
    "    letters_only = re.sub(\"[^a-zA-Z]\", \" \", title_text)\n",
    "    words = letters_only.lower().split()\n",
    "    stops = set(stopwords.words(\"english\"))\n",
    "    meaningful_words = [w for w in words if not w in stops]\n",
    "    return( \" \".join( meaningful_words ))"
   ]
  },
  {
   "cell_type": "code",
   "execution_count": 29,
   "metadata": {
    "collapsed": false
   },
   "outputs": [
    {
     "name": "stderr",
     "output_type": "stream",
     "text": [
      "C:\\Users\\Timo\\Anaconda3\\lib\\site-packages\\bs4\\__init__.py:181: UserWarning: No parser was explicitly specified, so I'm using the best available HTML parser for this system (\"lxml\"). This usually isn't a problem, but if you run this code on another system, or in a different virtual environment, it may use a different parser and behave differently.\n",
      "\n",
      "The code that caused this warning is on line 193 of the file C:\\Users\\Timo\\Anaconda3\\lib\\runpy.py. To get rid of this warning, change code that looks like this:\n",
      "\n",
      " BeautifulSoup([your markup])\n",
      "\n",
      "to this:\n",
      "\n",
      " BeautifulSoup([your markup], \"lxml\")\n",
      "\n",
      "  markup_type=markup_type))\n"
     ]
    },
    {
     "name": "stdout",
     "output_type": "stream",
     "text": [
      "Title 1000 of 4240\n",
      "Title 2000 of 4240\n",
      "Title 3000 of 4240\n",
      "Title 4000 of 4240\n"
     ]
    }
   ],
   "source": [
    "num_titles = train[\"Title\"].size\n",
    "clean_train_titles = []\n",
    "for i in range( 0, num_titles ):\n",
    "    if( (i+1)%1000 == 0 ):\n",
    "        print (\"Title %d of %d\" % ( i+1, num_titles ))\n",
    "    clean_train_titles.append( title_to_words( train[\"Title\"][i] ) )"
   ]
  },
  {
   "cell_type": "code",
   "execution_count": 30,
   "metadata": {
    "collapsed": false
   },
   "outputs": [
    {
     "name": "stdout",
     "output_type": "stream",
     "text": [
      "Creating the bag of words...\n",
      "(4240, 5000)\n"
     ]
    }
   ],
   "source": [
    "print (\"Creating the bag of words...\")\n",
    "from sklearn.feature_extraction.text import CountVectorizer\n",
    "\n",
    "vectorizer = CountVectorizer(analyzer = \"word\",   \\\n",
    "                             tokenizer = None,    \\\n",
    "                             preprocessor = None, \\\n",
    "                             stop_words = None,   \\\n",
    "                             max_features = 5000) \n",
    "\n",
    "train_data_features = vectorizer.fit_transform(clean_train_titles)\n",
    "train_data_features = train_data_features.toarray()\n",
    "print (train_data_features.shape)"
   ]
  },
  {
   "cell_type": "code",
   "execution_count": 31,
   "metadata": {
    "collapsed": false
   },
   "outputs": [
    {
     "name": "stdout",
     "output_type": "stream",
     "text": [
      "Training the random forest...\n"
     ]
    }
   ],
   "source": [
    "print (\"Training the random forest...\")\n",
    "from sklearn.ensemble import RandomForestClassifier\n",
    "forest = RandomForestClassifier(n_estimators = 50)\n",
    "forest = forest.fit( train_data_features, train[\"Domain\"] )"
   ]
  },
  {
   "cell_type": "code",
   "execution_count": 32,
   "metadata": {
    "collapsed": false
   },
   "outputs": [
    {
     "name": "stdout",
     "output_type": "stream",
     "text": [
      "(1094, 3)\n",
      "Cleaning and parsing the test set titles...\n",
      "\n"
     ]
    },
    {
     "name": "stderr",
     "output_type": "stream",
     "text": [
      "C:\\Users\\Timo\\Anaconda3\\lib\\site-packages\\bs4\\__init__.py:181: UserWarning: No parser was explicitly specified, so I'm using the best available HTML parser for this system (\"lxml\"). This usually isn't a problem, but if you run this code on another system, or in a different virtual environment, it may use a different parser and behave differently.\n",
      "\n",
      "The code that caused this warning is on line 193 of the file C:\\Users\\Timo\\Anaconda3\\lib\\runpy.py. To get rid of this warning, change code that looks like this:\n",
      "\n",
      " BeautifulSoup([your markup])\n",
      "\n",
      "to this:\n",
      "\n",
      " BeautifulSoup([your markup], \"lxml\")\n",
      "\n",
      "  markup_type=markup_type))\n"
     ]
    },
    {
     "name": "stdout",
     "output_type": "stream",
     "text": [
      "Title 1000 of 1094\n"
     ]
    }
   ],
   "source": [
    "test = pd.read_csv(\"data/test.csv\", header=0, encoding='latin1')\n",
    "print (test.shape)\n",
    "num_titles = len(test[\"Title\"])\n",
    "clean_test_titles = [] \n",
    "\n",
    "print( \"Cleaning and parsing the test set titles...\\n\")\n",
    "for i in range(0,num_titles):\n",
    "    if( (i+1) % 1000 == 0 ):\n",
    "        print (\"Title %d of %d\" % (i+1, num_titles))\n",
    "    clean_title = title_to_words( test[\"Title\"][i] )\n",
    "    clean_test_titles.append( clean_title )\n",
    "\n",
    "test_data_features = vectorizer.transform(clean_test_titles)\n",
    "test_data_features = test_data_features.toarray()\n",
    "\n",
    "result = forest.predict(test_data_features)"
   ]
  },
  {
   "cell_type": "code",
   "execution_count": 33,
   "metadata": {
    "collapsed": false
   },
   "outputs": [
    {
     "name": "stdout",
     "output_type": "stream",
     "text": [
      "30.44% accuracy for 14 classes.\n",
      "['abcnews.go.com', 'aljazeera.com', 'bbc.com', 'bloomberg.com', 'cbc.ca', 'cnn.com', 'dw.com', 'foxnews.com', 'independent.co.uk', 'nytimes.com', 'reuters.com', 'rt.com', 'uk.reuters.com', 'washingtonpost.com']\n",
      "[[19  2  2  5  3 11  2  7  2 12  4  0  2  5]\n",
      " [ 7 19  2  6  2  8  2  4  3 22  1  1  5  2]\n",
      " [ 4  4 26  4  2  3  2  1  4 15  2  3  0  0]\n",
      " [ 5  1  3 34  4  4  5  3  1  7  4  1  3  3]\n",
      " [ 2  5  3  3 32  3  3  2  0 15  1  1  2  2]\n",
      " [ 0  6  1  7  2 25  0  3  1 14  2  7  2  4]\n",
      " [ 8  7  3  2  2  6 27  1  1  9  3  2  3  2]\n",
      " [ 4  6  2  5  1 13  2  9  1 19  1  3  1  4]\n",
      " [ 2  2  6  4  0  5  2  3 27 12  2  1  4  2]\n",
      " [ 8  6  7  8  1  8  0  4  2 43  2  4  1  4]\n",
      " [ 4  4  3 14  3  3  4  1  7 15 18  1  6  3]\n",
      " [ 3  9  5  6  3 17  2  6  2 12  2 15  2  2]\n",
      " [ 4  6  1  7  1  4  5  2  4 10  7  3 22  2]\n",
      " [11  3  2  5  1  8  1  4  2 14  0  3  0 17]]\n"
     ]
    },
    {
     "data": {
      "image/png": "[encoded data removed]",
      "text/plain": [
       "<matplotlib.figure.Figure at 0x20e535fed68>"
      ]
     },
     "metadata": {},
     "output_type": "display_data"
    }
   ],
   "source": [
    "output = pd.DataFrame( data={\"Title\":test[\"Title\"], \"Domain\":result} )\n",
    "\n",
    "#output.to_csv( \"Bag_of_Words_model.csv\", index=False, quotechar='\"',escapechar='\\\\')\n",
    "\n",
    "correct = 0\n",
    "for i in range(0, num_titles):\n",
    "    if output[\"Domain\"][i] == test[\"Domain\"][i]:\n",
    "        correct = correct + 1\n",
    "print (str(round(100 * correct / num_titles, 2)) + \"% accuracy for \" + str(len(selected_domains)) + \" classes.\")\n",
    "print (selected_domains)\n",
    "\n",
    "from sklearn.metrics import confusion_matrix\n",
    "y_true = test[\"Domain\"]\n",
    "y_pred = output[\"Domain\"]\n",
    "\n",
    "cm = confusion_matrix(y_true, y_pred)\n",
    "print (cm)\n",
    "import matplotlib.pyplot as plt\n",
    "plt.imshow(cm, cmap='hot', interpolation='nearest')\n",
    "plt.show()"
   ]
  },
  {
   "cell_type": "code",
   "execution_count": null,
   "metadata": {
    "collapsed": true
   },
   "outputs": [],
   "source": []
  }
 ],
 "metadata": {
  "kernelspec": {
   "display_name": "Python 3",
   "language": "python",
   "name": "python3"
  },
  "language_info": {
   "codemirror_mode": {
    "name": "ipython",
    "version": 3
   },
   "file_extension": ".py",
   "mimetype": "text/x-python",
   "name": "python",
   "nbconvert_exporter": "python",
   "pygments_lexer": "ipython3",
   "version": "3.6.0"
  }
 },
 "nbformat": 4,
 "nbformat_minor": 2
}
