{
 "cells": [
  {
   "cell_type": "code",
   "execution_count": 29,
   "metadata": {
    "collapsed": false,
    "deletable": true,
    "editable": true
   },
   "outputs": [
    {
     "name": "stdout",
     "output_type": "stream",
     "text": [
      "['BBC' 'CNN' 'Foxnews' 'Independent' 'Reuters' 'The Guardian']\n",
      "[11694  3567  1418  4722 12879  8797]\n"
     ]
    }
   ],
   "source": [
    "import random\n",
    "import pandas as pd\n",
    "import numpy as np\n",
    "\n",
    "#df = pd.read_csv(\"data/reddit2017.csv\", header=0)\n",
    "df = pd.read_csv(\"data/redditSelectedDomains.csv\", header=0)\n",
    "un, counts = np.unique(df[\"Domain\"].as_matrix(), return_counts=True)\n",
    "#print(un)\n",
    "#print(counts)\n",
    "\n",
    "selected_domains = []\n",
    "for i in range(0, len(un)):\n",
    "    if counts[i] > 350:\n",
    "        selected_domains.append(un[i])\n",
    "#['abcnews.go.com' 'aljazeera.com' 'bbc.co.uk' 'bbc.com' 'bloomberg.com'\n",
    "# 'cbc.ca' 'cnn.com' 'dw.com' 'edition.cnn.com' 'foxnews.com'\n",
    "# 'independent.co.uk' 'nytimes.com' 'reuters.com' 'rt.com' 'telegraph.co.uk'\n",
    "# 'theguardian.com' 'uk.reuters.com' 'washingtonpost.com' 'yahoo.com']\n",
    "\n",
    "selected_domains = [#'abcnews.go.com', remove because weak\n",
    "                    #'aljazeera.com', remove because weak\n",
    "                    #'bbc.co.uk', remove because same as bbc.com\n",
    "                    'bbc.com', 'bloomberg.com',\n",
    " 'cbc.ca', 'cnn.com', 'dw.com', #'edition.cnn.com', remove because same as ccn.com\n",
    "                    'foxnews.com',\n",
    " 'independent.co.uk', 'nytimes.com', 'reuters.com', 'rt.com', #'telegraph.co.uk', remove because weak prediction\n",
    " 'theguardian.com', #'uk.reuters.com', remove because same as reuters\n",
    "                    'washingtonpost.com'#, 'yahoo.com' remove because weak prediction\n",
    "                   ]\n",
    "\n",
    "df['Domain'] = df['Domain'].replace('uk.reuters.com', 'reuters.com')\n",
    "df['Domain'] = df['Domain'].replace('edition.cnn.com', 'cnn.com')\n",
    "df['Domain'] = df['Domain'].replace('bbc.co.uk', 'bbc.com')\n",
    "df['Domain'] = df['Domain'].replace('theguardian.co.uk', 'theguardian.com')\n",
    "\n",
    "df['Domain'] = df['Domain'].replace('bbc.com', 'BBC')\n",
    "df['Domain'] = df['Domain'].replace('bloomberg.com', 'Bloomberg')\n",
    "df['Domain'] = df['Domain'].replace('cbc.ca', 'CBC')\n",
    "df['Domain'] = df['Domain'].replace('cnn.com', 'CNN')\n",
    "df['Domain'] = df['Domain'].replace('dw.com', 'Deutsche Welle')\n",
    "df['Domain'] = df['Domain'].replace('foxnews.com', 'Foxnews')\n",
    "df['Domain'] = df['Domain'].replace('independent.co.uk', 'Independent')\n",
    "df['Domain'] = df['Domain'].replace('nytimes.com', 'The New York Times')\n",
    "df['Domain'] = df['Domain'].replace('reuters.com', 'Reuters')\n",
    "df['Domain'] = df['Domain'].replace('rt.com', 'Russia Today')\n",
    "df['Domain'] = df['Domain'].replace('theguardian.com', 'The Guardian')\n",
    "df['Domain'] = df['Domain'].replace('washingtonpost.com', 'The Washington Post')\n",
    "selected_domains = [w.replace(\"bbc.com\", \"BBC\") for w in selected_domains]\n",
    "selected_domains = [w.replace('bloomberg.com', 'Bloomberg') for w in selected_domains]\n",
    "selected_domains = [w.replace('cbc.ca', 'CBC') for w in selected_domains]\n",
    "selected_domains = [w.replace('cnn.com', 'CNN') for w in selected_domains]\n",
    "selected_domains = [w.replace('dw.com', 'Deutsche Welle') for w in selected_domains]\n",
    "selected_domains = [w.replace('foxnews.com', 'Foxnews') for w in selected_domains]\n",
    "selected_domains = [w.replace('independent.co.uk', 'Independent') for w in selected_domains]\n",
    "selected_domains = [w.replace('nytimes.com', 'The New York Times') for w in selected_domains]\n",
    "selected_domains = [w.replace('reuters.com', 'Reuters') for w in selected_domains]\n",
    "selected_domains = [w.replace('rt.com', 'Russia Today') for w in selected_domains]\n",
    "selected_domains = [w.replace('theguardian.com', 'The Guardian') for w in selected_domains]\n",
    "selected_domains = [w.replace('washingtonpost.com', 'The Washington Post') for w in selected_domains]\n",
    "\n",
    "df = df[df[\"Domain\"].isin(selected_domains)]\n",
    "un, counts = np.unique(df[\"Domain\"].as_matrix(), return_counts=True)\n",
    "print(un)\n",
    "print(counts)\n",
    "min_counts = min(counts)\n",
    "#print(min_counts)\n",
    "\n",
    "train = pd.DataFrame()\n",
    "test = pd.DataFrame()\n",
    "\n",
    "for i in range(0, len(selected_domains)):\n",
    "    domain = selected_domains[i]\n",
    "    ddf = df[df[\"Domain\"] == domain]\n",
    "    ddf = ddf.head(min_counts)\n",
    "    msk = np.random.rand(len(ddf)) < 0.8\n",
    "    train = train.append(ddf[msk])\n",
    "    test = test.append(ddf[~msk])\n",
    "\n",
    "train.to_csv( \"data/train.csv\", index=False, quotechar='\"',escapechar='\\\\')\n",
    "test.to_csv( \"data/test.csv\", index=False, quotechar='\"',escapechar='\\\\')"
   ]
  },
  {
   "cell_type": "code",
   "execution_count": 30,
   "metadata": {
    "collapsed": false,
    "deletable": true,
    "editable": true
   },
   "outputs": [],
   "source": [
    "import pandas as pd\n",
    "train = pd.read_csv(\"data/train.csv\", header=0, encoding='latin1')"
   ]
  },
  {
   "cell_type": "code",
   "execution_count": 31,
   "metadata": {
    "collapsed": false,
    "deletable": true,
    "editable": true
   },
   "outputs": [
    {
     "data": {
      "text/plain": [
       "<bound method NDFrame.head of            Created        Domain  \\\n",
       "0     1.495617e+09           BBC   \n",
       "1     1.495602e+09           BBC   \n",
       "2     1.495583e+09           BBC   \n",
       "3     1.495589e+09           BBC   \n",
       "4     1.495571e+09           BBC   \n",
       "5     1.495567e+09           BBC   \n",
       "6     1.495567e+09           BBC   \n",
       "7     1.495569e+09           BBC   \n",
       "8     1.495564e+09           BBC   \n",
       "9     1.495565e+09           BBC   \n",
       "10    1.495562e+09           BBC   \n",
       "11    1.495564e+09           BBC   \n",
       "12    1.495546e+09           BBC   \n",
       "13    1.495540e+09           BBC   \n",
       "14    1.495543e+09           BBC   \n",
       "15    1.495544e+09           BBC   \n",
       "16    1.495554e+09           BBC   \n",
       "17    1.495527e+09           BBC   \n",
       "18    1.495526e+09           BBC   \n",
       "19    1.495525e+09           BBC   \n",
       "20    1.495527e+09           BBC   \n",
       "21    1.495504e+09           BBC   \n",
       "22    1.495496e+09           BBC   \n",
       "23    1.495503e+09           BBC   \n",
       "24    1.495504e+09           BBC   \n",
       "25    1.495481e+09           BBC   \n",
       "26    1.495491e+09           BBC   \n",
       "27    1.495494e+09           BBC   \n",
       "28    1.495490e+09           BBC   \n",
       "29    1.495475e+09           BBC   \n",
       "...            ...           ...   \n",
       "6762  1.488164e+09  The Guardian   \n",
       "6763  1.488161e+09  The Guardian   \n",
       "6764  1.488135e+09  The Guardian   \n",
       "6765  1.488151e+09  The Guardian   \n",
       "6766  1.488125e+09  The Guardian   \n",
       "6767  1.488122e+09  The Guardian   \n",
       "6768  1.488111e+09  The Guardian   \n",
       "6769  1.488092e+09  The Guardian   \n",
       "6770  1.488094e+09  The Guardian   \n",
       "6771  1.488091e+09  The Guardian   \n",
       "6772  1.488068e+09  The Guardian   \n",
       "6773  1.488067e+09  The Guardian   \n",
       "6774  1.488027e+09  The Guardian   \n",
       "6775  1.488011e+09  The Guardian   \n",
       "6776  1.487988e+09  The Guardian   \n",
       "6777  1.487994e+09  The Guardian   \n",
       "6778  1.487994e+09  The Guardian   \n",
       "6779  1.487991e+09  The Guardian   \n",
       "6780  1.487983e+09  The Guardian   \n",
       "6781  1.487958e+09  The Guardian   \n",
       "6782  1.487947e+09  The Guardian   \n",
       "6783  1.487938e+09  The Guardian   \n",
       "6784  1.487927e+09  The Guardian   \n",
       "6785  1.487917e+09  The Guardian   \n",
       "6786  1.487921e+09  The Guardian   \n",
       "6787  1.487917e+09  The Guardian   \n",
       "6788  1.487893e+09  The Guardian   \n",
       "6789  1.487900e+09  The Guardian   \n",
       "6790  1.487901e+09  The Guardian   \n",
       "6791  1.487907e+09  The Guardian   \n",
       "\n",
       "                                                  Title  \n",
       "0     Indian army awards soldier for using Kashmiri ...  \n",
       "1     UK terror threat level raised to highest level...  \n",
       "2     Ex-national security adviser 'lied' on securit...  \n",
       "3     'Half a glass of wine every day' increases bre...  \n",
       "4     The Trump administration has granted a six-mon...  \n",
       "5     Germany cracks Europe-wide burglary gang of 50...  \n",
       "6     Trump 'to do everything' for Middle East peace...  \n",
       "7     Bahrain police 'open fire on sit-in' around Sh...  \n",
       "8     More evidence for WannaCry 'link' to North Kor...  \n",
       "9     Nato hit by Turkish veto on Austria partnershi...  \n",
       "10                  'Space sperm' passes fertility test  \n",
       "11    Bahrain police 'open fire on sit-in' around Sh...  \n",
       "12    A record number of people have complained afte...  \n",
       "13    Gambian ex-President Yahya Jammeh stole $50 mi...  \n",
       "14    US forces kill seven al-Qaeda militants in Yem...  \n",
       "15    Trump to meet Palestinian leader Abbas in West...  \n",
       "16    Amazon adds live TV channels to Prime Video - ...  \n",
       "17    BBC News: Mexican Tarahumara woman wins 50km r...  \n",
       "18           Greece fails to secure fresh bailout funds  \n",
       "19    Park Geun-hye: S Korea awaits trial of impeach...  \n",
       "20              Portugal back to fiscal health, says EU  \n",
       "21    Stockpiles of dead tiger and rhino body parts ...  \n",
       "22    General election: Theresa May denies social ca...  \n",
       "23    General election 2017: May defends revised soc...  \n",
       "24    Oxford University student Lavinia Woodward: 'N...  \n",
       "25    New rules in UK have come into force which mea...  \n",
       "26    Six UK music festivals to allow people to test...  \n",
       "27    While the US signs a 100 billion dollar arms d...  \n",
       "28    Thai military hospital bomb blast injures more...  \n",
       "29    'Car boot-sale' diamond set to fetch Â£350,000...  \n",
       "...                                                 ...  \n",
       "6762  Kidnapped German archaeologists freed in north...  \n",
       "6763  Revealed: how US billionaire helped to back Br...  \n",
       "6764  Deported gay Afghans told to âpretend to be ...  \n",
       "6765  A Syrian cameraman and rescue worker whose doc...  \n",
       "6766  Revealed: how US billionaire helped to back Br...  \n",
       "6767  Pakistan airliner flew with seven extra passen...  \n",
       "6768  Kurds offer land for independence in struggle ...  \n",
       "6769  Biologists say half of all species could be ex...  \n",
       "6770  Plans for the first contact between North Kore...  \n",
       "6771  Tens of thousands of children at more than 800...  \n",
       "6772  Fearing for the wurst: German ministry under f...  \n",
       "6773  Britain concerned over challenges to Hong Kong...  \n",
       "6774  Shinzo Abe and wife under pressure over ties t...  \n",
       "6775  EU states back call for UK to agree â¬60bn ex...  \n",
       "6776  Mexico tells US it will refuse deportees from ...  \n",
       "6777  Australian taxpayers to pay for oil spill clea...  \n",
       "6778  Drastic cooling in North Atlantic beyond worst...  \n",
       "6779  Huge cannabis farm 'was staffed by trafficked ...  \n",
       "6780  Donors pledge $672m at Oslo summit to avert fa...  \n",
       "6781  China hits back at Trump 'champion of currency...  \n",
       "6782  Catholic leader says not 'remotely enough' sup...  \n",
       "6783  Australia's 'biggest ever' antivenom dose save...  \n",
       "6784  Kim Jong-nam killed by chemical weapon, say Ma...  \n",
       "6785  Germany overtakes UK to become fastest-growing...  \n",
       "6786  Philippines senator who branded President Dute...  \n",
       "6787  Indonesia says rise of One Nation party in Aus...  \n",
       "6788  Germany overtakes UK as fastest-growing G7 eco...  \n",
       "6789  Geert Wilders suspends election campaign over ...  \n",
       "6790  Teenagers blockade Paris schools in protest ov...  \n",
       "6791  MPs call on Theresa May to release 'kill list'...  \n",
       "\n",
       "[6792 rows x 3 columns]>"
      ]
     },
     "execution_count": 31,
     "metadata": {},
     "output_type": "execute_result"
    }
   ],
   "source": [
    "train.head"
   ]
  },
  {
   "cell_type": "code",
   "execution_count": 32,
   "metadata": {
    "collapsed": false,
    "deletable": true,
    "editable": true
   },
   "outputs": [],
   "source": [
    "import nltk\n",
    "from nltk.corpus import stopwords\n",
    "#print (stopwords.words(\"english\") )\n",
    "from bs4 import BeautifulSoup\n",
    "import re"
   ]
  },
  {
   "cell_type": "code",
   "execution_count": 33,
   "metadata": {
    "collapsed": true,
    "deletable": true,
    "editable": true
   },
   "outputs": [],
   "source": [
    "def title_to_words( raw_title ):\n",
    "    title_text = BeautifulSoup(raw_title).get_text()     \n",
    "    letters_only = re.sub(\"[^a-zA-Z]\", \" \", title_text)\n",
    "    words = letters_only.lower().split()\n",
    "    stops = set(stopwords.words(\"english\"))\n",
    "    meaningful_words = [w for w in words if not w in stops]\n",
    "    return( \" \".join( meaningful_words ))"
   ]
  },
  {
   "cell_type": "code",
   "execution_count": 34,
   "metadata": {
    "collapsed": false,
    "deletable": true,
    "editable": true
   },
   "outputs": [
    {
     "name": "stderr",
     "output_type": "stream",
     "text": [
      "/usr/lib/python3/dist-packages/bs4/__init__.py:166: UserWarning: No parser was explicitly specified, so I'm using the best available HTML parser for this system (\"lxml\"). This usually isn't a problem, but if you run this code on another system, or in a different virtual environment, it may use a different parser and behave differently.\n",
      "\n",
      "To get rid of this warning, change this:\n",
      "\n",
      " BeautifulSoup([your markup])\n",
      "\n",
      "to this:\n",
      "\n",
      " BeautifulSoup([your markup], \"lxml\")\n",
      "\n",
      "  markup_type=markup_type))\n"
     ]
    },
    {
     "name": "stdout",
     "output_type": "stream",
     "text": [
      "Title 1000 of 6792\n",
      "Title 2000 of 6792\n",
      "Title 3000 of 6792\n",
      "Title 4000 of 6792\n",
      "Title 5000 of 6792\n",
      "Title 6000 of 6792\n"
     ]
    }
   ],
   "source": [
    "num_titles = train[\"Title\"].size\n",
    "clean_train_titles = []\n",
    "for i in range( 0, num_titles ):\n",
    "    if( (i+1)%1000 == 0 ):\n",
    "        print (\"Title %d of %d\" % ( i+1, num_titles ))\n",
    "    clean_train_titles.append( title_to_words( train[\"Title\"][i] ) )"
   ]
  },
  {
   "cell_type": "code",
   "execution_count": 35,
   "metadata": {
    "collapsed": false,
    "deletable": true,
    "editable": true
   },
   "outputs": [
    {
     "name": "stdout",
     "output_type": "stream",
     "text": [
      "Creating the bag of words...\n",
      "(6792, 5000)\n"
     ]
    }
   ],
   "source": [
    "print (\"Creating the bag of words...\")\n",
    "from sklearn.feature_extraction.text import CountVectorizer\n",
    "\n",
    "vectorizer = CountVectorizer(analyzer = \"word\",   \\\n",
    "                             tokenizer = None,    \\\n",
    "                             preprocessor = None, \\\n",
    "                             stop_words = None,   \\\n",
    "                             max_features = 5000) \n",
    "\n",
    "train_data_features = vectorizer.fit_transform(clean_train_titles)\n",
    "train_data_features = train_data_features.toarray()\n",
    "print (train_data_features.shape)"
   ]
  },
  {
   "cell_type": "code",
   "execution_count": 36,
   "metadata": {
    "collapsed": false,
    "deletable": true,
    "editable": true
   },
   "outputs": [
    {
     "name": "stdout",
     "output_type": "stream",
     "text": [
      "Training the random forest...\n"
     ]
    }
   ],
   "source": [
    "print (\"Training the random forest...\")\n",
    "from sklearn.ensemble import RandomForestClassifier\n",
    "forest = RandomForestClassifier(n_estimators = 50)\n",
    "forest = forest.fit( train_data_features, train[\"Domain\"] )"
   ]
  },
  {
   "cell_type": "code",
   "execution_count": 37,
   "metadata": {
    "collapsed": false,
    "deletable": true,
    "editable": true
   },
   "outputs": [
    {
     "name": "stdout",
     "output_type": "stream",
     "text": [
      "(1716, 3)\n",
      "Cleaning and parsing the test set titles...\n",
      "\n"
     ]
    },
    {
     "name": "stderr",
     "output_type": "stream",
     "text": [
      "/usr/lib/python3/dist-packages/bs4/__init__.py:166: UserWarning: No parser was explicitly specified, so I'm using the best available HTML parser for this system (\"lxml\"). This usually isn't a problem, but if you run this code on another system, or in a different virtual environment, it may use a different parser and behave differently.\n",
      "\n",
      "To get rid of this warning, change this:\n",
      "\n",
      " BeautifulSoup([your markup])\n",
      "\n",
      "to this:\n",
      "\n",
      " BeautifulSoup([your markup], \"lxml\")\n",
      "\n",
      "  markup_type=markup_type))\n"
     ]
    },
    {
     "name": "stdout",
     "output_type": "stream",
     "text": [
      "Title 1000 of 1716\n"
     ]
    }
   ],
   "source": [
    "test = pd.read_csv(\"data/test.csv\", header=0, encoding='latin1')\n",
    "print (test.shape)\n",
    "num_titles = len(test[\"Title\"])\n",
    "clean_test_titles = [] \n",
    "\n",
    "print( \"Cleaning and parsing the test set titles...\\n\")\n",
    "for i in range(0,num_titles):\n",
    "    if( (i+1) % 1000 == 0 ):\n",
    "        print (\"Title %d of %d\" % (i+1, num_titles))\n",
    "    clean_title = title_to_words( test[\"Title\"][i] )\n",
    "    clean_test_titles.append( clean_title )\n",
    "\n",
    "test_data_features = vectorizer.transform(clean_test_titles)\n",
    "test_data_features = test_data_features.toarray()\n",
    "\n",
    "result = forest.predict(test_data_features)"
   ]
  },
  {
   "cell_type": "code",
   "execution_count": 38,
   "metadata": {
    "collapsed": false,
    "deletable": true,
    "editable": true
   },
   "outputs": [
    {
     "name": "stdout",
     "output_type": "stream",
     "text": [
      "F1 Score: 0.484265734266\n"
     ]
    },
    {
     "data": {
      "image/png": "[encoded data removed]",
      "text/plain": [
       "<matplotlib.figure.Figure at 0x7f993eedcef0>"
      ]
     },
     "metadata": {},
     "output_type": "display_data"
    }
   ],
   "source": [
    "output = pd.DataFrame( data={\"Title\":test[\"Title\"], \"Domain\":result} )\n",
    "\n",
    "from sklearn.metrics import confusion_matrix\n",
    "from sklearn.metrics import f1_score\n",
    "y_true = test[\"Domain\"]\n",
    "y_pred = output[\"Domain\"]\n",
    "\n",
    "print(\"F1 Score: \" + str(f1_score(y_true, y_pred, average=\"micro\")))\n",
    "\n",
    "from pandas_ml import ConfusionMatrix\n",
    "import matplotlib.pyplot as plt\n",
    "\n",
    "cm = ConfusionMatrix(y_true, y_pred)\n",
    "\n",
    "cm.plot()\n",
    "plt.show()"
   ]
  },
  {
   "cell_type": "code",
   "execution_count": 42,
   "metadata": {
    "collapsed": false,
    "deletable": true,
    "editable": true
   },
   "outputs": [
    {
     "name": "stdout",
     "output_type": "stream",
     "text": [
      "faults [[ 0.512  0.08   0.06   0.     0.     0.348]]\n",
      "alert [[ 0.43033333  0.08        0.2         0.04        0.02        0.22966667]]\n",
      "focus [[ 0.532  0.06   0.06   0.04   0.04   0.268]]\n",
      "dc [[ 0.512  0.08   0.06   0.     0.     0.348]]\n",
      "shoal [[ 0.492  0.08   0.08   0.02   0.     0.328]]\n",
      "bear [[ 0.432  0.06   0.22   0.     0.     0.288]]\n",
      "crowd [[ 0.49866667  0.14        0.06        0.          0.          0.30133333]]\n",
      "repeat [[ 0.502  0.08   0.06   0.04   0.     0.318]]\n",
      "remains [[ 0.50533333  0.1         0.12        0.          0.          0.27466667]]\n",
      "term [[ 0.50866667  0.1         0.06        0.          0.02        0.31133333]]\n"
     ]
    }
   ],
   "source": [
    "f_list = sorted(zip(map(lambda x: round(x, 4), forest.feature_importances_), vectorizer.vocabulary_), reverse=True)\n",
    "for i in range(0,10):\n",
    "    #print(f_list[i])\n",
    "    #print(f_list[i][1])\n",
    "    clean_test_titles = [str(f_list[i][1])]\n",
    "    test_data_features = vectorizer.transform(clean_test_titles)\n",
    "    test_data_features = test_data_features.toarray()\n",
    "    result = forest.predict_proba(test_data_features)\n",
    "    print (str(f_list[i][1])+\" \" + str(result))\n",
    "\n",
    "#print(f_list)"
   ]
  },
  {
   "cell_type": "code",
   "execution_count": 43,
   "metadata": {
    "collapsed": false,
    "deletable": true,
    "editable": true
   },
   "outputs": [
    {
     "name": "stdout",
     "output_type": "stream",
     "text": [
      "[ 0.545  0.1    0.12   0.04   0.02   0.175]\n",
      "children ['BBC']\n",
      "[ 0.50533333  0.08        0.1         0.          0.          0.31466667]\n",
      "kids ['BBC']\n"
     ]
    }
   ],
   "source": [
    "words = [\"children\", \"kids\"]\n",
    "for word in words:\n",
    "    test_data_features = vectorizer.transform([word])\n",
    "    test_data_features = test_data_features.toarray()\n",
    "    print(forest.predict_proba(test_data_features)[0])\n",
    "    result = forest.predict(test_data_features)\n",
    "    print (word + \" \" + str(result))"
   ]
  },
  {
   "cell_type": "raw",
   "metadata": {
    "collapsed": false,
    "deletable": true,
    "editable": true
   },
   "source": [
    "for i in range(0,len(f_list)):\n",
    "    word = str(f_list[i][1])\n",
    "    test_data_features = vectorizer.transform([word])\n",
    "    test_data_features = test_data_features.toarray()\n",
    "    maxProba = max(forest.predict_proba(test_data_features)[0])\n",
    "    if maxProba > 0.6:\n",
    "        result = forest.predict(test_data_features)\n",
    "        #print(forest.predict_proba(test_data_features))\n",
    "        #if \"Independent\" in str(result):\n",
    "            #for j in range(0, int (round(maxProba*20))):\n",
    "                #print (word)\n",
    "        print (word + \",\"+ str(maxProba) +\",\" + str(result[0]))"
   ]
  }
 ],
 "metadata": {
  "kernelspec": {
   "display_name": "Python 3",
   "language": "python",
   "name": "python3"
  },
  "language_info": {
   "codemirror_mode": {
    "name": "ipython",
    "version": 3
   },
   "file_extension": ".py",
   "mimetype": "text/x-python",
   "name": "python",
   "nbconvert_exporter": "python",
   "pygments_lexer": "ipython3",
   "version": "3.5.2"
  }
 },
 "nbformat": 4,
 "nbformat_minor": 2
}
