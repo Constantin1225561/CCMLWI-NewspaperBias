{
 "cells": [
  {
   "cell_type": "code",
   "execution_count": 103,
   "metadata": {
    "collapsed": false,
    "deletable": true,
    "editable": true
   },
   "outputs": [
    {
     "name": "stdout",
     "output_type": "stream",
     "text": [
      "['BBC' 'Bloomberg' 'CBC' 'CNN' 'Deutsche Welle' 'Foxnews' 'Independent'\n",
      " 'Reuters' 'Russia Today' 'The Guardian' 'The New York Times'\n",
      " 'The Washington Post']\n",
      "[3228  436  441 1018  604  381 2046 4160  572 2288  482  394]\n"
     ]
    }
   ],
   "source": [
    "import random\n",
    "import pandas as pd\n",
    "import numpy as np\n",
    "\n",
    "df = pd.read_csv(\"data/reddit2017.csv\", header=0)\n",
    "un, counts = np.unique(df[\"Domain\"].as_matrix(), return_counts=True)\n",
    "#print(un)\n",
    "#print(counts)\n",
    "\n",
    "selected_domains = []\n",
    "for i in range(0, len(un)):\n",
    "    if counts[i] > 350:\n",
    "        selected_domains.append(un[i])\n",
    "#['abcnews.go.com' 'aljazeera.com' 'bbc.co.uk' 'bbc.com' 'bloomberg.com'\n",
    "# 'cbc.ca' 'cnn.com' 'dw.com' 'edition.cnn.com' 'foxnews.com'\n",
    "# 'independent.co.uk' 'nytimes.com' 'reuters.com' 'rt.com' 'telegraph.co.uk'\n",
    "# 'theguardian.com' 'uk.reuters.com' 'washingtonpost.com' 'yahoo.com']\n",
    "\n",
    "selected_domains = [#'abcnews.go.com', remove because weak\n",
    "                    #'aljazeera.com', remove because weak\n",
    "                    #'bbc.co.uk', remove because same as bbc.com\n",
    "                    'bbc.com', 'bloomberg.com',\n",
    " 'cbc.ca', 'cnn.com', 'dw.com', #'edition.cnn.com', remove because same as ccn.com\n",
    "                    'foxnews.com',\n",
    " 'independent.co.uk', 'nytimes.com', 'reuters.com', 'rt.com', #'telegraph.co.uk', remove because weak prediction\n",
    " 'theguardian.com', #'uk.reuters.com', remove because same as reuters\n",
    "                    'washingtonpost.com'#, 'yahoo.com' remove because weak prediction\n",
    "                   ]\n",
    "\n",
    "df['Domain'] = df['Domain'].replace('uk.reuters.com', 'reuters.com')\n",
    "df['Domain'] = df['Domain'].replace('edition.cnn.com', 'cnn.com')\n",
    "df['Domain'] = df['Domain'].replace('bbc.co.uk', 'bbc.com')\n",
    "df['Domain'] = df['Domain'].replace('theguardian.co.uk', 'theguardian.com')\n",
    "\n",
    "df['Domain'] = df['Domain'].replace('bbc.com', 'BBC')\n",
    "df['Domain'] = df['Domain'].replace('bloomberg.com', 'Bloomberg')\n",
    "df['Domain'] = df['Domain'].replace('cbc.ca', 'CBC')\n",
    "df['Domain'] = df['Domain'].replace('cnn.com', 'CNN')\n",
    "df['Domain'] = df['Domain'].replace('dw.com', 'Deutsche Welle')\n",
    "df['Domain'] = df['Domain'].replace('foxnews.com', 'Foxnews')\n",
    "df['Domain'] = df['Domain'].replace('independent.co.uk', 'Independent')\n",
    "df['Domain'] = df['Domain'].replace('nytimes.com', 'The New York Times')\n",
    "df['Domain'] = df['Domain'].replace('reuters.com', 'Reuters')\n",
    "df['Domain'] = df['Domain'].replace('rt.com', 'Russia Today')\n",
    "df['Domain'] = df['Domain'].replace('theguardian.com', 'The Guardian')\n",
    "df['Domain'] = df['Domain'].replace('washingtonpost.com', 'The Washington Post')\n",
    "selected_domains = [w.replace(\"bbc.com\", \"BBC\") for w in selected_domains]\n",
    "selected_domains = [w.replace('bloomberg.com', 'Bloomberg') for w in selected_domains]\n",
    "selected_domains = [w.replace('cbc.ca', 'CBC') for w in selected_domains]\n",
    "selected_domains = [w.replace('cnn.com', 'CNN') for w in selected_domains]\n",
    "selected_domains = [w.replace('dw.com', 'Deutsche Welle') for w in selected_domains]\n",
    "selected_domains = [w.replace('foxnews.com', 'Foxnews') for w in selected_domains]\n",
    "selected_domains = [w.replace('independent.co.uk', 'Independent') for w in selected_domains]\n",
    "selected_domains = [w.replace('nytimes.com', 'The New York Times') for w in selected_domains]\n",
    "selected_domains = [w.replace('reuters.com', 'Reuters') for w in selected_domains]\n",
    "selected_domains = [w.replace('rt.com', 'Russia Today') for w in selected_domains]\n",
    "selected_domains = [w.replace('theguardian.com', 'The Guardian') for w in selected_domains]\n",
    "selected_domains = [w.replace('washingtonpost.com', 'The Washington Post') for w in selected_domains]\n",
    "\n",
    "df = df[df[\"Domain\"].isin(selected_domains)]\n",
    "un, counts = np.unique(df[\"Domain\"].as_matrix(), return_counts=True)\n",
    "print(un)\n",
    "print(counts)\n",
    "min_counts = min(counts)\n",
    "#print(min_counts)\n",
    "\n",
    "train = pd.DataFrame()\n",
    "test = pd.DataFrame()\n",
    "\n",
    "for i in range(0, len(selected_domains)):\n",
    "    domain = selected_domains[i]\n",
    "    ddf = df[df[\"Domain\"] == domain]\n",
    "    ddf = ddf.head(min_counts)\n",
    "    msk = np.random.rand(len(ddf)) < 0.8\n",
    "    train = train.append(ddf[msk])\n",
    "    test = test.append(ddf[~msk])\n",
    "\n",
    "train.to_csv( \"data/train.csv\", index=False, quotechar='\"',escapechar='\\\\')\n",
    "test.to_csv( \"data/test.csv\", index=False, quotechar='\"',escapechar='\\\\')"
   ]
  },
  {
   "cell_type": "code",
   "execution_count": 104,
   "metadata": {
    "collapsed": false,
    "deletable": true,
    "editable": true
   },
   "outputs": [],
   "source": [
    "import pandas as pd\n",
    "train = pd.read_csv(\"data/train.csv\", header=0, encoding='latin1')"
   ]
  },
  {
   "cell_type": "code",
   "execution_count": 105,
   "metadata": {
    "collapsed": false,
    "deletable": true,
    "editable": true
   },
   "outputs": [
    {
     "data": {
      "text/plain": [
       "<bound method NDFrame.head of            Created               Domain  \\\n",
       "0     1.495602e+09                  BBC   \n",
       "1     1.495583e+09                  BBC   \n",
       "2     1.495589e+09                  BBC   \n",
       "3     1.495595e+09                  BBC   \n",
       "4     1.495571e+09                  BBC   \n",
       "5     1.495563e+09                  BBC   \n",
       "6     1.495567e+09                  BBC   \n",
       "7     1.495567e+09                  BBC   \n",
       "8     1.495569e+09                  BBC   \n",
       "9     1.495564e+09                  BBC   \n",
       "10    1.495565e+09                  BBC   \n",
       "11    1.495566e+09                  BBC   \n",
       "12    1.495575e+09                  BBC   \n",
       "13    1.495562e+09                  BBC   \n",
       "14    1.495546e+09                  BBC   \n",
       "15    1.495540e+09                  BBC   \n",
       "16    1.495543e+09                  BBC   \n",
       "17    1.495544e+09                  BBC   \n",
       "18    1.495554e+09                  BBC   \n",
       "19    1.495527e+09                  BBC   \n",
       "20    1.495526e+09                  BBC   \n",
       "21    1.495525e+09                  BBC   \n",
       "22    1.495500e+09                  BBC   \n",
       "23    1.495504e+09                  BBC   \n",
       "24    1.495496e+09                  BBC   \n",
       "25    1.495503e+09                  BBC   \n",
       "26    1.495504e+09                  BBC   \n",
       "27    1.495481e+09                  BBC   \n",
       "28    1.495491e+09                  BBC   \n",
       "29    1.495494e+09                  BBC   \n",
       "...            ...                  ...   \n",
       "3612  1.486413e+09  The Washington Post   \n",
       "3613  1.486415e+09  The Washington Post   \n",
       "3614  1.486223e+09  The Washington Post   \n",
       "3615  1.486166e+09  The Washington Post   \n",
       "3616  1.486169e+09  The Washington Post   \n",
       "3617  1.485960e+09  The Washington Post   \n",
       "3618  1.485931e+09  The Washington Post   \n",
       "3619  1.485934e+09  The Washington Post   \n",
       "3620  1.485843e+09  The Washington Post   \n",
       "3621  1.485529e+09  The Washington Post   \n",
       "3622  1.485391e+09  The Washington Post   \n",
       "3623  1.485376e+09  The Washington Post   \n",
       "3624  1.485191e+09  The Washington Post   \n",
       "3625  1.485061e+09  The Washington Post   \n",
       "3626  1.485018e+09  The Washington Post   \n",
       "3627  1.484965e+09  The Washington Post   \n",
       "3628  1.484886e+09  The Washington Post   \n",
       "3629  1.484770e+09  The Washington Post   \n",
       "3630  1.484727e+09  The Washington Post   \n",
       "3631  1.484589e+09  The Washington Post   \n",
       "3632  1.484519e+09  The Washington Post   \n",
       "3633  1.484444e+09  The Washington Post   \n",
       "3634  1.484420e+09  The Washington Post   \n",
       "3635  1.484356e+09  The Washington Post   \n",
       "3636  1.484313e+09  The Washington Post   \n",
       "3637  1.484320e+09  The Washington Post   \n",
       "3638  1.484226e+09  The Washington Post   \n",
       "3639  1.484186e+09  The Washington Post   \n",
       "3640  1.484168e+09  The Washington Post   \n",
       "3641  1.484077e+09  The Washington Post   \n",
       "\n",
       "                                                  Title  \n",
       "0     UK terror threat level raised to highest level...  \n",
       "1     Ex-national security adviser 'lied' on securit...  \n",
       "2     'Half a glass of wine every day' increases bre...  \n",
       "3     Tedros Adhanom Ghebreyesus: Ethiopian wins top...  \n",
       "4     The Trump administration has granted a six-mon...  \n",
       "5     Germany cracks Europe-wide burglary gang of 50...  \n",
       "6     Germany cracks Europe-wide burglary gang of 50...  \n",
       "7     Trump 'to do everything' for Middle East peace...  \n",
       "8     Bahrain police 'open fire on sit-in' around Sh...  \n",
       "9     More evidence for WannaCry 'link' to North Kor...  \n",
       "10    Nato hit by Turkish veto on Austria partnershi...  \n",
       "11    Indonesian men caned for gay sex in Aceh - BBC...  \n",
       "12    #MissinginManchester: The fake images circulat...  \n",
       "13                  'Space sperm' passes fertility test  \n",
       "14    A record number of people have complained afte...  \n",
       "15    Gambian ex-President Yahya Jammeh stole $50 mi...  \n",
       "16    US forces kill seven al-Qaeda militants in Yem...  \n",
       "17    Trump to meet Palestinian leader Abbas in West...  \n",
       "18    Amazon adds live TV channels to Prime Video - ...  \n",
       "19    BBC News: Mexican Tarahumara woman wins 50km r...  \n",
       "20           Greece fails to secure fresh bailout funds  \n",
       "21    Park Geun-hye: S Korea awaits trial of impeach...  \n",
       "22     Intersex patients 'routinely lied to by doctors'  \n",
       "23    Stockpiles of dead tiger and rhino body parts ...  \n",
       "24    General election: Theresa May denies social ca...  \n",
       "25    General election 2017: May defends revised soc...  \n",
       "26    Oxford University student Lavinia Woodward: 'N...  \n",
       "27    New rules in UK have come into force which mea...  \n",
       "28    Six UK music festivals to allow people to test...  \n",
       "29    While the US signs a 100 billion dollar arms d...  \n",
       "...                                                 ...  \n",
       "3612  Beijing lodges protest as U.S. sanctions on Ir...  \n",
       "3613  Faced with criticism from Catholic Church, Dut...  \n",
       "3614  Former Ukrainian prime minister says she was r...  \n",
       "3615  Irish angst over St. Patrickâs Day visit to ...  \n",
       "3616  White House issues sanctions targeting Iranâ...  \n",
       "3617  After mosque attack in Canada, critics point t...  \n",
       "3618  Europe Romaniaâs govt decriminalizes officia...  \n",
       "3619  Pakistan, fearing U.S. visa ban, cracks down o...  \n",
       "3620  Philippine national police pulled out of drug ...  \n",
       "3621  Israeli fighting Islamic state in Muslim count...  \n",
       "3622  North Korean media covers Trumpâs inaugurati...  \n",
       "3623  Yahya Jammeh leaves The Gambia smiling after s...  \n",
       "3624  Worldwide, people rally in support of Womenâ...  \n",
       "3625  Russia is limiting expectations for a Trump pr...  \n",
       "3626  Gambiaâs president agrees to step down, foll...  \n",
       "3627  Crack in Antarctic's Larsen C ice shelf grows ...  \n",
       "3628  Senegalese troops enter Gambia to force longti...  \n",
       "3629  Humans have destroyed 7% of Earthâs pristine...  \n",
       "3630  Lithuania fears a Russian invasion. Now, it wa...  \n",
       "3631  Oman accepts 10 Guantanamo detainees at the re...  \n",
       "3632     Austria's far-right party wants to 'ban' Islam  \n",
       "3633  Frustrations rise in Damascus as water pipes r...  \n",
       "3634  After a slow and bloody fight against ISIS, Ir...  \n",
       "3635   2 dead, 17 injured in Istanbul building collapse  \n",
       "3636  Amid Turkeyâs media crackdown, Erdogan prais...  \n",
       "3637  Obama ending special immigration status for mi...  \n",
       "3638                           Kenyan Doctors on Strike  \n",
       "3639  World Economic Forum says capitalism needs urg...  \n",
       "3640  Iceland ousted one leader named in the Panama ...  \n",
       "3641  Brexit could leave fields of rotting crops in ...  \n",
       "\n",
       "[3642 rows x 3 columns]>"
      ]
     },
     "execution_count": 105,
     "metadata": {},
     "output_type": "execute_result"
    }
   ],
   "source": [
    "train.head"
   ]
  },
  {
   "cell_type": "code",
   "execution_count": 106,
   "metadata": {
    "collapsed": false,
    "deletable": true,
    "editable": true
   },
   "outputs": [],
   "source": [
    "import nltk\n",
    "from nltk.corpus import stopwords\n",
    "#print (stopwords.words(\"english\") )\n",
    "from bs4 import BeautifulSoup\n",
    "import re"
   ]
  },
  {
   "cell_type": "code",
   "execution_count": 107,
   "metadata": {
    "collapsed": true,
    "deletable": true,
    "editable": true
   },
   "outputs": [],
   "source": [
    "def title_to_words( raw_title ):\n",
    "    title_text = BeautifulSoup(raw_title).get_text()     \n",
    "    letters_only = re.sub(\"[^a-zA-Z]\", \" \", title_text)\n",
    "    words = letters_only.lower().split()\n",
    "    stops = set(stopwords.words(\"english\"))\n",
    "    meaningful_words = [w for w in words if not w in stops]\n",
    "    return( \" \".join( meaningful_words ))"
   ]
  },
  {
   "cell_type": "code",
   "execution_count": 108,
   "metadata": {
    "collapsed": false,
    "deletable": true,
    "editable": true
   },
   "outputs": [
    {
     "name": "stderr",
     "output_type": "stream",
     "text": [
      "/usr/lib/python3/dist-packages/bs4/__init__.py:166: UserWarning: No parser was explicitly specified, so I'm using the best available HTML parser for this system (\"lxml\"). This usually isn't a problem, but if you run this code on another system, or in a different virtual environment, it may use a different parser and behave differently.\n",
      "\n",
      "To get rid of this warning, change this:\n",
      "\n",
      " BeautifulSoup([your markup])\n",
      "\n",
      "to this:\n",
      "\n",
      " BeautifulSoup([your markup], \"lxml\")\n",
      "\n",
      "  markup_type=markup_type))\n"
     ]
    },
    {
     "name": "stdout",
     "output_type": "stream",
     "text": [
      "Title 1000 of 3642\n",
      "Title 2000 of 3642\n",
      "Title 3000 of 3642\n"
     ]
    }
   ],
   "source": [
    "num_titles = train[\"Title\"].size\n",
    "clean_train_titles = []\n",
    "for i in range( 0, num_titles ):\n",
    "    if( (i+1)%1000 == 0 ):\n",
    "        print (\"Title %d of %d\" % ( i+1, num_titles ))\n",
    "    clean_train_titles.append( title_to_words( train[\"Title\"][i] ) )"
   ]
  },
  {
   "cell_type": "code",
   "execution_count": 109,
   "metadata": {
    "collapsed": false,
    "deletable": true,
    "editable": true
   },
   "outputs": [
    {
     "name": "stdout",
     "output_type": "stream",
     "text": [
      "Creating the bag of words...\n",
      "(3642, 5000)\n"
     ]
    }
   ],
   "source": [
    "print (\"Creating the bag of words...\")\n",
    "from sklearn.feature_extraction.text import CountVectorizer\n",
    "\n",
    "vectorizer = CountVectorizer(analyzer = \"word\",   \\\n",
    "                             tokenizer = None,    \\\n",
    "                             preprocessor = None, \\\n",
    "                             stop_words = None,   \\\n",
    "                             max_features = 5000) \n",
    "\n",
    "train_data_features = vectorizer.fit_transform(clean_train_titles)\n",
    "train_data_features = train_data_features.toarray()\n",
    "print (train_data_features.shape)"
   ]
  },
  {
   "cell_type": "code",
   "execution_count": 110,
   "metadata": {
    "collapsed": false,
    "deletable": true,
    "editable": true
   },
   "outputs": [
    {
     "name": "stdout",
     "output_type": "stream",
     "text": [
      "Training the random forest...\n"
     ]
    }
   ],
   "source": [
    "print (\"Training the random forest...\")\n",
    "from sklearn.ensemble import RandomForestClassifier\n",
    "forest = RandomForestClassifier(n_estimators = 50)\n",
    "forest = forest.fit( train_data_features, train[\"Domain\"] )"
   ]
  },
  {
   "cell_type": "code",
   "execution_count": 111,
   "metadata": {
    "collapsed": false,
    "deletable": true,
    "editable": true
   },
   "outputs": [
    {
     "name": "stdout",
     "output_type": "stream",
     "text": [
      "(930, 3)\n",
      "Cleaning and parsing the test set titles...\n",
      "\n"
     ]
    },
    {
     "name": "stderr",
     "output_type": "stream",
     "text": [
      "/usr/lib/python3/dist-packages/bs4/__init__.py:166: UserWarning: No parser was explicitly specified, so I'm using the best available HTML parser for this system (\"lxml\"). This usually isn't a problem, but if you run this code on another system, or in a different virtual environment, it may use a different parser and behave differently.\n",
      "\n",
      "To get rid of this warning, change this:\n",
      "\n",
      " BeautifulSoup([your markup])\n",
      "\n",
      "to this:\n",
      "\n",
      " BeautifulSoup([your markup], \"lxml\")\n",
      "\n",
      "  markup_type=markup_type))\n"
     ]
    }
   ],
   "source": [
    "test = pd.read_csv(\"data/test.csv\", header=0, encoding='latin1')\n",
    "print (test.shape)\n",
    "num_titles = len(test[\"Title\"])\n",
    "clean_test_titles = [] \n",
    "\n",
    "print( \"Cleaning and parsing the test set titles...\\n\")\n",
    "for i in range(0,num_titles):\n",
    "    if( (i+1) % 1000 == 0 ):\n",
    "        print (\"Title %d of %d\" % (i+1, num_titles))\n",
    "    clean_title = title_to_words( test[\"Title\"][i] )\n",
    "    clean_test_titles.append( clean_title )\n",
    "\n",
    "test_data_features = vectorizer.transform(clean_test_titles)\n",
    "test_data_features = test_data_features.toarray()\n",
    "\n",
    "result = forest.predict(test_data_features)"
   ]
  },
  {
   "cell_type": "code",
   "execution_count": 112,
   "metadata": {
    "collapsed": false,
    "deletable": true,
    "editable": true
   },
   "outputs": [
    {
     "name": "stdout",
     "output_type": "stream",
     "text": [
      "F1 Score: 0.359139784946\n"
     ]
    },
    {
     "data": {
      "image/png": "[encoded data removed]",
      "text/plain": [
       "<matplotlib.figure.Figure at 0x7fa924125f60>"
      ]
     },
     "metadata": {},
     "output_type": "display_data"
    }
   ],
   "source": [
    "output = pd.DataFrame( data={\"Title\":test[\"Title\"], \"Domain\":result} )\n",
    "\n",
    "from sklearn.metrics import confusion_matrix\n",
    "from sklearn.metrics import f1_score\n",
    "y_true = test[\"Domain\"]\n",
    "y_pred = output[\"Domain\"]\n",
    "\n",
    "print(\"F1 Score: \" + str(f1_score(y_true, y_pred, average=\"micro\")))\n",
    "\n",
    "from pandas_ml import ConfusionMatrix\n",
    "import matplotlib.pyplot as plt\n",
    "\n",
    "cm = ConfusionMatrix(y_true, y_pred)\n",
    "\n",
    "cm.plot()\n",
    "plt.show()"
   ]
  }
 ],
 "metadata": {
  "kernelspec": {
   "display_name": "Python 3",
   "language": "python",
   "name": "python3"
  },
  "language_info": {
   "codemirror_mode": {
    "name": "ipython",
    "version": 3
   },
   "file_extension": ".py",
   "mimetype": "text/x-python",
   "name": "python",
   "nbconvert_exporter": "python",
   "pygments_lexer": "ipython3",
   "version": "3.5.2"
  }
 },
 "nbformat": 4,
 "nbformat_minor": 2
}
