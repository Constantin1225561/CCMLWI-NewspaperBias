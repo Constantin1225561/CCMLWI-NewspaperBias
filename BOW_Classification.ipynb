{
 "cells": [
  {
   "cell_type": "code",
   "execution_count": 7,
   "metadata": {
    "collapsed": false,
    "deletable": true,
    "editable": true
   },
   "outputs": [
    {
     "name": "stdout",
     "output_type": "stream",
     "text": [
      "['ABCNews' 'Aljazeera' 'BBC' 'Bloomberg' 'CBC' 'CNN' 'Deutsche Welle'\n",
      " 'Foxnews' 'Independent' 'Reuters' 'Russia Today' 'Telegraph'\n",
      " 'The Guardian' 'The New York Times' 'The Washington Post' 'Yahoo']\n",
      "[ 822  525 3228  436  441 1018  604  381 2046 4160  572  405 2288  482  394\n",
      "  430]\n"
     ]
    }
   ],
   "source": [
    "import random\n",
    "import pandas as pd\n",
    "import numpy as np\n",
    "\n",
    "df = pd.read_csv(\"data/reddit2017.csv\", header=0)\n",
    "#df = pd.read_csv(\"data/redditSelectedDomains.csv\", header=0)\n",
    "un, counts = np.unique(df[\"Domain\"].as_matrix(), return_counts=True)\n",
    "#print(un)\n",
    "#print(counts)\n",
    "\n",
    "selected_domains = []\n",
    "for i in range(0, len(un)):\n",
    "    if counts[i] > 350:\n",
    "        selected_domains.append(un[i])\n",
    "#['abcnews.go.com' 'aljazeera.com' 'bbc.co.uk' 'bbc.com' 'bloomberg.com'\n",
    "# 'cbc.ca' 'cnn.com' 'dw.com' 'edition.cnn.com' 'foxnews.com'\n",
    "# 'independent.co.uk' 'nytimes.com' 'reuters.com' 'rt.com' 'telegraph.co.uk'\n",
    "# 'theguardian.com' 'uk.reuters.com' 'washingtonpost.com' 'yahoo.com']\n",
    "\n",
    "#selected_domains = [#'abcnews.go.com', remove because weak\n",
    "                    #'aljazeera.com', remove because weak\n",
    "                    #'bbc.co.uk', remove because same as bbc.com\n",
    "#                    'bbc.com', 'bloomberg.com',\n",
    "## 'cbc.ca', 'cnn.com', 'dw.com', #'edition.cnn.com', remove because same as ccn.com\n",
    "#                    'foxnews.com',\n",
    "# 'independent.co.uk', 'nytimes.com', 'reuters.com', 'rt.com', #'telegraph.co.uk', remove because weak prediction\n",
    "# 'theguardian.com', #'uk.reuters.com', remove because same as reuters\n",
    "#                    'washingtonpost.com'#, 'yahoo.com' remove because weak prediction\n",
    "#                   ]\n",
    "\n",
    "df['Domain'] = df['Domain'].replace('uk.reuters.com', 'reuters.com')\n",
    "df['Domain'] = df['Domain'].replace('edition.cnn.com', 'cnn.com')\n",
    "df['Domain'] = df['Domain'].replace('bbc.co.uk', 'bbc.com')\n",
    "df['Domain'] = df['Domain'].replace('theguardian.co.uk', 'theguardian.com')\n",
    "\n",
    "df['Domain'] = df['Domain'].replace(\"abcnews.go.com\", \"ABCNews\")\n",
    "df['Domain'] = df['Domain'].replace(\"yahoo.com\", \"Yahoo\")\n",
    "df['Domain'] = df['Domain'].replace(\"aljazeera.com\", \"Aljazeera\")\n",
    "df['Domain'] = df['Domain'].replace(\"telegraph.co.uk\", \"Telegraph\")\n",
    "df['Domain'] = df['Domain'].replace('bbc.com', 'BBC')\n",
    "df['Domain'] = df['Domain'].replace('bloomberg.com', 'Bloomberg')\n",
    "df['Domain'] = df['Domain'].replace('cbc.ca', 'CBC')\n",
    "df['Domain'] = df['Domain'].replace('cnn.com', 'CNN')\n",
    "df['Domain'] = df['Domain'].replace('dw.com', 'Deutsche Welle')\n",
    "df['Domain'] = df['Domain'].replace('foxnews.com', 'Foxnews')\n",
    "df['Domain'] = df['Domain'].replace('independent.co.uk', 'Independent')\n",
    "df['Domain'] = df['Domain'].replace('nytimes.com', 'The New York Times')\n",
    "df['Domain'] = df['Domain'].replace('reuters.com', 'Reuters')\n",
    "df['Domain'] = df['Domain'].replace('rt.com', 'Russia Today')\n",
    "df['Domain'] = df['Domain'].replace('theguardian.com', 'The Guardian')\n",
    "df['Domain'] = df['Domain'].replace('washingtonpost.com', 'The Washington Post')\n",
    "selected_domains = [w.replace(\"abcnews.go.com\", \"ABCNews\") for w in selected_domains]\n",
    "selected_domains = [w.replace(\"yahoo.com\", \"Yahoo\") for w in selected_domains]\n",
    "selected_domains = [w.replace(\"aljazeera.com\", \"Aljazeera\") for w in selected_domains]\n",
    "selected_domains = [w.replace(\"telegraph.co.uk\", \"Telegraph\") for w in selected_domains]\n",
    "selected_domains = [w.replace(\"bbc.com\", \"BBC\") for w in selected_domains]\n",
    "selected_domains = [w.replace('bloomberg.com', 'Bloomberg') for w in selected_domains]\n",
    "selected_domains = [w.replace('cbc.ca', 'CBC') for w in selected_domains]\n",
    "selected_domains = [w.replace('cnn.com', 'CNN') for w in selected_domains]\n",
    "selected_domains = [w.replace('dw.com', 'Deutsche Welle') for w in selected_domains]\n",
    "selected_domains = [w.replace('foxnews.com', 'Foxnews') for w in selected_domains]\n",
    "selected_domains = [w.replace('independent.co.uk', 'Independent') for w in selected_domains]\n",
    "selected_domains = [w.replace('nytimes.com', 'The New York Times') for w in selected_domains]\n",
    "selected_domains = [w.replace('reuters.com', 'Reuters') for w in selected_domains]\n",
    "selected_domains = [w.replace('rt.com', 'Russia Today') for w in selected_domains]\n",
    "selected_domains = [w.replace('theguardian.com', 'The Guardian') for w in selected_domains]\n",
    "selected_domains = [w.replace('washingtonpost.com', 'The Washington Post') for w in selected_domains]\n",
    "\n",
    "df = df[df[\"Domain\"].isin(selected_domains)]\n",
    "un, counts = np.unique(df[\"Domain\"].as_matrix(), return_counts=True)\n",
    "print(un)\n",
    "print(counts)\n",
    "min_counts = min(counts)\n",
    "#print(min_counts)\n",
    "\n",
    "train = pd.DataFrame()\n",
    "test = pd.DataFrame()\n",
    "\n",
    "for i in range(0, len(selected_domains)):\n",
    "    domain = selected_domains[i]\n",
    "    ddf = df[df[\"Domain\"] == domain]\n",
    "    ddf = ddf.head(min_counts)\n",
    "    msk = np.random.rand(len(ddf)) < 0.8\n",
    "    train = train.append(ddf[msk])\n",
    "    test = test.append(ddf[~msk])\n",
    "\n",
    "train.to_csv( \"data/train.csv\", index=False, quotechar='\"',escapechar='\\\\')\n",
    "test.to_csv( \"data/test.csv\", index=False, quotechar='\"',escapechar='\\\\')"
   ]
  },
  {
   "cell_type": "code",
   "execution_count": 8,
   "metadata": {
    "collapsed": false,
    "deletable": true,
    "editable": true
   },
   "outputs": [],
   "source": [
    "import pandas as pd\n",
    "train = pd.read_csv(\"data/train.csv\", header=0, encoding='latin1')"
   ]
  },
  {
   "cell_type": "code",
   "execution_count": 9,
   "metadata": {
    "collapsed": false,
    "deletable": true,
    "editable": true
   },
   "outputs": [
    {
     "data": {
      "text/plain": [
       "<bound method NDFrame.head of            Created   Domain                                              Title\n",
       "0     1.495587e+09  ABCNews  Man acknowledges trying to sell satellite secr...\n",
       "1     1.495587e+09  ABCNews  Corruption trial begins for ex-South Korean Pr...\n",
       "2     1.495585e+09  ABCNews  2 UN peacekeepers killed in ambush in northern...\n",
       "3     1.495587e+09  ABCNews  US military conducts ground raid in Yemen on A...\n",
       "4     1.495589e+09  ABCNews  Likely presidential candidate in Egypt ordered...\n",
       "5     1.495589e+09  ABCNews  Special aide to Brazil's Temer arrested in cor...\n",
       "6     1.495564e+09  ABCNews  Activists: Bahrain police raid Shiite cleric's...\n",
       "7     1.495555e+09  ABCNews  Explosions strike Syrian cities of Damascus an...\n",
       "8     1.495544e+09  ABCNews  Human rights watchdog condemns Thailand hospit...\n",
       "9     1.495526e+09  ABCNews  China says no mining in its immediate plans fo...\n",
       "10    1.495503e+09  ABCNews  4 climbers die near top of Mount Everest in tr...\n",
       "11    1.495503e+09  ABCNews  Man set afire during Venezuela protest as deat...\n",
       "12    1.495503e+09  ABCNews  1 dead, several injured in protest clashes in ...\n",
       "13    1.495503e+09  ABCNews  Bird-riding loses luster in South Africa's ost...\n",
       "14    1.495494e+09  ABCNews  Michael Flynn will invoke the Fifth Amendment ...\n",
       "15    1.495490e+09  ABCNews            The Latest: Trump prays at Western Wall\n",
       "16    1.495489e+09  ABCNews  Chinese online retailer developing one-ton del...\n",
       "17    1.495490e+09  ABCNews  Clashes in Syrian city of Daraa despite it bei...\n",
       "18    1.495488e+09  ABCNews       Spain PM accuses Catalan leader of blackmail\n",
       "19    1.495476e+09  ABCNews  North Korea says ready to deploy, mass-produce...\n",
       "20    1.495467e+09  ABCNews  Trump to meet with Israeli and Palestinian lea...\n",
       "21    1.495465e+09  ABCNews  Asia-Pacific ministers meet seeking to finaliz...\n",
       "22    1.495419e+09  ABCNews  Melania and Ivanka Trump promote women's empow...\n",
       "23    1.495422e+09  ABCNews  Police: Gunmen kill 6 policemen in attacks in ...\n",
       "24    1.495417e+09  ABCNews  Gunbattle kills 4 rebels, 3 Indian soldiers in...\n",
       "25    1.495418e+09  ABCNews  Hungary: Protesters rally in defense of univer...\n",
       "26    1.495407e+09  ABCNews  Swiss vote to withdraw country from use of nuc...\n",
       "27    1.495406e+09  ABCNews  Erdogan to return to Turkey's ruling party as ...\n",
       "28    1.495407e+09  ABCNews  Bulgaria seizes big haul of heroin bound for t...\n",
       "29    1.495400e+09  ABCNews  Afghan official: 20 forces killed in coordinat...\n",
       "...            ...      ...                                                ...\n",
       "4834  1.484873e+09    Yahoo  Muslim clerics attack rally for missing Pakist...\n",
       "4835  1.484759e+09    Yahoo  Ethics watchdog probes Justin Trudeau's lavish...\n",
       "4836  1.484738e+09    Yahoo  Estonians join paramilitary forces to face Rus...\n",
       "4837  1.484710e+09    Yahoo  Pakistani right cries 'blasphemy' to muzzle pr...\n",
       "4838  1.484657e+09    Yahoo  Lithuania to build fence on border with Russia...\n",
       "4839  1.484654e+09    Yahoo  88 million tons a year: Auditors decry EU food...\n",
       "4840  1.484667e+09    Yahoo  Poroshenko says Ukrainians at risk of losing f...\n",
       "4841  1.484670e+09    Yahoo  Philippines defense minister says China arms o...\n",
       "4842  1.484668e+09    Yahoo  Oman received 10 inmates from the US detention...\n",
       "4843  1.484662e+09    Yahoo  Zimbabwe police detained a pastor who claimed ...\n",
       "4844  1.484662e+09    Yahoo  Britain will not seek 'half in, half out' EU d...\n",
       "4845  1.484662e+09    Yahoo  Ten people were found dead in Guerrero, one of...\n",
       "4846  1.484669e+09    Yahoo  EU parliament in tense election for new president\n",
       "4847  1.484651e+09    Yahoo  More than 100 of Britain's top climate scienti...\n",
       "4848  1.484637e+09    Yahoo        Hamas slams 'absurd' Paris peace conference\n",
       "4849  1.484644e+09    Yahoo  Poroshenko says Ukrainians at risk of losing f...\n",
       "4850  1.484627e+09    Yahoo  Australia said it was \"deeply disappointed\" Ja...\n",
       "4851  1.484628e+09    Yahoo  Saudi says was positive about the way the inco...\n",
       "4852  1.484628e+09    Yahoo  Syrian rebel groups to attend peace talks back...\n",
       "4853  1.484628e+09    Yahoo  South Sudan claims mandate has expired for mor...\n",
       "4854  1.484597e+09    Yahoo  South Korea prosecutor seeks arrest of Samsung...\n",
       "4855  1.484594e+09    Yahoo  Kremlin counts days to Trump's inauguration, b...\n",
       "4856  1.484587e+09    Yahoo  Trump's offer to Putin: an end to sanctions fo...\n",
       "4857  1.484586e+09    Yahoo  South Korea prosecutor seek arrest of Samsung ...\n",
       "4858  1.484558e+09    Yahoo  Former CIA officer in Moscow says claims in Tr...\n",
       "4859  1.484547e+09    Yahoo  Thirty believed killed in latest Brazil jail b...\n",
       "4860  1.484555e+09    Yahoo  If US wants Kurds at Syria talks, invite IS to...\n",
       "4861  1.484470e+09    Yahoo  'This time is different': Istanbul tourism ree...\n",
       "4862  1.484437e+09    Yahoo  African Union to cease recognizing Jammeh as G...\n",
       "4863  1.484427e+09    Yahoo       U.S. troops' move to Poland unnerves Kremlin\n",
       "\n",
       "[4864 rows x 3 columns]>"
      ]
     },
     "execution_count": 9,
     "metadata": {},
     "output_type": "execute_result"
    }
   ],
   "source": [
    "train.head"
   ]
  },
  {
   "cell_type": "code",
   "execution_count": 10,
   "metadata": {
    "collapsed": false,
    "deletable": true,
    "editable": true
   },
   "outputs": [],
   "source": [
    "import nltk\n",
    "from nltk.corpus import stopwords\n",
    "#print (stopwords.words(\"english\") )\n",
    "from bs4 import BeautifulSoup\n",
    "import re"
   ]
  },
  {
   "cell_type": "code",
   "execution_count": 11,
   "metadata": {
    "collapsed": true,
    "deletable": true,
    "editable": true
   },
   "outputs": [],
   "source": [
    "def title_to_words( raw_title ):\n",
    "    title_text = BeautifulSoup(raw_title).get_text()     \n",
    "    letters_only = re.sub(\"[^a-zA-Z]\", \" \", title_text)\n",
    "    words = letters_only.lower().split()\n",
    "    stops = set(stopwords.words(\"english\"))\n",
    "    meaningful_words = [w for w in words if not w in stops]\n",
    "    return( \" \".join( meaningful_words ))"
   ]
  },
  {
   "cell_type": "code",
   "execution_count": 12,
   "metadata": {
    "collapsed": false,
    "deletable": true,
    "editable": true
   },
   "outputs": [
    {
     "name": "stderr",
     "output_type": "stream",
     "text": [
      "/usr/lib/python3/dist-packages/bs4/__init__.py:166: UserWarning: No parser was explicitly specified, so I'm using the best available HTML parser for this system (\"lxml\"). This usually isn't a problem, but if you run this code on another system, or in a different virtual environment, it may use a different parser and behave differently.\n",
      "\n",
      "To get rid of this warning, change this:\n",
      "\n",
      " BeautifulSoup([your markup])\n",
      "\n",
      "to this:\n",
      "\n",
      " BeautifulSoup([your markup], \"lxml\")\n",
      "\n",
      "  markup_type=markup_type))\n"
     ]
    },
    {
     "name": "stdout",
     "output_type": "stream",
     "text": [
      "Title 1000 of 4864\n",
      "Title 2000 of 4864\n",
      "Title 3000 of 4864\n",
      "Title 4000 of 4864\n"
     ]
    }
   ],
   "source": [
    "num_titles = train[\"Title\"].size\n",
    "clean_train_titles = []\n",
    "for i in range( 0, num_titles ):\n",
    "    if( (i+1)%1000 == 0 ):\n",
    "        print (\"Title %d of %d\" % ( i+1, num_titles ))\n",
    "    clean_train_titles.append( title_to_words( train[\"Title\"][i] ) )"
   ]
  },
  {
   "cell_type": "code",
   "execution_count": 13,
   "metadata": {
    "collapsed": false,
    "deletable": true,
    "editable": true
   },
   "outputs": [
    {
     "name": "stdout",
     "output_type": "stream",
     "text": [
      "Creating the bag of words...\n",
      "(4864, 5000)\n"
     ]
    }
   ],
   "source": [
    "print (\"Creating the bag of words...\")\n",
    "from sklearn.feature_extraction.text import CountVectorizer\n",
    "\n",
    "vectorizer = CountVectorizer(analyzer = \"word\",   \\\n",
    "                             tokenizer = None,    \\\n",
    "                             preprocessor = None, \\\n",
    "                             stop_words = None,   \\\n",
    "                             max_features = 5000) \n",
    "\n",
    "train_data_features = vectorizer.fit_transform(clean_train_titles)\n",
    "train_data_features = train_data_features.toarray()\n",
    "print (train_data_features.shape)"
   ]
  },
  {
   "cell_type": "code",
   "execution_count": 14,
   "metadata": {
    "collapsed": false,
    "deletable": true,
    "editable": true
   },
   "outputs": [
    {
     "name": "stdout",
     "output_type": "stream",
     "text": [
      "Training the random forest...\n"
     ]
    }
   ],
   "source": [
    "print (\"Training the random forest...\")\n",
    "from sklearn.ensemble import RandomForestClassifier\n",
    "forest = RandomForestClassifier(n_estimators = 50)\n",
    "forest = forest.fit( train_data_features, train[\"Domain\"] )"
   ]
  },
  {
   "cell_type": "code",
   "execution_count": 15,
   "metadata": {
    "collapsed": false,
    "deletable": true,
    "editable": true
   },
   "outputs": [
    {
     "name": "stdout",
     "output_type": "stream",
     "text": [
      "(1232, 3)\n",
      "Cleaning and parsing the test set titles...\n",
      "\n"
     ]
    },
    {
     "name": "stderr",
     "output_type": "stream",
     "text": [
      "/usr/lib/python3/dist-packages/bs4/__init__.py:166: UserWarning: No parser was explicitly specified, so I'm using the best available HTML parser for this system (\"lxml\"). This usually isn't a problem, but if you run this code on another system, or in a different virtual environment, it may use a different parser and behave differently.\n",
      "\n",
      "To get rid of this warning, change this:\n",
      "\n",
      " BeautifulSoup([your markup])\n",
      "\n",
      "to this:\n",
      "\n",
      " BeautifulSoup([your markup], \"lxml\")\n",
      "\n",
      "  markup_type=markup_type))\n"
     ]
    },
    {
     "name": "stdout",
     "output_type": "stream",
     "text": [
      "Title 1000 of 1232\n"
     ]
    }
   ],
   "source": [
    "test = pd.read_csv(\"data/test.csv\", header=0, encoding='latin1')\n",
    "print (test.shape)\n",
    "num_titles = len(test[\"Title\"])\n",
    "clean_test_titles = [] \n",
    "\n",
    "print( \"Cleaning and parsing the test set titles...\\n\")\n",
    "for i in range(0,num_titles):\n",
    "    if( (i+1) % 1000 == 0 ):\n",
    "        print (\"Title %d of %d\" % (i+1, num_titles))\n",
    "    clean_title = title_to_words( test[\"Title\"][i] )\n",
    "    clean_test_titles.append( clean_title )\n",
    "\n",
    "test_data_features = vectorizer.transform(clean_test_titles)\n",
    "test_data_features = test_data_features.toarray()\n",
    "\n",
    "result = forest.predict(test_data_features)"
   ]
  },
  {
   "cell_type": "code",
   "execution_count": 16,
   "metadata": {
    "collapsed": false,
    "deletable": true,
    "editable": true
   },
   "outputs": [
    {
     "name": "stdout",
     "output_type": "stream",
     "text": [
      "F1 Score: 0.291396103896\n"
     ]
    },
    {
     "data": {
      "image/png": "[encoded data removed]",
      "text/plain": [
       "<matplotlib.figure.Figure at 0x7f8996704e80>"
      ]
     },
     "metadata": {},
     "output_type": "display_data"
    }
   ],
   "source": [
    "output = pd.DataFrame( data={\"Title\":test[\"Title\"], \"Domain\":result} )\n",
    "\n",
    "from sklearn.metrics import confusion_matrix\n",
    "from sklearn.metrics import f1_score\n",
    "y_true = test[\"Domain\"]\n",
    "y_pred = output[\"Domain\"]\n",
    "\n",
    "print(\"F1 Score: \" + str(f1_score(y_true, y_pred, average=\"micro\")))\n",
    "\n",
    "from pandas_ml import ConfusionMatrix\n",
    "import matplotlib.pyplot as plt\n",
    "\n",
    "cm = ConfusionMatrix(y_true, y_pred)\n",
    "\n",
    "cm.plot()\n",
    "plt.show()"
   ]
  },
  {
   "cell_type": "code",
   "execution_count": 17,
   "metadata": {
    "collapsed": false,
    "deletable": true,
    "editable": true
   },
   "outputs": [
    {
     "name": "stdout",
     "output_type": "stream",
     "text": [
      "confirm [[ 0.02        0.          0.          0.          0.26        0.02        0.\n",
      "   0.02        0.          0.          0.          0.          0.24533333\n",
      "   0.41466667  0.02        0.        ]]\n",
      "voted [[ 0.02        0.02        0.          0.          0.          0.04        0.\n",
      "   0.04        0.          0.          0.          0.          0.31533333\n",
      "   0.54466667  0.02        0.        ]]\n",
      "island [[ 0.06        0.          0.08        0.          0.02        0.02        0.\n",
      "   0.02        0.          0.          0.          0.          0.18533333\n",
      "   0.53466667  0.02        0.06      ]]\n",
      "licence [[ 0.02        0.          0.          0.          0.          0.04        0.\n",
      "   0.04        0.          0.          0.          0.06        0.29866667\n",
      "   0.52133333  0.02        0.        ]]\n",
      "supervised [[ 0.02   0.     0.     0.     0.     0.04   0.     0.04   0.     0.     0.\n",
      "   0.     0.332  0.548  0.02   0.   ]]\n",
      "dangerous [[ 0.02   0.     0.     0.     0.     0.04   0.     0.     0.     0.26   0.\n",
      "   0.     0.232  0.428  0.02   0.   ]]\n",
      "team [[ 0.02        0.          0.          0.          0.04        0.02        0.22\n",
      "   0.02        0.          0.          0.          0.          0.25533333\n",
      "   0.40466667  0.02        0.        ]]\n",
      "internal [[ 0.02        0.          0.          0.          0.          0.04        0.\n",
      "   0.04        0.          0.          0.          0.          0.31533333\n",
      "   0.56466667  0.02        0.        ]]\n",
      "publishing [[ 0.02        0.          0.          0.          0.          0.04        0.\n",
      "   0.04        0.          0.          0.          0.          0.31533333\n",
      "   0.56466667  0.02        0.        ]]\n",
      "tall [[ 0.02        0.          0.          0.          0.          0.04        0.\n",
      "   0.04        0.          0.          0.          0.          0.31533333\n",
      "   0.56466667  0.02        0.        ]]\n"
     ]
    }
   ],
   "source": [
    "f_list = sorted(zip(map(lambda x: round(x, 4), forest.feature_importances_), vectorizer.vocabulary_), reverse=True)\n",
    "for i in range(0,10):\n",
    "    #print(f_list[i])\n",
    "    #print(f_list[i][1])\n",
    "    clean_test_titles = [str(f_list[i][1])]\n",
    "    test_data_features = vectorizer.transform(clean_test_titles)\n",
    "    test_data_features = test_data_features.toarray()\n",
    "    result = forest.predict_proba(test_data_features)\n",
    "    print (str(f_list[i][1])+\" \" + str(result))\n",
    "\n",
    "#print(f_list)"
   ]
  },
  {
   "cell_type": "code",
   "execution_count": 18,
   "metadata": {
    "collapsed": false,
    "deletable": true,
    "editable": true
   },
   "outputs": [
    {
     "name": "stdout",
     "output_type": "stream",
     "text": [
      "[ 0.02   0.     0.42   0.     0.     0.     0.     0.     0.     0.     0.04\n",
      "  0.16   0.122  0.218  0.02   0.   ]\n",
      "children ['BBC']\n",
      "[ 0.04        0.          0.          0.          0.          0.04        0.06\n",
      "  0.04        0.          0.          0.          0.          0.27533333\n",
      "  0.50466667  0.04        0.        ]\n",
      "kids ['The New York Times']\n"
     ]
    }
   ],
   "source": [
    "words = [\"children\", \"kids\"]\n",
    "for word in words:\n",
    "    test_data_features = vectorizer.transform([word])\n",
    "    test_data_features = test_data_features.toarray()\n",
    "    print(forest.predict_proba(test_data_features)[0])\n",
    "    result = forest.predict(test_data_features)\n",
    "    print (word + \" \" + str(result))"
   ]
  },
  {
   "cell_type": "raw",
   "metadata": {
    "collapsed": false,
    "deletable": true,
    "editable": true
   },
   "source": [
    "for i in range(0,len(f_list)):\n",
    "    word = str(f_list[i][1])\n",
    "    test_data_features = vectorizer.transform([word])\n",
    "    test_data_features = test_data_features.toarray()\n",
    "    maxProba = max(forest.predict_proba(test_data_features)[0])\n",
    "    if maxProba > 0.6:\n",
    "        result = forest.predict(test_data_features)\n",
    "        #print(forest.predict_proba(test_data_features))\n",
    "        #if \"Independent\" in str(result):\n",
    "            #for j in range(0, int (round(maxProba*20))):\n",
    "                #print (word)\n",
    "        print (word + \",\"+ str(maxProba) +\",\" + str(result[0]))"
   ]
  }
 ],
 "metadata": {
  "kernelspec": {
   "display_name": "Python 3",
   "language": "python",
   "name": "python3"
  },
  "language_info": {
   "codemirror_mode": {
    "name": "ipython",
    "version": 3
   },
   "file_extension": ".py",
   "mimetype": "text/x-python",
   "name": "python",
   "nbconvert_exporter": "python",
   "pygments_lexer": "ipython3",
   "version": "3.5.2"
  }
 },
 "nbformat": 4,
 "nbformat_minor": 2
}
