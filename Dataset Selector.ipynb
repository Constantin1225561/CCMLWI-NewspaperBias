{
 "cells": [
  {
   "cell_type": "code",
   "execution_count": 15,
   "metadata": {
    "collapsed": false
   },
   "outputs": [
    {
     "name": "stdout",
     "output_type": "stream",
     "text": [
      "['bbc.com' 'cnn.com' 'foxnews.com' 'independent.co.uk' 'reuters.com'\n",
      " 'theguardian.com']\n",
      "[11694  3567  1418  4722 12879  8797]\n"
     ]
    }
   ],
   "source": [
    "import random\n",
    "import pandas as pd\n",
    "import numpy as np\n",
    "\n",
    "df = pd.read_csv(\"data/reddit2017.csv\", header=0)\n",
    "df = df.append(pd.read_csv(\"data/reddit2016.csv\", header=0))\n",
    "#df = df.append(pd.read_csv(\"data/reddit2015.csv\", header=0))\n",
    "#df = df.append(pd.read_csv(\"data/reddit2014.csv\", header=0))\n",
    "\n",
    "selected_domains = [#'abcnews.go.com', remove because weak\n",
    "                    #'aljazeera.com', remove because weak\n",
    "                    #'bbc.co.uk', remove because same as bbc.com\n",
    "                    'bbc.com', #'bloomberg.com', size\n",
    " #'cbc.ca', size\n",
    "    'cnn.com',\n",
    "    #'dw.com', small\n",
    "    #'edition.cnn.com', remove because same as ccn.com\n",
    "                    'foxnews.com',\n",
    " 'independent.co.uk', #'nytimes.com', small\n",
    "    'reuters.com', #'rt.com', size\n",
    "    #'telegraph.co.uk', remove because weak prediction\n",
    " 'theguardian.com', #'uk.reuters.com', remove because same as reuters\n",
    "                    #'washingtonpost.com' small\n",
    "    #, 'yahoo.com' remove because weak prediction\n",
    "                   ]\n",
    "\n",
    "df['Domain'] = df['Domain'].replace('uk.reuters.com', 'reuters.com')\n",
    "df['Domain'] = df['Domain'].replace('edition.cnn.com', 'cnn.com')\n",
    "df['Domain'] = df['Domain'].replace('bbc.co.uk', 'bbc.com')\n",
    "df['Domain'] = df['Domain'].replace('theguardian.co.uk', 'theguardian.com')\n",
    "df = df[df[\"Domain\"].isin(selected_domains)]\n",
    "\n",
    "un, counts = np.unique(df[\"Domain\"].as_matrix(), return_counts=True)\n",
    "print(un)\n",
    "print(counts)\n",
    "\n",
    "df.to_csv( \"data/redditSelectedDomains.csv\", index=False, quotechar='\"',escapechar='\\\\')"
   ]
  }
 ],
 "metadata": {
  "kernelspec": {
   "display_name": "Python 3",
   "language": "python",
   "name": "python3"
  },
  "language_info": {
   "codemirror_mode": {
    "name": "ipython",
    "version": 3
   },
   "file_extension": ".py",
   "mimetype": "text/x-python",
   "name": "python",
   "nbconvert_exporter": "python",
   "pygments_lexer": "ipython3",
   "version": "3.5.2"
  }
 },
 "nbformat": 4,
 "nbformat_minor": 2
}
